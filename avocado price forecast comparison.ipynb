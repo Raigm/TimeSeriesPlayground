{
 "cells": [
  {
   "cell_type": "code",
   "execution_count": 2,
   "metadata": {},
   "outputs": [
    {
     "name": "stdout",
     "output_type": "stream",
     "text": [
      "Collecting fbprophet\n",
      "  Downloading https://files.pythonhosted.org/packages/1a/b5/9c3fefa8a7b839729df57deedf0a69815841dfb88f0df911f34d998230b7/fbprophet-0.7.1.tar.gz (64kB)\n",
      "Requirement already satisfied: Cython>=0.22 in c:\\programdata\\anaconda3\\lib\\site-packages (from fbprophet) (0.29.13)\n",
      "Collecting cmdstanpy==0.9.5 (from fbprophet)\n",
      "  Downloading https://files.pythonhosted.org/packages/e3/e2/204c9c6beaf9e05ad28bd589c154afff35dffa6166d76841d3c0dec6c1e3/cmdstanpy-0.9.5-py3-none-any.whl\n",
      "Collecting pystan>=2.14 (from fbprophet)\n",
      "  Downloading https://files.pythonhosted.org/packages/16/f9/fd70954890d5110a663139d8cb015a9ead713798db06cc2dc784635bb9f0/pystan-2.19.1.1-cp37-cp37m-win_amd64.whl (79.8MB)\n",
      "Requirement already satisfied: numpy>=1.15.4 in c:\\programdata\\anaconda3\\lib\\site-packages (from fbprophet) (1.16.5)\n",
      "Collecting pandas>=1.0.4 (from fbprophet)\n",
      "  Downloading https://files.pythonhosted.org/packages/f6/98/7a6f3396f1741af288c13fba5fb6fa6055b2c802f9383797f149f27081d9/pandas-1.2.1-cp37-cp37m-win_amd64.whl (9.1MB)\n",
      "Requirement already satisfied: matplotlib>=2.0.0 in c:\\programdata\\anaconda3\\lib\\site-packages (from fbprophet) (3.1.1)\n",
      "Collecting LunarCalendar>=0.0.9 (from fbprophet)\n",
      "  Using cached https://files.pythonhosted.org/packages/ab/e0/a52ffc02395474858552ca6437226e23ad67e25fd85cb387f02e479cfe01/LunarCalendar-0.0.9-py2.py3-none-any.whl\n",
      "Collecting convertdate>=2.1.2 (from fbprophet)\n",
      "  Downloading https://files.pythonhosted.org/packages/ca/7b/ba752f4383dd775de1fa825d4a3bf1df4109be9a1986c905232c83373615/convertdate-2.3.0-py3-none-any.whl (45kB)\n",
      "Collecting holidays>=0.10.2 (from fbprophet)\n",
      "  Downloading https://files.pythonhosted.org/packages/cc/14/a8a30bae14091984acd262526a258b1890c3ada0e5ae0da747e2b8f2b77d/holidays-0.10.4.tar.gz (120kB)\n",
      "Collecting setuptools-git>=1.2 (from fbprophet)\n",
      "  Using cached https://files.pythonhosted.org/packages/05/97/dd99fa9c0d9627a7b3c103a00f1566d8193aca8d473884ed258cca82b06f/setuptools_git-1.2-py2.py3-none-any.whl\n",
      "Requirement already satisfied: python-dateutil>=2.8.0 in c:\\programdata\\anaconda3\\lib\\site-packages (from fbprophet) (2.8.0)\n",
      "Requirement already satisfied: tqdm>=4.36.1 in c:\\programdata\\anaconda3\\lib\\site-packages (from fbprophet) (4.36.1)\n",
      "Requirement already satisfied: pytz>=2017.3 in c:\\programdata\\anaconda3\\lib\\site-packages (from pandas>=1.0.4->fbprophet) (2019.3)\n",
      "Requirement already satisfied: cycler>=0.10 in c:\\programdata\\anaconda3\\lib\\site-packages (from matplotlib>=2.0.0->fbprophet) (0.10.0)\n",
      "Requirement already satisfied: kiwisolver>=1.0.1 in c:\\programdata\\anaconda3\\lib\\site-packages (from matplotlib>=2.0.0->fbprophet) (1.1.0)\n",
      "Requirement already satisfied: pyparsing!=2.0.4,!=2.1.2,!=2.1.6,>=2.0.1 in c:\\programdata\\anaconda3\\lib\\site-packages (from matplotlib>=2.0.0->fbprophet) (2.4.2)\n",
      "Collecting ephem>=3.7.5.3 (from LunarCalendar>=0.0.9->fbprophet)\n",
      "  Downloading https://files.pythonhosted.org/packages/88/94/db8a614ce94b5de66a3b8812699e607d4907388fac9848e6e44b0b985247/ephem-3.7.7.1-cp37-cp37m-win_amd64.whl (821kB)\n",
      "Collecting pymeeus<=1,>=0.3.6 (from convertdate>=2.1.2->fbprophet)\n",
      "  Using cached https://files.pythonhosted.org/packages/2c/30/47957d487fff94083bdd17247734c165f12b5ac39a3abd1aa476a93eea6e/PyMeeus-0.3.7.tar.gz\n",
      "Requirement already satisfied: six in c:\\programdata\\anaconda3\\lib\\site-packages (from holidays>=0.10.2->fbprophet) (1.12.0)\n",
      "Collecting korean_lunar_calendar (from holidays>=0.10.2->fbprophet)\n",
      "  Downloading https://files.pythonhosted.org/packages/15/41/aa426a4a9141afd8e7f5c8312bb59d5693274f3f7b34e73bdce4ee48b4c1/korean_lunar_calendar-0.2.1-py3-none-any.whl\n",
      "Requirement already satisfied: setuptools in c:\\programdata\\anaconda3\\lib\\site-packages (from kiwisolver>=1.0.1->matplotlib>=2.0.0->fbprophet) (41.4.0)\n",
      "Building wheels for collected packages: fbprophet, holidays, pymeeus\n",
      "  Building wheel for fbprophet (setup.py): started\n",
      "  Building wheel for fbprophet (setup.py): finished with status 'error'\n",
      "  Running setup.py clean for fbprophet\n",
      "  Building wheel for holidays (setup.py): started\n",
      "  Building wheel for holidays (setup.py): finished with status 'done'\n",
      "  Created wheel for holidays: filename=holidays-0.10.4-cp37-none-any.whl size=124781 sha256=f0e456303a9ed01c92f3bf3f321789cbae688d11fc65bafc5c82199cdec6ce64\n",
      "  Stored in directory: C:\\Users\\raigo\\AppData\\Local\\pip\\Cache\\wheels\\40\\31\\ad\\edd435075e126fb806bd4dcc6af1c4b5554e53c7562602b51d\n",
      "  Building wheel for pymeeus (setup.py): started\n",
      "  Building wheel for pymeeus (setup.py): finished with status 'done'\n",
      "  Created wheel for pymeeus: filename=PyMeeus-0.3.7-cp37-none-any.whl size=702881 sha256=e02dc1a8a6beb8ed0ae51ab1c3e35ca7481053e3c9687421cab6af07f7d7fac1\n",
      "  Stored in directory: C:\\Users\\raigo\\AppData\\Local\\pip\\Cache\\wheels\\8d\\1a\\e7\\684cd77a99aac294f976db834fe613b5424f7c4d75ffb0b84d\n",
      "Successfully built holidays pymeeus\n",
      "Failed to build fbprophet\n",
      "Installing collected packages: pandas, cmdstanpy, pystan, ephem, LunarCalendar, pymeeus, convertdate, korean-lunar-calendar, holidays, setuptools-git, fbprophet\n",
      "  Found existing installation: pandas 0.25.1\n",
      "    Uninstalling pandas-0.25.1:\n"
     ]
    },
    {
     "name": "stderr",
     "output_type": "stream",
     "text": [
      "  ERROR: Command errored out with exit status 1:\n",
      "   command: 'C:\\ProgramData\\Anaconda3\\python.exe' -u -c 'import sys, setuptools, tokenize; sys.argv[0] = '\"'\"'C:\\\\Users\\\\raigo\\\\AppData\\\\Local\\\\Temp\\\\pip-install-ly2f04rq\\\\fbprophet\\\\setup.py'\"'\"'; __file__='\"'\"'C:\\\\Users\\\\raigo\\\\AppData\\\\Local\\\\Temp\\\\pip-install-ly2f04rq\\\\fbprophet\\\\setup.py'\"'\"';f=getattr(tokenize, '\"'\"'open'\"'\"', open)(__file__);code=f.read().replace('\"'\"'\\r\\n'\"'\"', '\"'\"'\\n'\"'\"');f.close();exec(compile(code, __file__, '\"'\"'exec'\"'\"'))' bdist_wheel -d 'C:\\Users\\raigo\\AppData\\Local\\Temp\\pip-wheel-0du4nc5g' --python-tag cp37\n",
      "       cwd: C:\\Users\\raigo\\AppData\\Local\\Temp\\pip-install-ly2f04rq\\fbprophet\\\n",
      "  Complete output (44 lines):\n",
      "  running bdist_wheel\n",
      "  running build\n",
      "  running build_py\n",
      "  creating build\n",
      "  creating build\\lib\n",
      "  creating build\\lib\\fbprophet\n",
      "  creating build\\lib\\fbprophet\\stan_model\n",
      "  Traceback (most recent call last):\n",
      "    File \"<string>\", line 1, in <module>\n",
      "    File \"C:\\Users\\raigo\\AppData\\Local\\Temp\\pip-install-ly2f04rq\\fbprophet\\setup.py\", line 149, in <module>\n",
      "      long_description_content_type='text/markdown',\n",
      "    File \"C:\\ProgramData\\Anaconda3\\lib\\site-packages\\setuptools\\__init__.py\", line 145, in setup\n",
      "      return distutils.core.setup(**attrs)\n",
      "    File \"C:\\ProgramData\\Anaconda3\\lib\\distutils\\core.py\", line 148, in setup\n",
      "      dist.run_commands()\n",
      "    File \"C:\\ProgramData\\Anaconda3\\lib\\distutils\\dist.py\", line 966, in run_commands\n",
      "      self.run_command(cmd)\n",
      "    File \"C:\\ProgramData\\Anaconda3\\lib\\distutils\\dist.py\", line 985, in run_command\n",
      "      cmd_obj.run()\n",
      "    File \"C:\\ProgramData\\Anaconda3\\lib\\site-packages\\wheel\\bdist_wheel.py\", line 192, in run\n",
      "      self.run_command('build')\n",
      "    File \"C:\\ProgramData\\Anaconda3\\lib\\distutils\\cmd.py\", line 313, in run_command\n",
      "      self.distribution.run_command(command)\n",
      "    File \"C:\\ProgramData\\Anaconda3\\lib\\distutils\\dist.py\", line 985, in run_command\n",
      "      cmd_obj.run()\n",
      "    File \"C:\\ProgramData\\Anaconda3\\lib\\distutils\\command\\build.py\", line 135, in run\n",
      "      self.run_command(cmd_name)\n",
      "    File \"C:\\ProgramData\\Anaconda3\\lib\\distutils\\cmd.py\", line 313, in run_command\n",
      "      self.distribution.run_command(command)\n",
      "    File \"C:\\ProgramData\\Anaconda3\\lib\\distutils\\dist.py\", line 985, in run_command\n",
      "      cmd_obj.run()\n",
      "    File \"C:\\Users\\raigo\\AppData\\Local\\Temp\\pip-install-ly2f04rq\\fbprophet\\setup.py\", line 48, in run\n",
      "      build_models(target_dir)\n",
      "    File \"C:\\Users\\raigo\\AppData\\Local\\Temp\\pip-install-ly2f04rq\\fbprophet\\setup.py\", line 36, in build_models\n",
      "      from fbprophet.models import StanBackendEnum\n",
      "    File \"C:\\Users\\raigo\\AppData\\Local\\Temp\\pip-install-ly2f04rq\\fbprophet\\fbprophet\\__init__.py\", line 8, in <module>\n",
      "      from fbprophet.forecaster import Prophet\n",
      "    File \"C:\\Users\\raigo\\AppData\\Local\\Temp\\pip-install-ly2f04rq\\fbprophet\\fbprophet\\forecaster.py\", line 17, in <module>\n",
      "      from fbprophet.make_holidays import get_holiday_names, make_holidays_df\n",
      "    File \"C:\\Users\\raigo\\AppData\\Local\\Temp\\pip-install-ly2f04rq\\fbprophet\\fbprophet\\make_holidays.py\", line 14, in <module>\n",
      "      import fbprophet.hdays as hdays_part2\n",
      "    File \"C:\\Users\\raigo\\AppData\\Local\\Temp\\pip-install-ly2f04rq\\fbprophet\\fbprophet\\hdays.py\", line 13, in <module>\n",
      "      from convertdate.islamic import from_gregorian, to_gregorian\n",
      "  ModuleNotFoundError: No module named 'convertdate'\n",
      "  ----------------------------------------\n",
      "  ERROR: Failed building wheel for fbprophet\n",
      "ERROR: holidays 0.10.4 has requirement convertdate<=2.2.0, but you'll have convertdate 2.3.0 which is incompatible.\n",
      "ERROR: Could not install packages due to an EnvironmentError: [WinError 5] Access is denied: 'c:\\\\programdata\\\\anaconda3\\\\lib\\\\site-packages\\\\pandas-0.25.1.dist-info\\\\entry_points.txt'\n",
      "Consider using the `--user` option or check the permissions.\n",
      "\n"
     ]
    }
   ],
   "source": [
    "!pip install fbprophet"
   ]
  },
  {
   "cell_type": "code",
   "execution_count": 1,
   "metadata": {},
   "outputs": [
    {
     "ename": "ModuleNotFoundError",
     "evalue": "No module named 'fbprophet'",
     "output_type": "error",
     "traceback": [
      "\u001b[1;31m---------------------------------------------------------------------------\u001b[0m",
      "\u001b[1;31mModuleNotFoundError\u001b[0m                       Traceback (most recent call last)",
      "\u001b[1;32m<ipython-input-1-c4d7e4ad683d>\u001b[0m in \u001b[0;36m<module>\u001b[1;34m\u001b[0m\n\u001b[1;32m----> 1\u001b[1;33m \u001b[1;32mfrom\u001b[0m \u001b[0mfbprophet\u001b[0m \u001b[1;32mimport\u001b[0m \u001b[0mProphet\u001b[0m\u001b[1;33m\u001b[0m\u001b[1;33m\u001b[0m\u001b[0m\n\u001b[0m\u001b[0;32m      2\u001b[0m \u001b[1;32mfrom\u001b[0m \u001b[0mfbprophet\u001b[0m\u001b[1;33m.\u001b[0m\u001b[0mplot\u001b[0m \u001b[1;32mimport\u001b[0m \u001b[0madd_changepoints_to_plot\u001b[0m\u001b[1;33m\u001b[0m\u001b[1;33m\u001b[0m\u001b[0m\n",
      "\u001b[1;31mModuleNotFoundError\u001b[0m: No module named 'fbprophet'"
     ]
    }
   ],
   "source": [
    "from fbprophet import Prophet \n",
    "from fbprophet.plot import add_changepoints_to_plot"
   ]
  },
  {
   "cell_type": "code",
   "execution_count": 1,
   "metadata": {},
   "outputs": [],
   "source": [
    "import numpy as np\n",
    "import pandas as pd\n",
    "import datetime"
   ]
  },
  {
   "cell_type": "code",
   "execution_count": 2,
   "metadata": {},
   "outputs": [],
   "source": [
    "df = pd.read_csv(\"data/avocado.csv\")"
   ]
  },
  {
   "cell_type": "code",
   "execution_count": 3,
   "metadata": {},
   "outputs": [],
   "source": [
    "data = df.copy()"
   ]
  },
  {
   "cell_type": "code",
   "execution_count": 4,
   "metadata": {},
   "outputs": [],
   "source": [
    "data = data.drop(['Unnamed: 0'],axis = 1)"
   ]
  },
  {
   "cell_type": "code",
   "execution_count": 5,
   "metadata": {
    "scrolled": false
   },
   "outputs": [
    {
     "data": {
      "text/plain": [
       "0        2015-12-27\n",
       "1        2015-12-20\n",
       "2        2015-12-13\n",
       "3        2015-12-06\n",
       "4        2015-11-29\n",
       "            ...    \n",
       "18244    2018-02-04\n",
       "18245    2018-01-28\n",
       "18246    2018-01-21\n",
       "18247    2018-01-14\n",
       "18248    2018-01-07\n",
       "Name: Date, Length: 18249, dtype: object"
      ]
     },
     "execution_count": 5,
     "metadata": {},
     "output_type": "execute_result"
    }
   ],
   "source": [
    "data.Date"
   ]
  },
  {
   "cell_type": "code",
   "execution_count": 6,
   "metadata": {
    "scrolled": true
   },
   "outputs": [
    {
     "name": "stdout",
     "output_type": "stream",
     "text": [
      "<class 'pandas.core.frame.DataFrame'>\n",
      "RangeIndex: 18249 entries, 0 to 18248\n",
      "Data columns (total 13 columns):\n",
      "Date            18249 non-null object\n",
      "AveragePrice    18249 non-null float64\n",
      "Total Volume    18249 non-null float64\n",
      "4046            18249 non-null float64\n",
      "4225            18249 non-null float64\n",
      "4770            18249 non-null float64\n",
      "Total Bags      18249 non-null float64\n",
      "Small Bags      18249 non-null float64\n",
      "Large Bags      18249 non-null float64\n",
      "XLarge Bags     18249 non-null float64\n",
      "type            18249 non-null object\n",
      "year            18249 non-null int64\n",
      "region          18249 non-null object\n",
      "dtypes: float64(9), int64(1), object(3)\n",
      "memory usage: 1.8+ MB\n"
     ]
    }
   ],
   "source": [
    "data.info()"
   ]
  },
  {
   "cell_type": "code",
   "execution_count": 7,
   "metadata": {
    "scrolled": true
   },
   "outputs": [
    {
     "data": {
      "text/html": [
       "<div>\n",
       "<style scoped>\n",
       "    .dataframe tbody tr th:only-of-type {\n",
       "        vertical-align: middle;\n",
       "    }\n",
       "\n",
       "    .dataframe tbody tr th {\n",
       "        vertical-align: top;\n",
       "    }\n",
       "\n",
       "    .dataframe thead th {\n",
       "        text-align: right;\n",
       "    }\n",
       "</style>\n",
       "<table border=\"1\" class=\"dataframe\">\n",
       "  <thead>\n",
       "    <tr style=\"text-align: right;\">\n",
       "      <th></th>\n",
       "      <th>Date</th>\n",
       "      <th>AveragePrice</th>\n",
       "      <th>Total Volume</th>\n",
       "      <th>4046</th>\n",
       "      <th>4225</th>\n",
       "      <th>4770</th>\n",
       "      <th>Total Bags</th>\n",
       "      <th>Small Bags</th>\n",
       "      <th>Large Bags</th>\n",
       "      <th>XLarge Bags</th>\n",
       "      <th>type</th>\n",
       "      <th>year</th>\n",
       "      <th>region</th>\n",
       "    </tr>\n",
       "  </thead>\n",
       "  <tbody>\n",
       "    <tr>\n",
       "      <td>count</td>\n",
       "      <td>18249</td>\n",
       "      <td>18249.000000</td>\n",
       "      <td>1.824900e+04</td>\n",
       "      <td>1.824900e+04</td>\n",
       "      <td>1.824900e+04</td>\n",
       "      <td>1.824900e+04</td>\n",
       "      <td>1.824900e+04</td>\n",
       "      <td>1.824900e+04</td>\n",
       "      <td>1.824900e+04</td>\n",
       "      <td>18249.000000</td>\n",
       "      <td>18249</td>\n",
       "      <td>18249.000000</td>\n",
       "      <td>18249</td>\n",
       "    </tr>\n",
       "    <tr>\n",
       "      <td>unique</td>\n",
       "      <td>169</td>\n",
       "      <td>NaN</td>\n",
       "      <td>NaN</td>\n",
       "      <td>NaN</td>\n",
       "      <td>NaN</td>\n",
       "      <td>NaN</td>\n",
       "      <td>NaN</td>\n",
       "      <td>NaN</td>\n",
       "      <td>NaN</td>\n",
       "      <td>NaN</td>\n",
       "      <td>2</td>\n",
       "      <td>NaN</td>\n",
       "      <td>54</td>\n",
       "    </tr>\n",
       "    <tr>\n",
       "      <td>top</td>\n",
       "      <td>2018-01-28</td>\n",
       "      <td>NaN</td>\n",
       "      <td>NaN</td>\n",
       "      <td>NaN</td>\n",
       "      <td>NaN</td>\n",
       "      <td>NaN</td>\n",
       "      <td>NaN</td>\n",
       "      <td>NaN</td>\n",
       "      <td>NaN</td>\n",
       "      <td>NaN</td>\n",
       "      <td>conventional</td>\n",
       "      <td>NaN</td>\n",
       "      <td>Roanoke</td>\n",
       "    </tr>\n",
       "    <tr>\n",
       "      <td>freq</td>\n",
       "      <td>108</td>\n",
       "      <td>NaN</td>\n",
       "      <td>NaN</td>\n",
       "      <td>NaN</td>\n",
       "      <td>NaN</td>\n",
       "      <td>NaN</td>\n",
       "      <td>NaN</td>\n",
       "      <td>NaN</td>\n",
       "      <td>NaN</td>\n",
       "      <td>NaN</td>\n",
       "      <td>9126</td>\n",
       "      <td>NaN</td>\n",
       "      <td>338</td>\n",
       "    </tr>\n",
       "    <tr>\n",
       "      <td>mean</td>\n",
       "      <td>NaN</td>\n",
       "      <td>1.405978</td>\n",
       "      <td>8.506440e+05</td>\n",
       "      <td>2.930084e+05</td>\n",
       "      <td>2.951546e+05</td>\n",
       "      <td>2.283974e+04</td>\n",
       "      <td>2.396392e+05</td>\n",
       "      <td>1.821947e+05</td>\n",
       "      <td>5.433809e+04</td>\n",
       "      <td>3106.426507</td>\n",
       "      <td>NaN</td>\n",
       "      <td>2016.147899</td>\n",
       "      <td>NaN</td>\n",
       "    </tr>\n",
       "    <tr>\n",
       "      <td>std</td>\n",
       "      <td>NaN</td>\n",
       "      <td>0.402677</td>\n",
       "      <td>3.453545e+06</td>\n",
       "      <td>1.264989e+06</td>\n",
       "      <td>1.204120e+06</td>\n",
       "      <td>1.074641e+05</td>\n",
       "      <td>9.862424e+05</td>\n",
       "      <td>7.461785e+05</td>\n",
       "      <td>2.439660e+05</td>\n",
       "      <td>17692.894652</td>\n",
       "      <td>NaN</td>\n",
       "      <td>0.939938</td>\n",
       "      <td>NaN</td>\n",
       "    </tr>\n",
       "    <tr>\n",
       "      <td>min</td>\n",
       "      <td>NaN</td>\n",
       "      <td>0.440000</td>\n",
       "      <td>8.456000e+01</td>\n",
       "      <td>0.000000e+00</td>\n",
       "      <td>0.000000e+00</td>\n",
       "      <td>0.000000e+00</td>\n",
       "      <td>0.000000e+00</td>\n",
       "      <td>0.000000e+00</td>\n",
       "      <td>0.000000e+00</td>\n",
       "      <td>0.000000</td>\n",
       "      <td>NaN</td>\n",
       "      <td>2015.000000</td>\n",
       "      <td>NaN</td>\n",
       "    </tr>\n",
       "    <tr>\n",
       "      <td>25%</td>\n",
       "      <td>NaN</td>\n",
       "      <td>1.100000</td>\n",
       "      <td>1.083858e+04</td>\n",
       "      <td>8.540700e+02</td>\n",
       "      <td>3.008780e+03</td>\n",
       "      <td>0.000000e+00</td>\n",
       "      <td>5.088640e+03</td>\n",
       "      <td>2.849420e+03</td>\n",
       "      <td>1.274700e+02</td>\n",
       "      <td>0.000000</td>\n",
       "      <td>NaN</td>\n",
       "      <td>2015.000000</td>\n",
       "      <td>NaN</td>\n",
       "    </tr>\n",
       "    <tr>\n",
       "      <td>50%</td>\n",
       "      <td>NaN</td>\n",
       "      <td>1.370000</td>\n",
       "      <td>1.073768e+05</td>\n",
       "      <td>8.645300e+03</td>\n",
       "      <td>2.906102e+04</td>\n",
       "      <td>1.849900e+02</td>\n",
       "      <td>3.974383e+04</td>\n",
       "      <td>2.636282e+04</td>\n",
       "      <td>2.647710e+03</td>\n",
       "      <td>0.000000</td>\n",
       "      <td>NaN</td>\n",
       "      <td>2016.000000</td>\n",
       "      <td>NaN</td>\n",
       "    </tr>\n",
       "    <tr>\n",
       "      <td>75%</td>\n",
       "      <td>NaN</td>\n",
       "      <td>1.660000</td>\n",
       "      <td>4.329623e+05</td>\n",
       "      <td>1.110202e+05</td>\n",
       "      <td>1.502069e+05</td>\n",
       "      <td>6.243420e+03</td>\n",
       "      <td>1.107834e+05</td>\n",
       "      <td>8.333767e+04</td>\n",
       "      <td>2.202925e+04</td>\n",
       "      <td>132.500000</td>\n",
       "      <td>NaN</td>\n",
       "      <td>2017.000000</td>\n",
       "      <td>NaN</td>\n",
       "    </tr>\n",
       "    <tr>\n",
       "      <td>max</td>\n",
       "      <td>NaN</td>\n",
       "      <td>3.250000</td>\n",
       "      <td>6.250565e+07</td>\n",
       "      <td>2.274362e+07</td>\n",
       "      <td>2.047057e+07</td>\n",
       "      <td>2.546439e+06</td>\n",
       "      <td>1.937313e+07</td>\n",
       "      <td>1.338459e+07</td>\n",
       "      <td>5.719097e+06</td>\n",
       "      <td>551693.650000</td>\n",
       "      <td>NaN</td>\n",
       "      <td>2018.000000</td>\n",
       "      <td>NaN</td>\n",
       "    </tr>\n",
       "  </tbody>\n",
       "</table>\n",
       "</div>"
      ],
      "text/plain": [
       "              Date  AveragePrice  Total Volume          4046          4225  \\\n",
       "count        18249  18249.000000  1.824900e+04  1.824900e+04  1.824900e+04   \n",
       "unique         169           NaN           NaN           NaN           NaN   \n",
       "top     2018-01-28           NaN           NaN           NaN           NaN   \n",
       "freq           108           NaN           NaN           NaN           NaN   \n",
       "mean           NaN      1.405978  8.506440e+05  2.930084e+05  2.951546e+05   \n",
       "std            NaN      0.402677  3.453545e+06  1.264989e+06  1.204120e+06   \n",
       "min            NaN      0.440000  8.456000e+01  0.000000e+00  0.000000e+00   \n",
       "25%            NaN      1.100000  1.083858e+04  8.540700e+02  3.008780e+03   \n",
       "50%            NaN      1.370000  1.073768e+05  8.645300e+03  2.906102e+04   \n",
       "75%            NaN      1.660000  4.329623e+05  1.110202e+05  1.502069e+05   \n",
       "max            NaN      3.250000  6.250565e+07  2.274362e+07  2.047057e+07   \n",
       "\n",
       "                4770    Total Bags    Small Bags    Large Bags    XLarge Bags  \\\n",
       "count   1.824900e+04  1.824900e+04  1.824900e+04  1.824900e+04   18249.000000   \n",
       "unique           NaN           NaN           NaN           NaN            NaN   \n",
       "top              NaN           NaN           NaN           NaN            NaN   \n",
       "freq             NaN           NaN           NaN           NaN            NaN   \n",
       "mean    2.283974e+04  2.396392e+05  1.821947e+05  5.433809e+04    3106.426507   \n",
       "std     1.074641e+05  9.862424e+05  7.461785e+05  2.439660e+05   17692.894652   \n",
       "min     0.000000e+00  0.000000e+00  0.000000e+00  0.000000e+00       0.000000   \n",
       "25%     0.000000e+00  5.088640e+03  2.849420e+03  1.274700e+02       0.000000   \n",
       "50%     1.849900e+02  3.974383e+04  2.636282e+04  2.647710e+03       0.000000   \n",
       "75%     6.243420e+03  1.107834e+05  8.333767e+04  2.202925e+04     132.500000   \n",
       "max     2.546439e+06  1.937313e+07  1.338459e+07  5.719097e+06  551693.650000   \n",
       "\n",
       "                type          year   region  \n",
       "count          18249  18249.000000    18249  \n",
       "unique             2           NaN       54  \n",
       "top     conventional           NaN  Roanoke  \n",
       "freq            9126           NaN      338  \n",
       "mean             NaN   2016.147899      NaN  \n",
       "std              NaN      0.939938      NaN  \n",
       "min              NaN   2015.000000      NaN  \n",
       "25%              NaN   2015.000000      NaN  \n",
       "50%              NaN   2016.000000      NaN  \n",
       "75%              NaN   2017.000000      NaN  \n",
       "max              NaN   2018.000000      NaN  "
      ]
     },
     "execution_count": 7,
     "metadata": {},
     "output_type": "execute_result"
    }
   ],
   "source": [
    "data.describe(include = 'all')"
   ]
  },
  {
   "cell_type": "code",
   "execution_count": 8,
   "metadata": {},
   "outputs": [],
   "source": [
    "data[\"Date\"] = pd.to_datetime(data[\"Date\"])\n",
    "data[\"month\"] = data[\"Date\"].dt.month\n",
    "data[\"day\"] = data[\"Date\"].dt.day\n"
   ]
  },
  {
   "cell_type": "code",
   "execution_count": 9,
   "metadata": {},
   "outputs": [
    {
     "data": {
      "text/html": [
       "        <script type=\"text/javascript\">\n",
       "        window.PlotlyConfig = {MathJaxConfig: 'local'};\n",
       "        if (window.MathJax) {MathJax.Hub.Config({SVG: {font: \"STIX-Web\"}});}\n",
       "        if (typeof require !== 'undefined') {\n",
       "        require.undef(\"plotly\");\n",
       "        requirejs.config({\n",
       "            paths: {\n",
       "                'plotly': ['https://cdn.plot.ly/plotly-latest.min']\n",
       "            }\n",
       "        });\n",
       "        require(['plotly'], function(Plotly) {\n",
       "            window._Plotly = Plotly;\n",
       "        });\n",
       "        }\n",
       "        </script>\n",
       "        "
      ]
     },
     "metadata": {},
     "output_type": "display_data"
    },
    {
     "data": {
      "application/vnd.plotly.v1+json": {
       "config": {
        "linkText": "Export to plot.ly",
        "plotlyServerURL": "https://plot.ly",
        "showLink": false
       },
       "data": [
        {
         "name": "avg price",
         "type": "scatter",
         "x": [
          "2015-01-04T00:00:00",
          "2015-01-11T00:00:00",
          "2015-01-18T00:00:00",
          "2015-01-25T00:00:00",
          "2015-02-01T00:00:00",
          "2015-02-08T00:00:00",
          "2015-02-15T00:00:00",
          "2015-02-22T00:00:00",
          "2015-03-01T00:00:00",
          "2015-03-08T00:00:00",
          "2015-03-15T00:00:00",
          "2015-03-22T00:00:00",
          "2015-03-29T00:00:00",
          "2015-04-05T00:00:00",
          "2015-04-12T00:00:00",
          "2015-04-19T00:00:00",
          "2015-04-26T00:00:00",
          "2015-05-03T00:00:00",
          "2015-05-10T00:00:00",
          "2015-05-17T00:00:00",
          "2015-05-24T00:00:00",
          "2015-05-31T00:00:00",
          "2015-06-07T00:00:00",
          "2015-06-14T00:00:00",
          "2015-06-21T00:00:00",
          "2015-06-28T00:00:00",
          "2015-07-05T00:00:00",
          "2015-07-12T00:00:00",
          "2015-07-19T00:00:00",
          "2015-07-26T00:00:00",
          "2015-08-02T00:00:00",
          "2015-08-09T00:00:00",
          "2015-08-16T00:00:00",
          "2015-08-23T00:00:00",
          "2015-08-30T00:00:00",
          "2015-09-06T00:00:00",
          "2015-09-13T00:00:00",
          "2015-09-20T00:00:00",
          "2015-09-27T00:00:00",
          "2015-10-04T00:00:00",
          "2015-10-11T00:00:00",
          "2015-10-18T00:00:00",
          "2015-10-25T00:00:00",
          "2015-11-01T00:00:00",
          "2015-11-08T00:00:00",
          "2015-11-15T00:00:00",
          "2015-11-22T00:00:00",
          "2015-11-29T00:00:00",
          "2015-12-06T00:00:00",
          "2015-12-13T00:00:00",
          "2015-12-20T00:00:00",
          "2015-12-27T00:00:00",
          "2016-01-03T00:00:00",
          "2016-01-10T00:00:00",
          "2016-01-17T00:00:00",
          "2016-01-24T00:00:00",
          "2016-01-31T00:00:00",
          "2016-02-07T00:00:00",
          "2016-02-14T00:00:00",
          "2016-02-21T00:00:00",
          "2016-02-28T00:00:00",
          "2016-03-06T00:00:00",
          "2016-03-13T00:00:00",
          "2016-03-20T00:00:00",
          "2016-03-27T00:00:00",
          "2016-04-03T00:00:00",
          "2016-04-10T00:00:00",
          "2016-04-17T00:00:00",
          "2016-04-24T00:00:00",
          "2016-05-01T00:00:00",
          "2016-05-08T00:00:00",
          "2016-05-15T00:00:00",
          "2016-05-22T00:00:00",
          "2016-05-29T00:00:00",
          "2016-06-05T00:00:00",
          "2016-06-12T00:00:00",
          "2016-06-19T00:00:00",
          "2016-06-26T00:00:00",
          "2016-07-03T00:00:00",
          "2016-07-10T00:00:00",
          "2016-07-17T00:00:00",
          "2016-07-24T00:00:00",
          "2016-07-31T00:00:00",
          "2016-08-07T00:00:00",
          "2016-08-14T00:00:00",
          "2016-08-21T00:00:00",
          "2016-08-28T00:00:00",
          "2016-09-04T00:00:00",
          "2016-09-11T00:00:00",
          "2016-09-18T00:00:00",
          "2016-09-25T00:00:00",
          "2016-10-02T00:00:00",
          "2016-10-09T00:00:00",
          "2016-10-16T00:00:00",
          "2016-10-23T00:00:00",
          "2016-10-30T00:00:00",
          "2016-11-06T00:00:00",
          "2016-11-13T00:00:00",
          "2016-11-20T00:00:00",
          "2016-11-27T00:00:00",
          "2016-12-04T00:00:00",
          "2016-12-11T00:00:00",
          "2016-12-18T00:00:00",
          "2016-12-25T00:00:00",
          "2017-01-01T00:00:00",
          "2017-01-08T00:00:00",
          "2017-01-15T00:00:00",
          "2017-01-22T00:00:00",
          "2017-01-29T00:00:00",
          "2017-02-05T00:00:00",
          "2017-02-12T00:00:00",
          "2017-02-19T00:00:00",
          "2017-02-26T00:00:00",
          "2017-03-05T00:00:00",
          "2017-03-12T00:00:00",
          "2017-03-19T00:00:00",
          "2017-03-26T00:00:00",
          "2017-04-02T00:00:00",
          "2017-04-09T00:00:00",
          "2017-04-16T00:00:00",
          "2017-04-23T00:00:00",
          "2017-04-30T00:00:00",
          "2017-05-07T00:00:00",
          "2017-05-14T00:00:00",
          "2017-05-21T00:00:00",
          "2017-05-28T00:00:00",
          "2017-06-04T00:00:00",
          "2017-06-11T00:00:00",
          "2017-06-18T00:00:00",
          "2017-06-25T00:00:00",
          "2017-07-02T00:00:00",
          "2017-07-09T00:00:00",
          "2017-07-16T00:00:00",
          "2017-07-23T00:00:00",
          "2017-07-30T00:00:00",
          "2017-08-06T00:00:00",
          "2017-08-13T00:00:00",
          "2017-08-20T00:00:00",
          "2017-08-27T00:00:00",
          "2017-09-03T00:00:00",
          "2017-09-10T00:00:00",
          "2017-09-17T00:00:00",
          "2017-09-24T00:00:00",
          "2017-10-01T00:00:00",
          "2017-10-08T00:00:00",
          "2017-10-15T00:00:00",
          "2017-10-22T00:00:00",
          "2017-10-29T00:00:00",
          "2017-11-05T00:00:00",
          "2017-11-12T00:00:00",
          "2017-11-19T00:00:00",
          "2017-11-26T00:00:00",
          "2017-12-03T00:00:00",
          "2017-12-10T00:00:00",
          "2017-12-17T00:00:00",
          "2017-12-24T00:00:00",
          "2017-12-31T00:00:00",
          "2018-01-07T00:00:00",
          "2018-01-14T00:00:00",
          "2018-01-21T00:00:00",
          "2018-01-28T00:00:00",
          "2018-02-04T00:00:00",
          "2018-02-11T00:00:00",
          "2018-02-18T00:00:00",
          "2018-02-25T00:00:00",
          "2018-03-04T00:00:00",
          "2018-03-11T00:00:00",
          "2018-03-18T00:00:00",
          "2018-03-25T00:00:00"
         ],
         "y": [
          1.3012962962962962,
          1.3706481481481485,
          1.391111111111111,
          1.3971296296296296,
          1.2470370370370376,
          1.310462962962963,
          1.3875925925925925,
          1.3626851851851853,
          1.3110185185185188,
          1.360092592592593,
          1.3919444444444447,
          1.3492592592592596,
          1.3975925925925925,
          1.4129629629629628,
          1.3639814814814817,
          1.3716666666666668,
          1.385185185185185,
          1.2838888888888889,
          1.3235185185185185,
          1.3531481481481475,
          1.3804629629629628,
          1.3824074074074078,
          1.3809259259259254,
          1.400462962962963,
          1.408425925925926,
          1.4064814814814826,
          1.4137962962962969,
          1.4156481481481482,
          1.3875,
          1.420833333333333,
          1.4773148148148147,
          1.4312962962962965,
          1.4498148148148144,
          1.4445370370370372,
          1.4194444444444447,
          1.434351851851852,
          1.4632407407407415,
          1.4480555555555554,
          1.450925925925925,
          1.4191666666666671,
          1.373333333333333,
          1.3923148148148148,
          1.3830555555555557,
          1.304907407407407,
          1.334351851851851,
          1.3400000000000003,
          1.3309259259259258,
          1.3428703703703706,
          1.2891588785046726,
          1.2878703703703707,
          1.3453703703703699,
          1.2984259259259257,
          1.2063888888888892,
          1.2276851851851853,
          1.2716666666666665,
          1.2422222222222221,
          1.2529629629629626,
          1.1738888888888885,
          1.2323148148148149,
          1.2766666666666666,
          1.265555555555556,
          1.2569444444444444,
          1.1970370370370373,
          1.1976851851851853,
          1.2451851851851852,
          1.2353703703703702,
          1.1737962962962962,
          1.2212962962962965,
          1.1896296296296296,
          1.163703703703704,
          1.1485185185185185,
          1.2158333333333333,
          1.2246296296296302,
          1.2459259259259254,
          1.2426851851851852,
          1.3009259259259256,
          1.2777777777777781,
          1.3108333333333333,
          1.294722222222222,
          1.3532407407407407,
          1.4280555555555554,
          1.4823148148148144,
          1.4483333333333335,
          1.4160185185185181,
          1.4188888888888889,
          1.4156481481481482,
          1.393888888888888,
          1.3720370370370376,
          1.3568518518518518,
          1.4481481481481482,
          1.5344444444444445,
          1.575277777777777,
          1.4829629629629626,
          1.4844444444444447,
          1.540740740740741,
          1.7020370370370363,
          1.6194444444444442,
          1.5844444444444448,
          1.4997222222222217,
          1.4964814814814817,
          1.369166666666666,
          1.3077777777777777,
          1.2771296296296295,
          1.309907407407408,
          1.2766666666666668,
          1.2944444444444445,
          1.3186111111111107,
          1.2232407407407406,
          1.2745370370370372,
          1.1447222222222224,
          1.2039814814814815,
          1.269351851851852,
          1.241111111111111,
          1.2874074074074078,
          1.4361111111111113,
          1.4681481481481486,
          1.4040740740740743,
          1.448055555555555,
          1.4659259259259256,
          1.5048148148148146,
          1.5437037037037034,
          1.5505555555555564,
          1.461666666666667,
          1.5283333333333344,
          1.5608333333333337,
          1.5795370370370367,
          1.5646296296296294,
          1.521574074074074,
          1.5385046728971974,
          1.556915887850467,
          1.5695370370370378,
          1.540277777777778,
          1.5810185185185188,
          1.5634259259259256,
          1.57037037037037,
          1.606203703703704,
          1.6415740740740736,
          1.7368518518518519,
          1.8112037037037036,
          1.8551851851851848,
          1.8438888888888891,
          1.8313888888888892,
          1.8333333333333333,
          1.8712962962962971,
          1.8433333333333337,
          1.7828703703703699,
          1.6645370370370371,
          1.600185185185185,
          1.5590740740740738,
          1.508796296296296,
          1.4991666666666663,
          1.5021296296296298,
          1.3853703703703704,
          1.341481481481482,
          1.3689814814814814,
          1.439907407407407,
          1.2835185185185183,
          1.357777777777778,
          1.4225925925925924,
          1.3771296296296298,
          1.3922222222222234,
          1.2340740740740739,
          1.307037037037037,
          1.3740740740740738,
          1.3596296296296293,
          1.3501851851851854,
          1.335092592592593,
          1.3137037037037034,
          1.3468518518518513
         ]
        }
       ],
       "layout": {
        "template": {
         "data": {
          "bar": [
           {
            "error_x": {
             "color": "#2a3f5f"
            },
            "error_y": {
             "color": "#2a3f5f"
            },
            "marker": {
             "line": {
              "color": "#E5ECF6",
              "width": 0.5
             }
            },
            "type": "bar"
           }
          ],
          "barpolar": [
           {
            "marker": {
             "line": {
              "color": "#E5ECF6",
              "width": 0.5
             }
            },
            "type": "barpolar"
           }
          ],
          "carpet": [
           {
            "aaxis": {
             "endlinecolor": "#2a3f5f",
             "gridcolor": "white",
             "linecolor": "white",
             "minorgridcolor": "white",
             "startlinecolor": "#2a3f5f"
            },
            "baxis": {
             "endlinecolor": "#2a3f5f",
             "gridcolor": "white",
             "linecolor": "white",
             "minorgridcolor": "white",
             "startlinecolor": "#2a3f5f"
            },
            "type": "carpet"
           }
          ],
          "choropleth": [
           {
            "colorbar": {
             "outlinewidth": 0,
             "ticks": ""
            },
            "type": "choropleth"
           }
          ],
          "contour": [
           {
            "colorbar": {
             "outlinewidth": 0,
             "ticks": ""
            },
            "colorscale": [
             [
              0,
              "#0d0887"
             ],
             [
              0.1111111111111111,
              "#46039f"
             ],
             [
              0.2222222222222222,
              "#7201a8"
             ],
             [
              0.3333333333333333,
              "#9c179e"
             ],
             [
              0.4444444444444444,
              "#bd3786"
             ],
             [
              0.5555555555555556,
              "#d8576b"
             ],
             [
              0.6666666666666666,
              "#ed7953"
             ],
             [
              0.7777777777777778,
              "#fb9f3a"
             ],
             [
              0.8888888888888888,
              "#fdca26"
             ],
             [
              1,
              "#f0f921"
             ]
            ],
            "type": "contour"
           }
          ],
          "contourcarpet": [
           {
            "colorbar": {
             "outlinewidth": 0,
             "ticks": ""
            },
            "type": "contourcarpet"
           }
          ],
          "heatmap": [
           {
            "colorbar": {
             "outlinewidth": 0,
             "ticks": ""
            },
            "colorscale": [
             [
              0,
              "#0d0887"
             ],
             [
              0.1111111111111111,
              "#46039f"
             ],
             [
              0.2222222222222222,
              "#7201a8"
             ],
             [
              0.3333333333333333,
              "#9c179e"
             ],
             [
              0.4444444444444444,
              "#bd3786"
             ],
             [
              0.5555555555555556,
              "#d8576b"
             ],
             [
              0.6666666666666666,
              "#ed7953"
             ],
             [
              0.7777777777777778,
              "#fb9f3a"
             ],
             [
              0.8888888888888888,
              "#fdca26"
             ],
             [
              1,
              "#f0f921"
             ]
            ],
            "type": "heatmap"
           }
          ],
          "heatmapgl": [
           {
            "colorbar": {
             "outlinewidth": 0,
             "ticks": ""
            },
            "colorscale": [
             [
              0,
              "#0d0887"
             ],
             [
              0.1111111111111111,
              "#46039f"
             ],
             [
              0.2222222222222222,
              "#7201a8"
             ],
             [
              0.3333333333333333,
              "#9c179e"
             ],
             [
              0.4444444444444444,
              "#bd3786"
             ],
             [
              0.5555555555555556,
              "#d8576b"
             ],
             [
              0.6666666666666666,
              "#ed7953"
             ],
             [
              0.7777777777777778,
              "#fb9f3a"
             ],
             [
              0.8888888888888888,
              "#fdca26"
             ],
             [
              1,
              "#f0f921"
             ]
            ],
            "type": "heatmapgl"
           }
          ],
          "histogram": [
           {
            "marker": {
             "colorbar": {
              "outlinewidth": 0,
              "ticks": ""
             }
            },
            "type": "histogram"
           }
          ],
          "histogram2d": [
           {
            "colorbar": {
             "outlinewidth": 0,
             "ticks": ""
            },
            "colorscale": [
             [
              0,
              "#0d0887"
             ],
             [
              0.1111111111111111,
              "#46039f"
             ],
             [
              0.2222222222222222,
              "#7201a8"
             ],
             [
              0.3333333333333333,
              "#9c179e"
             ],
             [
              0.4444444444444444,
              "#bd3786"
             ],
             [
              0.5555555555555556,
              "#d8576b"
             ],
             [
              0.6666666666666666,
              "#ed7953"
             ],
             [
              0.7777777777777778,
              "#fb9f3a"
             ],
             [
              0.8888888888888888,
              "#fdca26"
             ],
             [
              1,
              "#f0f921"
             ]
            ],
            "type": "histogram2d"
           }
          ],
          "histogram2dcontour": [
           {
            "colorbar": {
             "outlinewidth": 0,
             "ticks": ""
            },
            "colorscale": [
             [
              0,
              "#0d0887"
             ],
             [
              0.1111111111111111,
              "#46039f"
             ],
             [
              0.2222222222222222,
              "#7201a8"
             ],
             [
              0.3333333333333333,
              "#9c179e"
             ],
             [
              0.4444444444444444,
              "#bd3786"
             ],
             [
              0.5555555555555556,
              "#d8576b"
             ],
             [
              0.6666666666666666,
              "#ed7953"
             ],
             [
              0.7777777777777778,
              "#fb9f3a"
             ],
             [
              0.8888888888888888,
              "#fdca26"
             ],
             [
              1,
              "#f0f921"
             ]
            ],
            "type": "histogram2dcontour"
           }
          ],
          "mesh3d": [
           {
            "colorbar": {
             "outlinewidth": 0,
             "ticks": ""
            },
            "type": "mesh3d"
           }
          ],
          "parcoords": [
           {
            "line": {
             "colorbar": {
              "outlinewidth": 0,
              "ticks": ""
             }
            },
            "type": "parcoords"
           }
          ],
          "pie": [
           {
            "automargin": true,
            "type": "pie"
           }
          ],
          "scatter": [
           {
            "marker": {
             "colorbar": {
              "outlinewidth": 0,
              "ticks": ""
             }
            },
            "type": "scatter"
           }
          ],
          "scatter3d": [
           {
            "line": {
             "colorbar": {
              "outlinewidth": 0,
              "ticks": ""
             }
            },
            "marker": {
             "colorbar": {
              "outlinewidth": 0,
              "ticks": ""
             }
            },
            "type": "scatter3d"
           }
          ],
          "scattercarpet": [
           {
            "marker": {
             "colorbar": {
              "outlinewidth": 0,
              "ticks": ""
             }
            },
            "type": "scattercarpet"
           }
          ],
          "scattergeo": [
           {
            "marker": {
             "colorbar": {
              "outlinewidth": 0,
              "ticks": ""
             }
            },
            "type": "scattergeo"
           }
          ],
          "scattergl": [
           {
            "marker": {
             "colorbar": {
              "outlinewidth": 0,
              "ticks": ""
             }
            },
            "type": "scattergl"
           }
          ],
          "scattermapbox": [
           {
            "marker": {
             "colorbar": {
              "outlinewidth": 0,
              "ticks": ""
             }
            },
            "type": "scattermapbox"
           }
          ],
          "scatterpolar": [
           {
            "marker": {
             "colorbar": {
              "outlinewidth": 0,
              "ticks": ""
             }
            },
            "type": "scatterpolar"
           }
          ],
          "scatterpolargl": [
           {
            "marker": {
             "colorbar": {
              "outlinewidth": 0,
              "ticks": ""
             }
            },
            "type": "scatterpolargl"
           }
          ],
          "scatterternary": [
           {
            "marker": {
             "colorbar": {
              "outlinewidth": 0,
              "ticks": ""
             }
            },
            "type": "scatterternary"
           }
          ],
          "surface": [
           {
            "colorbar": {
             "outlinewidth": 0,
             "ticks": ""
            },
            "colorscale": [
             [
              0,
              "#0d0887"
             ],
             [
              0.1111111111111111,
              "#46039f"
             ],
             [
              0.2222222222222222,
              "#7201a8"
             ],
             [
              0.3333333333333333,
              "#9c179e"
             ],
             [
              0.4444444444444444,
              "#bd3786"
             ],
             [
              0.5555555555555556,
              "#d8576b"
             ],
             [
              0.6666666666666666,
              "#ed7953"
             ],
             [
              0.7777777777777778,
              "#fb9f3a"
             ],
             [
              0.8888888888888888,
              "#fdca26"
             ],
             [
              1,
              "#f0f921"
             ]
            ],
            "type": "surface"
           }
          ],
          "table": [
           {
            "cells": {
             "fill": {
              "color": "#EBF0F8"
             },
             "line": {
              "color": "white"
             }
            },
            "header": {
             "fill": {
              "color": "#C8D4E3"
             },
             "line": {
              "color": "white"
             }
            },
            "type": "table"
           }
          ]
         },
         "layout": {
          "annotationdefaults": {
           "arrowcolor": "#2a3f5f",
           "arrowhead": 0,
           "arrowwidth": 1
          },
          "autotypenumbers": "strict",
          "coloraxis": {
           "colorbar": {
            "outlinewidth": 0,
            "ticks": ""
           }
          },
          "colorscale": {
           "diverging": [
            [
             0,
             "#8e0152"
            ],
            [
             0.1,
             "#c51b7d"
            ],
            [
             0.2,
             "#de77ae"
            ],
            [
             0.3,
             "#f1b6da"
            ],
            [
             0.4,
             "#fde0ef"
            ],
            [
             0.5,
             "#f7f7f7"
            ],
            [
             0.6,
             "#e6f5d0"
            ],
            [
             0.7,
             "#b8e186"
            ],
            [
             0.8,
             "#7fbc41"
            ],
            [
             0.9,
             "#4d9221"
            ],
            [
             1,
             "#276419"
            ]
           ],
           "sequential": [
            [
             0,
             "#0d0887"
            ],
            [
             0.1111111111111111,
             "#46039f"
            ],
            [
             0.2222222222222222,
             "#7201a8"
            ],
            [
             0.3333333333333333,
             "#9c179e"
            ],
            [
             0.4444444444444444,
             "#bd3786"
            ],
            [
             0.5555555555555556,
             "#d8576b"
            ],
            [
             0.6666666666666666,
             "#ed7953"
            ],
            [
             0.7777777777777778,
             "#fb9f3a"
            ],
            [
             0.8888888888888888,
             "#fdca26"
            ],
            [
             1,
             "#f0f921"
            ]
           ],
           "sequentialminus": [
            [
             0,
             "#0d0887"
            ],
            [
             0.1111111111111111,
             "#46039f"
            ],
            [
             0.2222222222222222,
             "#7201a8"
            ],
            [
             0.3333333333333333,
             "#9c179e"
            ],
            [
             0.4444444444444444,
             "#bd3786"
            ],
            [
             0.5555555555555556,
             "#d8576b"
            ],
            [
             0.6666666666666666,
             "#ed7953"
            ],
            [
             0.7777777777777778,
             "#fb9f3a"
            ],
            [
             0.8888888888888888,
             "#fdca26"
            ],
            [
             1,
             "#f0f921"
            ]
           ]
          },
          "colorway": [
           "#636efa",
           "#EF553B",
           "#00cc96",
           "#ab63fa",
           "#FFA15A",
           "#19d3f3",
           "#FF6692",
           "#B6E880",
           "#FF97FF",
           "#FECB52"
          ],
          "font": {
           "color": "#2a3f5f"
          },
          "geo": {
           "bgcolor": "white",
           "lakecolor": "white",
           "landcolor": "#E5ECF6",
           "showlakes": true,
           "showland": true,
           "subunitcolor": "white"
          },
          "hoverlabel": {
           "align": "left"
          },
          "hovermode": "closest",
          "mapbox": {
           "style": "light"
          },
          "paper_bgcolor": "white",
          "plot_bgcolor": "#E5ECF6",
          "polar": {
           "angularaxis": {
            "gridcolor": "white",
            "linecolor": "white",
            "ticks": ""
           },
           "bgcolor": "#E5ECF6",
           "radialaxis": {
            "gridcolor": "white",
            "linecolor": "white",
            "ticks": ""
           }
          },
          "scene": {
           "xaxis": {
            "backgroundcolor": "#E5ECF6",
            "gridcolor": "white",
            "gridwidth": 2,
            "linecolor": "white",
            "showbackground": true,
            "ticks": "",
            "zerolinecolor": "white"
           },
           "yaxis": {
            "backgroundcolor": "#E5ECF6",
            "gridcolor": "white",
            "gridwidth": 2,
            "linecolor": "white",
            "showbackground": true,
            "ticks": "",
            "zerolinecolor": "white"
           },
           "zaxis": {
            "backgroundcolor": "#E5ECF6",
            "gridcolor": "white",
            "gridwidth": 2,
            "linecolor": "white",
            "showbackground": true,
            "ticks": "",
            "zerolinecolor": "white"
           }
          },
          "shapedefaults": {
           "line": {
            "color": "#2a3f5f"
           }
          },
          "ternary": {
           "aaxis": {
            "gridcolor": "white",
            "linecolor": "white",
            "ticks": ""
           },
           "baxis": {
            "gridcolor": "white",
            "linecolor": "white",
            "ticks": ""
           },
           "bgcolor": "#E5ECF6",
           "caxis": {
            "gridcolor": "white",
            "linecolor": "white",
            "ticks": ""
           }
          },
          "title": {
           "x": 0.05
          },
          "xaxis": {
           "automargin": true,
           "gridcolor": "white",
           "linecolor": "white",
           "ticks": "",
           "title": {
            "standoff": 15
           },
           "zerolinecolor": "white",
           "zerolinewidth": 2
          },
          "yaxis": {
           "automargin": true,
           "gridcolor": "white",
           "linecolor": "white",
           "ticks": "",
           "title": {
            "standoff": 15
           },
           "zerolinecolor": "white",
           "zerolinewidth": 2
          }
         }
        },
        "title": {
         "text": "Time series plot for mean daily prices for all regions"
        },
        "xaxis": {
         "title": {
          "text": "Date"
         }
        },
        "yaxis": {
         "title": {
          "text": "Prices"
         }
        }
       }
      },
      "text/html": [
       "<div>                            <div id=\"ba4fbdd6-b836-4ad0-b24b-53391c614846\" class=\"plotly-graph-div\" style=\"height:525px; width:100%;\"></div>            <script type=\"text/javascript\">                require([\"plotly\"], function(Plotly) {                    window.PLOTLYENV=window.PLOTLYENV || {};                                    if (document.getElementById(\"ba4fbdd6-b836-4ad0-b24b-53391c614846\")) {                    Plotly.newPlot(                        \"ba4fbdd6-b836-4ad0-b24b-53391c614846\",                        [{\"name\": \"avg price\", \"type\": \"scatter\", \"x\": [\"2015-01-04T00:00:00\", \"2015-01-11T00:00:00\", \"2015-01-18T00:00:00\", \"2015-01-25T00:00:00\", \"2015-02-01T00:00:00\", \"2015-02-08T00:00:00\", \"2015-02-15T00:00:00\", \"2015-02-22T00:00:00\", \"2015-03-01T00:00:00\", \"2015-03-08T00:00:00\", \"2015-03-15T00:00:00\", \"2015-03-22T00:00:00\", \"2015-03-29T00:00:00\", \"2015-04-05T00:00:00\", \"2015-04-12T00:00:00\", \"2015-04-19T00:00:00\", \"2015-04-26T00:00:00\", \"2015-05-03T00:00:00\", \"2015-05-10T00:00:00\", \"2015-05-17T00:00:00\", \"2015-05-24T00:00:00\", \"2015-05-31T00:00:00\", \"2015-06-07T00:00:00\", \"2015-06-14T00:00:00\", \"2015-06-21T00:00:00\", \"2015-06-28T00:00:00\", \"2015-07-05T00:00:00\", \"2015-07-12T00:00:00\", \"2015-07-19T00:00:00\", \"2015-07-26T00:00:00\", \"2015-08-02T00:00:00\", \"2015-08-09T00:00:00\", \"2015-08-16T00:00:00\", \"2015-08-23T00:00:00\", \"2015-08-30T00:00:00\", \"2015-09-06T00:00:00\", \"2015-09-13T00:00:00\", \"2015-09-20T00:00:00\", \"2015-09-27T00:00:00\", \"2015-10-04T00:00:00\", \"2015-10-11T00:00:00\", \"2015-10-18T00:00:00\", \"2015-10-25T00:00:00\", \"2015-11-01T00:00:00\", \"2015-11-08T00:00:00\", \"2015-11-15T00:00:00\", \"2015-11-22T00:00:00\", \"2015-11-29T00:00:00\", \"2015-12-06T00:00:00\", \"2015-12-13T00:00:00\", \"2015-12-20T00:00:00\", \"2015-12-27T00:00:00\", \"2016-01-03T00:00:00\", \"2016-01-10T00:00:00\", \"2016-01-17T00:00:00\", \"2016-01-24T00:00:00\", \"2016-01-31T00:00:00\", \"2016-02-07T00:00:00\", \"2016-02-14T00:00:00\", \"2016-02-21T00:00:00\", \"2016-02-28T00:00:00\", \"2016-03-06T00:00:00\", \"2016-03-13T00:00:00\", \"2016-03-20T00:00:00\", \"2016-03-27T00:00:00\", \"2016-04-03T00:00:00\", \"2016-04-10T00:00:00\", \"2016-04-17T00:00:00\", \"2016-04-24T00:00:00\", \"2016-05-01T00:00:00\", \"2016-05-08T00:00:00\", \"2016-05-15T00:00:00\", \"2016-05-22T00:00:00\", \"2016-05-29T00:00:00\", \"2016-06-05T00:00:00\", \"2016-06-12T00:00:00\", \"2016-06-19T00:00:00\", \"2016-06-26T00:00:00\", \"2016-07-03T00:00:00\", \"2016-07-10T00:00:00\", \"2016-07-17T00:00:00\", \"2016-07-24T00:00:00\", \"2016-07-31T00:00:00\", \"2016-08-07T00:00:00\", \"2016-08-14T00:00:00\", \"2016-08-21T00:00:00\", \"2016-08-28T00:00:00\", \"2016-09-04T00:00:00\", \"2016-09-11T00:00:00\", \"2016-09-18T00:00:00\", \"2016-09-25T00:00:00\", \"2016-10-02T00:00:00\", \"2016-10-09T00:00:00\", \"2016-10-16T00:00:00\", \"2016-10-23T00:00:00\", \"2016-10-30T00:00:00\", \"2016-11-06T00:00:00\", \"2016-11-13T00:00:00\", \"2016-11-20T00:00:00\", \"2016-11-27T00:00:00\", \"2016-12-04T00:00:00\", \"2016-12-11T00:00:00\", \"2016-12-18T00:00:00\", \"2016-12-25T00:00:00\", \"2017-01-01T00:00:00\", \"2017-01-08T00:00:00\", \"2017-01-15T00:00:00\", \"2017-01-22T00:00:00\", \"2017-01-29T00:00:00\", \"2017-02-05T00:00:00\", \"2017-02-12T00:00:00\", \"2017-02-19T00:00:00\", \"2017-02-26T00:00:00\", \"2017-03-05T00:00:00\", \"2017-03-12T00:00:00\", \"2017-03-19T00:00:00\", \"2017-03-26T00:00:00\", \"2017-04-02T00:00:00\", \"2017-04-09T00:00:00\", \"2017-04-16T00:00:00\", \"2017-04-23T00:00:00\", \"2017-04-30T00:00:00\", \"2017-05-07T00:00:00\", \"2017-05-14T00:00:00\", \"2017-05-21T00:00:00\", \"2017-05-28T00:00:00\", \"2017-06-04T00:00:00\", \"2017-06-11T00:00:00\", \"2017-06-18T00:00:00\", \"2017-06-25T00:00:00\", \"2017-07-02T00:00:00\", \"2017-07-09T00:00:00\", \"2017-07-16T00:00:00\", \"2017-07-23T00:00:00\", \"2017-07-30T00:00:00\", \"2017-08-06T00:00:00\", \"2017-08-13T00:00:00\", \"2017-08-20T00:00:00\", \"2017-08-27T00:00:00\", \"2017-09-03T00:00:00\", \"2017-09-10T00:00:00\", \"2017-09-17T00:00:00\", \"2017-09-24T00:00:00\", \"2017-10-01T00:00:00\", \"2017-10-08T00:00:00\", \"2017-10-15T00:00:00\", \"2017-10-22T00:00:00\", \"2017-10-29T00:00:00\", \"2017-11-05T00:00:00\", \"2017-11-12T00:00:00\", \"2017-11-19T00:00:00\", \"2017-11-26T00:00:00\", \"2017-12-03T00:00:00\", \"2017-12-10T00:00:00\", \"2017-12-17T00:00:00\", \"2017-12-24T00:00:00\", \"2017-12-31T00:00:00\", \"2018-01-07T00:00:00\", \"2018-01-14T00:00:00\", \"2018-01-21T00:00:00\", \"2018-01-28T00:00:00\", \"2018-02-04T00:00:00\", \"2018-02-11T00:00:00\", \"2018-02-18T00:00:00\", \"2018-02-25T00:00:00\", \"2018-03-04T00:00:00\", \"2018-03-11T00:00:00\", \"2018-03-18T00:00:00\", \"2018-03-25T00:00:00\"], \"y\": [1.3012962962962962, 1.3706481481481485, 1.391111111111111, 1.3971296296296296, 1.2470370370370376, 1.310462962962963, 1.3875925925925925, 1.3626851851851853, 1.3110185185185188, 1.360092592592593, 1.3919444444444447, 1.3492592592592596, 1.3975925925925925, 1.4129629629629628, 1.3639814814814817, 1.3716666666666668, 1.385185185185185, 1.2838888888888889, 1.3235185185185185, 1.3531481481481475, 1.3804629629629628, 1.3824074074074078, 1.3809259259259254, 1.400462962962963, 1.408425925925926, 1.4064814814814826, 1.4137962962962969, 1.4156481481481482, 1.3875, 1.420833333333333, 1.4773148148148147, 1.4312962962962965, 1.4498148148148144, 1.4445370370370372, 1.4194444444444447, 1.434351851851852, 1.4632407407407415, 1.4480555555555554, 1.450925925925925, 1.4191666666666671, 1.373333333333333, 1.3923148148148148, 1.3830555555555557, 1.304907407407407, 1.334351851851851, 1.3400000000000003, 1.3309259259259258, 1.3428703703703706, 1.2891588785046726, 1.2878703703703707, 1.3453703703703699, 1.2984259259259257, 1.2063888888888892, 1.2276851851851853, 1.2716666666666665, 1.2422222222222221, 1.2529629629629626, 1.1738888888888885, 1.2323148148148149, 1.2766666666666666, 1.265555555555556, 1.2569444444444444, 1.1970370370370373, 1.1976851851851853, 1.2451851851851852, 1.2353703703703702, 1.1737962962962962, 1.2212962962962965, 1.1896296296296296, 1.163703703703704, 1.1485185185185185, 1.2158333333333333, 1.2246296296296302, 1.2459259259259254, 1.2426851851851852, 1.3009259259259256, 1.2777777777777781, 1.3108333333333333, 1.294722222222222, 1.3532407407407407, 1.4280555555555554, 1.4823148148148144, 1.4483333333333335, 1.4160185185185181, 1.4188888888888889, 1.4156481481481482, 1.393888888888888, 1.3720370370370376, 1.3568518518518518, 1.4481481481481482, 1.5344444444444445, 1.575277777777777, 1.4829629629629626, 1.4844444444444447, 1.540740740740741, 1.7020370370370363, 1.6194444444444442, 1.5844444444444448, 1.4997222222222217, 1.4964814814814817, 1.369166666666666, 1.3077777777777777, 1.2771296296296295, 1.309907407407408, 1.2766666666666668, 1.2944444444444445, 1.3186111111111107, 1.2232407407407406, 1.2745370370370372, 1.1447222222222224, 1.2039814814814815, 1.269351851851852, 1.241111111111111, 1.2874074074074078, 1.4361111111111113, 1.4681481481481486, 1.4040740740740743, 1.448055555555555, 1.4659259259259256, 1.5048148148148146, 1.5437037037037034, 1.5505555555555564, 1.461666666666667, 1.5283333333333344, 1.5608333333333337, 1.5795370370370367, 1.5646296296296294, 1.521574074074074, 1.5385046728971974, 1.556915887850467, 1.5695370370370378, 1.540277777777778, 1.5810185185185188, 1.5634259259259256, 1.57037037037037, 1.606203703703704, 1.6415740740740736, 1.7368518518518519, 1.8112037037037036, 1.8551851851851848, 1.8438888888888891, 1.8313888888888892, 1.8333333333333333, 1.8712962962962971, 1.8433333333333337, 1.7828703703703699, 1.6645370370370371, 1.600185185185185, 1.5590740740740738, 1.508796296296296, 1.4991666666666663, 1.5021296296296298, 1.3853703703703704, 1.341481481481482, 1.3689814814814814, 1.439907407407407, 1.2835185185185183, 1.357777777777778, 1.4225925925925924, 1.3771296296296298, 1.3922222222222234, 1.2340740740740739, 1.307037037037037, 1.3740740740740738, 1.3596296296296293, 1.3501851851851854, 1.335092592592593, 1.3137037037037034, 1.3468518518518513]}],                        {\"template\": {\"data\": {\"bar\": [{\"error_x\": {\"color\": \"#2a3f5f\"}, \"error_y\": {\"color\": \"#2a3f5f\"}, \"marker\": {\"line\": {\"color\": \"#E5ECF6\", \"width\": 0.5}}, \"type\": \"bar\"}], \"barpolar\": [{\"marker\": {\"line\": {\"color\": \"#E5ECF6\", \"width\": 0.5}}, \"type\": \"barpolar\"}], \"carpet\": [{\"aaxis\": {\"endlinecolor\": \"#2a3f5f\", \"gridcolor\": \"white\", \"linecolor\": \"white\", \"minorgridcolor\": \"white\", \"startlinecolor\": \"#2a3f5f\"}, \"baxis\": {\"endlinecolor\": \"#2a3f5f\", \"gridcolor\": \"white\", \"linecolor\": \"white\", \"minorgridcolor\": \"white\", \"startlinecolor\": \"#2a3f5f\"}, \"type\": \"carpet\"}], \"choropleth\": [{\"colorbar\": {\"outlinewidth\": 0, \"ticks\": \"\"}, \"type\": \"choropleth\"}], \"contour\": [{\"colorbar\": {\"outlinewidth\": 0, \"ticks\": \"\"}, \"colorscale\": [[0.0, \"#0d0887\"], [0.1111111111111111, \"#46039f\"], [0.2222222222222222, \"#7201a8\"], [0.3333333333333333, \"#9c179e\"], [0.4444444444444444, \"#bd3786\"], [0.5555555555555556, \"#d8576b\"], [0.6666666666666666, \"#ed7953\"], [0.7777777777777778, \"#fb9f3a\"], [0.8888888888888888, \"#fdca26\"], [1.0, \"#f0f921\"]], \"type\": \"contour\"}], \"contourcarpet\": [{\"colorbar\": {\"outlinewidth\": 0, \"ticks\": \"\"}, \"type\": \"contourcarpet\"}], \"heatmap\": [{\"colorbar\": {\"outlinewidth\": 0, \"ticks\": \"\"}, \"colorscale\": [[0.0, \"#0d0887\"], [0.1111111111111111, \"#46039f\"], [0.2222222222222222, \"#7201a8\"], [0.3333333333333333, \"#9c179e\"], [0.4444444444444444, \"#bd3786\"], [0.5555555555555556, \"#d8576b\"], [0.6666666666666666, \"#ed7953\"], [0.7777777777777778, \"#fb9f3a\"], [0.8888888888888888, \"#fdca26\"], [1.0, \"#f0f921\"]], \"type\": \"heatmap\"}], \"heatmapgl\": [{\"colorbar\": {\"outlinewidth\": 0, \"ticks\": \"\"}, \"colorscale\": [[0.0, \"#0d0887\"], [0.1111111111111111, \"#46039f\"], [0.2222222222222222, \"#7201a8\"], [0.3333333333333333, \"#9c179e\"], [0.4444444444444444, \"#bd3786\"], [0.5555555555555556, \"#d8576b\"], [0.6666666666666666, \"#ed7953\"], [0.7777777777777778, \"#fb9f3a\"], [0.8888888888888888, \"#fdca26\"], [1.0, \"#f0f921\"]], \"type\": \"heatmapgl\"}], \"histogram\": [{\"marker\": {\"colorbar\": {\"outlinewidth\": 0, \"ticks\": \"\"}}, \"type\": \"histogram\"}], \"histogram2d\": [{\"colorbar\": {\"outlinewidth\": 0, \"ticks\": \"\"}, \"colorscale\": [[0.0, \"#0d0887\"], [0.1111111111111111, \"#46039f\"], [0.2222222222222222, \"#7201a8\"], [0.3333333333333333, \"#9c179e\"], [0.4444444444444444, \"#bd3786\"], [0.5555555555555556, \"#d8576b\"], [0.6666666666666666, \"#ed7953\"], [0.7777777777777778, \"#fb9f3a\"], [0.8888888888888888, \"#fdca26\"], [1.0, \"#f0f921\"]], \"type\": \"histogram2d\"}], \"histogram2dcontour\": [{\"colorbar\": {\"outlinewidth\": 0, \"ticks\": \"\"}, \"colorscale\": [[0.0, \"#0d0887\"], [0.1111111111111111, \"#46039f\"], [0.2222222222222222, \"#7201a8\"], [0.3333333333333333, \"#9c179e\"], [0.4444444444444444, \"#bd3786\"], [0.5555555555555556, \"#d8576b\"], [0.6666666666666666, \"#ed7953\"], [0.7777777777777778, \"#fb9f3a\"], [0.8888888888888888, \"#fdca26\"], [1.0, \"#f0f921\"]], \"type\": \"histogram2dcontour\"}], \"mesh3d\": [{\"colorbar\": {\"outlinewidth\": 0, \"ticks\": \"\"}, \"type\": \"mesh3d\"}], \"parcoords\": [{\"line\": {\"colorbar\": {\"outlinewidth\": 0, \"ticks\": \"\"}}, \"type\": \"parcoords\"}], \"pie\": [{\"automargin\": true, \"type\": \"pie\"}], \"scatter\": [{\"marker\": {\"colorbar\": {\"outlinewidth\": 0, \"ticks\": \"\"}}, \"type\": \"scatter\"}], \"scatter3d\": [{\"line\": {\"colorbar\": {\"outlinewidth\": 0, \"ticks\": \"\"}}, \"marker\": {\"colorbar\": {\"outlinewidth\": 0, \"ticks\": \"\"}}, \"type\": \"scatter3d\"}], \"scattercarpet\": [{\"marker\": {\"colorbar\": {\"outlinewidth\": 0, \"ticks\": \"\"}}, \"type\": \"scattercarpet\"}], \"scattergeo\": [{\"marker\": {\"colorbar\": {\"outlinewidth\": 0, \"ticks\": \"\"}}, \"type\": \"scattergeo\"}], \"scattergl\": [{\"marker\": {\"colorbar\": {\"outlinewidth\": 0, \"ticks\": \"\"}}, \"type\": \"scattergl\"}], \"scattermapbox\": [{\"marker\": {\"colorbar\": {\"outlinewidth\": 0, \"ticks\": \"\"}}, \"type\": \"scattermapbox\"}], \"scatterpolar\": [{\"marker\": {\"colorbar\": {\"outlinewidth\": 0, \"ticks\": \"\"}}, \"type\": \"scatterpolar\"}], \"scatterpolargl\": [{\"marker\": {\"colorbar\": {\"outlinewidth\": 0, \"ticks\": \"\"}}, \"type\": \"scatterpolargl\"}], \"scatterternary\": [{\"marker\": {\"colorbar\": {\"outlinewidth\": 0, \"ticks\": \"\"}}, \"type\": \"scatterternary\"}], \"surface\": [{\"colorbar\": {\"outlinewidth\": 0, \"ticks\": \"\"}, \"colorscale\": [[0.0, \"#0d0887\"], [0.1111111111111111, \"#46039f\"], [0.2222222222222222, \"#7201a8\"], [0.3333333333333333, \"#9c179e\"], [0.4444444444444444, \"#bd3786\"], [0.5555555555555556, \"#d8576b\"], [0.6666666666666666, \"#ed7953\"], [0.7777777777777778, \"#fb9f3a\"], [0.8888888888888888, \"#fdca26\"], [1.0, \"#f0f921\"]], \"type\": \"surface\"}], \"table\": [{\"cells\": {\"fill\": {\"color\": \"#EBF0F8\"}, \"line\": {\"color\": \"white\"}}, \"header\": {\"fill\": {\"color\": \"#C8D4E3\"}, \"line\": {\"color\": \"white\"}}, \"type\": \"table\"}]}, \"layout\": {\"annotationdefaults\": {\"arrowcolor\": \"#2a3f5f\", \"arrowhead\": 0, \"arrowwidth\": 1}, \"autotypenumbers\": \"strict\", \"coloraxis\": {\"colorbar\": {\"outlinewidth\": 0, \"ticks\": \"\"}}, \"colorscale\": {\"diverging\": [[0, \"#8e0152\"], [0.1, \"#c51b7d\"], [0.2, \"#de77ae\"], [0.3, \"#f1b6da\"], [0.4, \"#fde0ef\"], [0.5, \"#f7f7f7\"], [0.6, \"#e6f5d0\"], [0.7, \"#b8e186\"], [0.8, \"#7fbc41\"], [0.9, \"#4d9221\"], [1, \"#276419\"]], \"sequential\": [[0.0, \"#0d0887\"], [0.1111111111111111, \"#46039f\"], [0.2222222222222222, \"#7201a8\"], [0.3333333333333333, \"#9c179e\"], [0.4444444444444444, \"#bd3786\"], [0.5555555555555556, \"#d8576b\"], [0.6666666666666666, \"#ed7953\"], [0.7777777777777778, \"#fb9f3a\"], [0.8888888888888888, \"#fdca26\"], [1.0, \"#f0f921\"]], \"sequentialminus\": [[0.0, \"#0d0887\"], [0.1111111111111111, \"#46039f\"], [0.2222222222222222, \"#7201a8\"], [0.3333333333333333, \"#9c179e\"], [0.4444444444444444, \"#bd3786\"], [0.5555555555555556, \"#d8576b\"], [0.6666666666666666, \"#ed7953\"], [0.7777777777777778, \"#fb9f3a\"], [0.8888888888888888, \"#fdca26\"], [1.0, \"#f0f921\"]]}, \"colorway\": [\"#636efa\", \"#EF553B\", \"#00cc96\", \"#ab63fa\", \"#FFA15A\", \"#19d3f3\", \"#FF6692\", \"#B6E880\", \"#FF97FF\", \"#FECB52\"], \"font\": {\"color\": \"#2a3f5f\"}, \"geo\": {\"bgcolor\": \"white\", \"lakecolor\": \"white\", \"landcolor\": \"#E5ECF6\", \"showlakes\": true, \"showland\": true, \"subunitcolor\": \"white\"}, \"hoverlabel\": {\"align\": \"left\"}, \"hovermode\": \"closest\", \"mapbox\": {\"style\": \"light\"}, \"paper_bgcolor\": \"white\", \"plot_bgcolor\": \"#E5ECF6\", \"polar\": {\"angularaxis\": {\"gridcolor\": \"white\", \"linecolor\": \"white\", \"ticks\": \"\"}, \"bgcolor\": \"#E5ECF6\", \"radialaxis\": {\"gridcolor\": \"white\", \"linecolor\": \"white\", \"ticks\": \"\"}}, \"scene\": {\"xaxis\": {\"backgroundcolor\": \"#E5ECF6\", \"gridcolor\": \"white\", \"gridwidth\": 2, \"linecolor\": \"white\", \"showbackground\": true, \"ticks\": \"\", \"zerolinecolor\": \"white\"}, \"yaxis\": {\"backgroundcolor\": \"#E5ECF6\", \"gridcolor\": \"white\", \"gridwidth\": 2, \"linecolor\": \"white\", \"showbackground\": true, \"ticks\": \"\", \"zerolinecolor\": \"white\"}, \"zaxis\": {\"backgroundcolor\": \"#E5ECF6\", \"gridcolor\": \"white\", \"gridwidth\": 2, \"linecolor\": \"white\", \"showbackground\": true, \"ticks\": \"\", \"zerolinecolor\": \"white\"}}, \"shapedefaults\": {\"line\": {\"color\": \"#2a3f5f\"}}, \"ternary\": {\"aaxis\": {\"gridcolor\": \"white\", \"linecolor\": \"white\", \"ticks\": \"\"}, \"baxis\": {\"gridcolor\": \"white\", \"linecolor\": \"white\", \"ticks\": \"\"}, \"bgcolor\": \"#E5ECF6\", \"caxis\": {\"gridcolor\": \"white\", \"linecolor\": \"white\", \"ticks\": \"\"}}, \"title\": {\"x\": 0.05}, \"xaxis\": {\"automargin\": true, \"gridcolor\": \"white\", \"linecolor\": \"white\", \"ticks\": \"\", \"title\": {\"standoff\": 15}, \"zerolinecolor\": \"white\", \"zerolinewidth\": 2}, \"yaxis\": {\"automargin\": true, \"gridcolor\": \"white\", \"linecolor\": \"white\", \"ticks\": \"\", \"title\": {\"standoff\": 15}, \"zerolinecolor\": \"white\", \"zerolinewidth\": 2}}}, \"title\": {\"text\": \"Time series plot for mean daily prices for all regions\"}, \"xaxis\": {\"title\": {\"text\": \"Date\"}}, \"yaxis\": {\"title\": {\"text\": \"Prices\"}}},                        {\"responsive\": true}                    ).then(function(){\n",
       "                            \n",
       "var gd = document.getElementById('ba4fbdd6-b836-4ad0-b24b-53391c614846');\n",
       "var x = new MutationObserver(function (mutations, observer) {{\n",
       "        var display = window.getComputedStyle(gd).display;\n",
       "        if (!display || display === 'none') {{\n",
       "            console.log([gd, 'removed!']);\n",
       "            Plotly.purge(gd);\n",
       "            observer.disconnect();\n",
       "        }}\n",
       "}});\n",
       "\n",
       "// Listen for the removal of the full notebook cells\n",
       "var notebookContainer = gd.closest('#notebook-container');\n",
       "if (notebookContainer) {{\n",
       "    x.observe(notebookContainer, {childList: true});\n",
       "}}\n",
       "\n",
       "// Listen for the clearing of the current output cell\n",
       "var outputEl = gd.closest('.output');\n",
       "if (outputEl) {{\n",
       "    x.observe(outputEl, {childList: true});\n",
       "}}\n",
       "\n",
       "                        })                };                });            </script>        </div>"
      ]
     },
     "metadata": {},
     "output_type": "display_data"
    }
   ],
   "source": [
    "import matplotlib.pyplot as plt\n",
    "import seaborn as sns\n",
    "import plotly\n",
    "from plotly.offline import init_notebook_mode, iplot\n",
    "import plotly.graph_objs as go\n",
    "init_notebook_mode(connected=True)\n",
    "plt.style.use('fivethirtyeight')\n",
    "\n",
    "scatter = go.Scatter(x = data.groupby('Date').mean().index, y = data.groupby('Date').mean().AveragePrice , name = 'avg price')\n",
    "\n",
    "layout = go.Layout(title = 'Time series plot for mean daily prices for all regions', xaxis ={'title':'Date'}, yaxis = {'title':'Prices'})\n",
    "figure = go.Figure(data = [scatter], layout = layout)\n",
    "iplot(figure)"
   ]
  },
  {
   "cell_type": "code",
   "execution_count": 10,
   "metadata": {},
   "outputs": [],
   "source": [
    "#renaming columns\n",
    "\n",
    "rename_columns = list(data.columns)\n",
    "rename_columns = [x.lower() for x in rename_columns]\n",
    "data.columns = rename_columns\n",
    "data = data.rename(columns = lambda x: x.replace(' ','_'))"
   ]
  },
  {
   "cell_type": "code",
   "execution_count": 11,
   "metadata": {},
   "outputs": [
    {
     "data": {
      "text/html": [
       "<div>\n",
       "<style scoped>\n",
       "    .dataframe tbody tr th:only-of-type {\n",
       "        vertical-align: middle;\n",
       "    }\n",
       "\n",
       "    .dataframe tbody tr th {\n",
       "        vertical-align: top;\n",
       "    }\n",
       "\n",
       "    .dataframe thead th {\n",
       "        text-align: right;\n",
       "    }\n",
       "</style>\n",
       "<table border=\"1\" class=\"dataframe\">\n",
       "  <thead>\n",
       "    <tr style=\"text-align: right;\">\n",
       "      <th></th>\n",
       "      <th>date</th>\n",
       "      <th>averageprice</th>\n",
       "      <th>total_volume</th>\n",
       "      <th>4046</th>\n",
       "      <th>4225</th>\n",
       "      <th>4770</th>\n",
       "      <th>total_bags</th>\n",
       "      <th>small_bags</th>\n",
       "      <th>large_bags</th>\n",
       "      <th>xlarge_bags</th>\n",
       "      <th>type</th>\n",
       "      <th>year</th>\n",
       "      <th>region</th>\n",
       "      <th>month</th>\n",
       "      <th>day</th>\n",
       "    </tr>\n",
       "  </thead>\n",
       "  <tbody>\n",
       "    <tr>\n",
       "      <td>0</td>\n",
       "      <td>2015-12-27</td>\n",
       "      <td>1.33</td>\n",
       "      <td>64236.62</td>\n",
       "      <td>1036.74</td>\n",
       "      <td>54454.85</td>\n",
       "      <td>48.16</td>\n",
       "      <td>8696.87</td>\n",
       "      <td>8603.62</td>\n",
       "      <td>93.25</td>\n",
       "      <td>0.0</td>\n",
       "      <td>conventional</td>\n",
       "      <td>2015</td>\n",
       "      <td>Albany</td>\n",
       "      <td>12</td>\n",
       "      <td>27</td>\n",
       "    </tr>\n",
       "    <tr>\n",
       "      <td>1</td>\n",
       "      <td>2015-12-20</td>\n",
       "      <td>1.35</td>\n",
       "      <td>54876.98</td>\n",
       "      <td>674.28</td>\n",
       "      <td>44638.81</td>\n",
       "      <td>58.33</td>\n",
       "      <td>9505.56</td>\n",
       "      <td>9408.07</td>\n",
       "      <td>97.49</td>\n",
       "      <td>0.0</td>\n",
       "      <td>conventional</td>\n",
       "      <td>2015</td>\n",
       "      <td>Albany</td>\n",
       "      <td>12</td>\n",
       "      <td>20</td>\n",
       "    </tr>\n",
       "    <tr>\n",
       "      <td>2</td>\n",
       "      <td>2015-12-13</td>\n",
       "      <td>0.93</td>\n",
       "      <td>118220.22</td>\n",
       "      <td>794.70</td>\n",
       "      <td>109149.67</td>\n",
       "      <td>130.50</td>\n",
       "      <td>8145.35</td>\n",
       "      <td>8042.21</td>\n",
       "      <td>103.14</td>\n",
       "      <td>0.0</td>\n",
       "      <td>conventional</td>\n",
       "      <td>2015</td>\n",
       "      <td>Albany</td>\n",
       "      <td>12</td>\n",
       "      <td>13</td>\n",
       "    </tr>\n",
       "    <tr>\n",
       "      <td>3</td>\n",
       "      <td>2015-12-06</td>\n",
       "      <td>1.08</td>\n",
       "      <td>78992.15</td>\n",
       "      <td>1132.00</td>\n",
       "      <td>71976.41</td>\n",
       "      <td>72.58</td>\n",
       "      <td>5811.16</td>\n",
       "      <td>5677.40</td>\n",
       "      <td>133.76</td>\n",
       "      <td>0.0</td>\n",
       "      <td>conventional</td>\n",
       "      <td>2015</td>\n",
       "      <td>Albany</td>\n",
       "      <td>12</td>\n",
       "      <td>6</td>\n",
       "    </tr>\n",
       "    <tr>\n",
       "      <td>4</td>\n",
       "      <td>2015-11-29</td>\n",
       "      <td>1.28</td>\n",
       "      <td>51039.60</td>\n",
       "      <td>941.48</td>\n",
       "      <td>43838.39</td>\n",
       "      <td>75.78</td>\n",
       "      <td>6183.95</td>\n",
       "      <td>5986.26</td>\n",
       "      <td>197.69</td>\n",
       "      <td>0.0</td>\n",
       "      <td>conventional</td>\n",
       "      <td>2015</td>\n",
       "      <td>Albany</td>\n",
       "      <td>11</td>\n",
       "      <td>29</td>\n",
       "    </tr>\n",
       "    <tr>\n",
       "      <td>...</td>\n",
       "      <td>...</td>\n",
       "      <td>...</td>\n",
       "      <td>...</td>\n",
       "      <td>...</td>\n",
       "      <td>...</td>\n",
       "      <td>...</td>\n",
       "      <td>...</td>\n",
       "      <td>...</td>\n",
       "      <td>...</td>\n",
       "      <td>...</td>\n",
       "      <td>...</td>\n",
       "      <td>...</td>\n",
       "      <td>...</td>\n",
       "      <td>...</td>\n",
       "      <td>...</td>\n",
       "    </tr>\n",
       "    <tr>\n",
       "      <td>18244</td>\n",
       "      <td>2018-02-04</td>\n",
       "      <td>1.63</td>\n",
       "      <td>17074.83</td>\n",
       "      <td>2046.96</td>\n",
       "      <td>1529.20</td>\n",
       "      <td>0.00</td>\n",
       "      <td>13498.67</td>\n",
       "      <td>13066.82</td>\n",
       "      <td>431.85</td>\n",
       "      <td>0.0</td>\n",
       "      <td>organic</td>\n",
       "      <td>2018</td>\n",
       "      <td>WestTexNewMexico</td>\n",
       "      <td>2</td>\n",
       "      <td>4</td>\n",
       "    </tr>\n",
       "    <tr>\n",
       "      <td>18245</td>\n",
       "      <td>2018-01-28</td>\n",
       "      <td>1.71</td>\n",
       "      <td>13888.04</td>\n",
       "      <td>1191.70</td>\n",
       "      <td>3431.50</td>\n",
       "      <td>0.00</td>\n",
       "      <td>9264.84</td>\n",
       "      <td>8940.04</td>\n",
       "      <td>324.80</td>\n",
       "      <td>0.0</td>\n",
       "      <td>organic</td>\n",
       "      <td>2018</td>\n",
       "      <td>WestTexNewMexico</td>\n",
       "      <td>1</td>\n",
       "      <td>28</td>\n",
       "    </tr>\n",
       "    <tr>\n",
       "      <td>18246</td>\n",
       "      <td>2018-01-21</td>\n",
       "      <td>1.87</td>\n",
       "      <td>13766.76</td>\n",
       "      <td>1191.92</td>\n",
       "      <td>2452.79</td>\n",
       "      <td>727.94</td>\n",
       "      <td>9394.11</td>\n",
       "      <td>9351.80</td>\n",
       "      <td>42.31</td>\n",
       "      <td>0.0</td>\n",
       "      <td>organic</td>\n",
       "      <td>2018</td>\n",
       "      <td>WestTexNewMexico</td>\n",
       "      <td>1</td>\n",
       "      <td>21</td>\n",
       "    </tr>\n",
       "    <tr>\n",
       "      <td>18247</td>\n",
       "      <td>2018-01-14</td>\n",
       "      <td>1.93</td>\n",
       "      <td>16205.22</td>\n",
       "      <td>1527.63</td>\n",
       "      <td>2981.04</td>\n",
       "      <td>727.01</td>\n",
       "      <td>10969.54</td>\n",
       "      <td>10919.54</td>\n",
       "      <td>50.00</td>\n",
       "      <td>0.0</td>\n",
       "      <td>organic</td>\n",
       "      <td>2018</td>\n",
       "      <td>WestTexNewMexico</td>\n",
       "      <td>1</td>\n",
       "      <td>14</td>\n",
       "    </tr>\n",
       "    <tr>\n",
       "      <td>18248</td>\n",
       "      <td>2018-01-07</td>\n",
       "      <td>1.62</td>\n",
       "      <td>17489.58</td>\n",
       "      <td>2894.77</td>\n",
       "      <td>2356.13</td>\n",
       "      <td>224.53</td>\n",
       "      <td>12014.15</td>\n",
       "      <td>11988.14</td>\n",
       "      <td>26.01</td>\n",
       "      <td>0.0</td>\n",
       "      <td>organic</td>\n",
       "      <td>2018</td>\n",
       "      <td>WestTexNewMexico</td>\n",
       "      <td>1</td>\n",
       "      <td>7</td>\n",
       "    </tr>\n",
       "  </tbody>\n",
       "</table>\n",
       "<p>18249 rows × 15 columns</p>\n",
       "</div>"
      ],
      "text/plain": [
       "            date  averageprice  total_volume     4046       4225    4770  \\\n",
       "0     2015-12-27          1.33      64236.62  1036.74   54454.85   48.16   \n",
       "1     2015-12-20          1.35      54876.98   674.28   44638.81   58.33   \n",
       "2     2015-12-13          0.93     118220.22   794.70  109149.67  130.50   \n",
       "3     2015-12-06          1.08      78992.15  1132.00   71976.41   72.58   \n",
       "4     2015-11-29          1.28      51039.60   941.48   43838.39   75.78   \n",
       "...          ...           ...           ...      ...        ...     ...   \n",
       "18244 2018-02-04          1.63      17074.83  2046.96    1529.20    0.00   \n",
       "18245 2018-01-28          1.71      13888.04  1191.70    3431.50    0.00   \n",
       "18246 2018-01-21          1.87      13766.76  1191.92    2452.79  727.94   \n",
       "18247 2018-01-14          1.93      16205.22  1527.63    2981.04  727.01   \n",
       "18248 2018-01-07          1.62      17489.58  2894.77    2356.13  224.53   \n",
       "\n",
       "       total_bags  small_bags  large_bags  xlarge_bags          type  year  \\\n",
       "0         8696.87     8603.62       93.25          0.0  conventional  2015   \n",
       "1         9505.56     9408.07       97.49          0.0  conventional  2015   \n",
       "2         8145.35     8042.21      103.14          0.0  conventional  2015   \n",
       "3         5811.16     5677.40      133.76          0.0  conventional  2015   \n",
       "4         6183.95     5986.26      197.69          0.0  conventional  2015   \n",
       "...           ...         ...         ...          ...           ...   ...   \n",
       "18244    13498.67    13066.82      431.85          0.0       organic  2018   \n",
       "18245     9264.84     8940.04      324.80          0.0       organic  2018   \n",
       "18246     9394.11     9351.80       42.31          0.0       organic  2018   \n",
       "18247    10969.54    10919.54       50.00          0.0       organic  2018   \n",
       "18248    12014.15    11988.14       26.01          0.0       organic  2018   \n",
       "\n",
       "                 region  month  day  \n",
       "0                Albany     12   27  \n",
       "1                Albany     12   20  \n",
       "2                Albany     12   13  \n",
       "3                Albany     12    6  \n",
       "4                Albany     11   29  \n",
       "...                 ...    ...  ...  \n",
       "18244  WestTexNewMexico      2    4  \n",
       "18245  WestTexNewMexico      1   28  \n",
       "18246  WestTexNewMexico      1   21  \n",
       "18247  WestTexNewMexico      1   14  \n",
       "18248  WestTexNewMexico      1    7  \n",
       "\n",
       "[18249 rows x 15 columns]"
      ]
     },
     "execution_count": 11,
     "metadata": {},
     "output_type": "execute_result"
    }
   ],
   "source": [
    "data"
   ]
  },
  {
   "cell_type": "code",
   "execution_count": 12,
   "metadata": {},
   "outputs": [],
   "source": [
    "from sklearn.preprocessing import StandardScaler, LabelEncoder, PolynomialFeatures\n",
    "from sklearn.model_selection import train_test_split, cross_val_score\n",
    "from sklearn.ensemble import RandomForestRegressor, AdaBoostRegressor\n",
    "from sklearn.metrics import mean_squared_error, mean_absolute_error\n",
    "from sklearn.linear_model import LinearRegression, ElasticNetCV\n",
    "from sklearn.svm import SVR\n",
    "\n",
    "#Tranforming categorical values \n",
    "\n",
    "def label_enconcode_pre(df):\n",
    "    if df.dtype == 'object':\n",
    "        df = LabelEncoder().fit_transform(df)\n",
    "    return df\n",
    "\n",
    "data = data.apply(lambda x: label_enconcode_pre(x))"
   ]
  },
  {
   "cell_type": "code",
   "execution_count": 13,
   "metadata": {},
   "outputs": [],
   "source": [
    "data = pd.get_dummies(data, columns=['year','type','region'], drop_first= True)"
   ]
  },
  {
   "cell_type": "code",
   "execution_count": 14,
   "metadata": {},
   "outputs": [],
   "source": [
    "data = data.set_index('date')"
   ]
  },
  {
   "cell_type": "code",
   "execution_count": 15,
   "metadata": {
    "scrolled": true
   },
   "outputs": [
    {
     "data": {
      "application/vnd.plotly.v1+json": {
       "config": {
        "linkText": "Export to plot.ly",
        "plotlyServerURL": "https://plot.ly",
        "showLink": false
       },
       "data": [
        {
         "name": "train",
         "type": "scatter",
         "x": [
          "2015-01-04T00:00:00",
          "2015-01-11T00:00:00",
          "2015-01-18T00:00:00",
          "2015-01-25T00:00:00",
          "2015-02-01T00:00:00",
          "2015-02-08T00:00:00",
          "2015-02-15T00:00:00",
          "2015-02-22T00:00:00",
          "2015-03-01T00:00:00",
          "2015-03-08T00:00:00",
          "2015-03-15T00:00:00",
          "2015-03-22T00:00:00",
          "2015-03-29T00:00:00",
          "2015-04-05T00:00:00",
          "2015-04-12T00:00:00",
          "2015-04-19T00:00:00",
          "2015-04-26T00:00:00",
          "2015-05-03T00:00:00",
          "2015-05-10T00:00:00",
          "2015-05-17T00:00:00",
          "2015-05-24T00:00:00",
          "2015-05-31T00:00:00",
          "2015-06-07T00:00:00",
          "2015-06-14T00:00:00",
          "2015-06-21T00:00:00",
          "2015-06-28T00:00:00",
          "2015-07-05T00:00:00",
          "2015-07-12T00:00:00",
          "2015-07-19T00:00:00",
          "2015-07-26T00:00:00",
          "2015-08-02T00:00:00",
          "2015-08-09T00:00:00",
          "2015-08-16T00:00:00",
          "2015-08-23T00:00:00",
          "2015-08-30T00:00:00",
          "2015-09-06T00:00:00",
          "2015-09-13T00:00:00",
          "2015-09-20T00:00:00",
          "2015-09-27T00:00:00",
          "2015-10-04T00:00:00",
          "2015-10-11T00:00:00",
          "2015-10-18T00:00:00",
          "2015-10-25T00:00:00",
          "2015-11-01T00:00:00",
          "2015-11-08T00:00:00",
          "2015-11-15T00:00:00",
          "2015-11-22T00:00:00",
          "2015-11-29T00:00:00",
          "2015-12-06T00:00:00",
          "2015-12-13T00:00:00",
          "2015-12-20T00:00:00",
          "2015-12-27T00:00:00",
          "2016-01-03T00:00:00",
          "2016-01-10T00:00:00",
          "2016-01-17T00:00:00",
          "2016-01-24T00:00:00",
          "2016-01-31T00:00:00",
          "2016-02-07T00:00:00",
          "2016-02-14T00:00:00",
          "2016-02-21T00:00:00",
          "2016-02-28T00:00:00",
          "2016-03-06T00:00:00",
          "2016-03-13T00:00:00",
          "2016-03-20T00:00:00",
          "2016-03-27T00:00:00",
          "2016-04-03T00:00:00",
          "2016-04-10T00:00:00",
          "2016-04-17T00:00:00",
          "2016-04-24T00:00:00",
          "2016-05-01T00:00:00",
          "2016-05-08T00:00:00",
          "2016-05-15T00:00:00",
          "2016-05-22T00:00:00",
          "2016-05-29T00:00:00",
          "2016-06-05T00:00:00",
          "2016-06-12T00:00:00",
          "2016-06-19T00:00:00",
          "2016-06-26T00:00:00",
          "2016-07-03T00:00:00",
          "2016-07-10T00:00:00",
          "2016-07-17T00:00:00",
          "2016-07-24T00:00:00",
          "2016-07-31T00:00:00",
          "2016-08-07T00:00:00",
          "2016-08-14T00:00:00",
          "2016-08-21T00:00:00",
          "2016-08-28T00:00:00",
          "2016-09-04T00:00:00",
          "2016-09-11T00:00:00",
          "2016-09-18T00:00:00",
          "2016-09-25T00:00:00",
          "2016-10-02T00:00:00",
          "2016-10-09T00:00:00",
          "2016-10-16T00:00:00",
          "2016-10-23T00:00:00",
          "2016-10-30T00:00:00",
          "2016-11-06T00:00:00",
          "2016-11-13T00:00:00",
          "2016-11-20T00:00:00",
          "2016-11-27T00:00:00",
          "2016-12-04T00:00:00",
          "2016-12-11T00:00:00",
          "2016-12-18T00:00:00",
          "2016-12-25T00:00:00",
          "2017-01-01T00:00:00",
          "2017-01-08T00:00:00",
          "2017-01-15T00:00:00",
          "2017-01-22T00:00:00",
          "2017-01-29T00:00:00",
          "2017-02-05T00:00:00",
          "2017-02-12T00:00:00",
          "2017-02-19T00:00:00",
          "2017-02-26T00:00:00",
          "2017-03-05T00:00:00",
          "2017-03-12T00:00:00",
          "2017-03-19T00:00:00",
          "2017-03-26T00:00:00",
          "2017-04-02T00:00:00",
          "2017-04-09T00:00:00",
          "2017-04-16T00:00:00",
          "2017-04-23T00:00:00",
          "2017-04-30T00:00:00",
          "2017-05-07T00:00:00",
          "2017-05-14T00:00:00",
          "2017-05-21T00:00:00",
          "2017-05-28T00:00:00",
          "2017-06-04T00:00:00",
          "2017-06-11T00:00:00",
          "2017-06-18T00:00:00",
          "2017-06-25T00:00:00",
          "2017-07-02T00:00:00",
          "2017-07-09T00:00:00",
          "2017-07-16T00:00:00",
          "2017-07-23T00:00:00",
          "2017-07-30T00:00:00"
         ],
         "y": [
          1.3012962962962962,
          1.3706481481481485,
          1.391111111111111,
          1.3971296296296296,
          1.2470370370370376,
          1.310462962962963,
          1.3875925925925925,
          1.3626851851851853,
          1.3110185185185188,
          1.360092592592593,
          1.3919444444444447,
          1.3492592592592596,
          1.3975925925925925,
          1.4129629629629628,
          1.3639814814814817,
          1.3716666666666668,
          1.385185185185185,
          1.2838888888888889,
          1.3235185185185185,
          1.3531481481481475,
          1.3804629629629628,
          1.3824074074074078,
          1.3809259259259254,
          1.400462962962963,
          1.408425925925926,
          1.4064814814814826,
          1.4137962962962969,
          1.4156481481481482,
          1.3875,
          1.420833333333333,
          1.4773148148148147,
          1.4312962962962965,
          1.4498148148148144,
          1.4445370370370372,
          1.4194444444444447,
          1.434351851851852,
          1.4632407407407415,
          1.4480555555555554,
          1.450925925925925,
          1.4191666666666671,
          1.373333333333333,
          1.3923148148148148,
          1.3830555555555557,
          1.304907407407407,
          1.334351851851851,
          1.3400000000000003,
          1.3309259259259258,
          1.3428703703703706,
          1.2891588785046726,
          1.2878703703703707,
          1.3453703703703699,
          1.2984259259259257,
          1.2063888888888892,
          1.2276851851851853,
          1.2716666666666665,
          1.2422222222222221,
          1.2529629629629626,
          1.1738888888888885,
          1.2323148148148149,
          1.2766666666666666,
          1.265555555555556,
          1.2569444444444444,
          1.1970370370370373,
          1.1976851851851853,
          1.2451851851851852,
          1.2353703703703702,
          1.1737962962962962,
          1.2212962962962965,
          1.1896296296296296,
          1.163703703703704,
          1.1485185185185185,
          1.2158333333333333,
          1.2246296296296302,
          1.2459259259259254,
          1.2426851851851852,
          1.3009259259259256,
          1.2777777777777781,
          1.3108333333333333,
          1.294722222222222,
          1.3532407407407407,
          1.4280555555555554,
          1.4823148148148144,
          1.4483333333333335,
          1.4160185185185181,
          1.4188888888888889,
          1.4156481481481482,
          1.393888888888888,
          1.3720370370370376,
          1.3568518518518518,
          1.4481481481481482,
          1.5344444444444445,
          1.575277777777777,
          1.4829629629629626,
          1.4844444444444447,
          1.540740740740741,
          1.7020370370370363,
          1.6194444444444442,
          1.5844444444444448,
          1.4997222222222217,
          1.4964814814814817,
          1.369166666666666,
          1.3077777777777777,
          1.2771296296296295,
          1.309907407407408,
          1.2766666666666668,
          1.2944444444444445,
          1.3186111111111107,
          1.2232407407407406,
          1.2745370370370372,
          1.1447222222222224,
          1.2039814814814815,
          1.269351851851852,
          1.241111111111111,
          1.2874074074074078,
          1.4361111111111113,
          1.4681481481481486,
          1.4040740740740743,
          1.448055555555555,
          1.4659259259259256,
          1.5048148148148146,
          1.5437037037037034,
          1.5505555555555564,
          1.461666666666667,
          1.5283333333333344,
          1.5608333333333337,
          1.5795370370370367,
          1.5646296296296294,
          1.521574074074074,
          1.5385046728971974,
          1.556915887850467,
          1.5695370370370378,
          1.540277777777778,
          1.5810185185185188,
          1.5634259259259256,
          1.57037037037037
         ]
        },
        {
         "name": "test",
         "type": "scatter",
         "x": [
          "2017-08-06T00:00:00",
          "2017-08-13T00:00:00",
          "2017-08-20T00:00:00",
          "2017-08-27T00:00:00",
          "2017-09-03T00:00:00",
          "2017-09-10T00:00:00",
          "2017-09-17T00:00:00",
          "2017-09-24T00:00:00",
          "2017-10-01T00:00:00",
          "2017-10-08T00:00:00",
          "2017-10-15T00:00:00",
          "2017-10-22T00:00:00",
          "2017-10-29T00:00:00",
          "2017-11-05T00:00:00",
          "2017-11-12T00:00:00",
          "2017-11-19T00:00:00",
          "2017-11-26T00:00:00",
          "2017-12-03T00:00:00",
          "2017-12-10T00:00:00",
          "2017-12-17T00:00:00",
          "2017-12-24T00:00:00",
          "2017-12-31T00:00:00",
          "2018-01-07T00:00:00",
          "2018-01-14T00:00:00",
          "2018-01-21T00:00:00",
          "2018-01-28T00:00:00",
          "2018-02-04T00:00:00",
          "2018-02-11T00:00:00",
          "2018-02-18T00:00:00",
          "2018-02-25T00:00:00",
          "2018-03-04T00:00:00",
          "2018-03-11T00:00:00",
          "2018-03-18T00:00:00",
          "2018-03-25T00:00:00"
         ],
         "y": [
          1.606203703703704,
          1.6415740740740736,
          1.7368518518518519,
          1.8112037037037036,
          1.8551851851851848,
          1.8438888888888891,
          1.8313888888888892,
          1.8333333333333333,
          1.8712962962962971,
          1.8433333333333337,
          1.7828703703703699,
          1.6645370370370371,
          1.600185185185185,
          1.5590740740740738,
          1.508796296296296,
          1.4991666666666663,
          1.5021296296296298,
          1.3853703703703704,
          1.341481481481482,
          1.3689814814814814,
          1.439907407407407,
          1.2835185185185183,
          1.357777777777778,
          1.4225925925925924,
          1.3771296296296298,
          1.3922222222222234,
          1.2340740740740739,
          1.307037037037037,
          1.3740740740740738,
          1.3596296296296293,
          1.3501851851851854,
          1.335092592592593,
          1.3137037037037034,
          1.3468518518518513
         ]
        }
       ],
       "layout": {
        "template": {
         "data": {
          "bar": [
           {
            "error_x": {
             "color": "#2a3f5f"
            },
            "error_y": {
             "color": "#2a3f5f"
            },
            "marker": {
             "line": {
              "color": "#E5ECF6",
              "width": 0.5
             }
            },
            "type": "bar"
           }
          ],
          "barpolar": [
           {
            "marker": {
             "line": {
              "color": "#E5ECF6",
              "width": 0.5
             }
            },
            "type": "barpolar"
           }
          ],
          "carpet": [
           {
            "aaxis": {
             "endlinecolor": "#2a3f5f",
             "gridcolor": "white",
             "linecolor": "white",
             "minorgridcolor": "white",
             "startlinecolor": "#2a3f5f"
            },
            "baxis": {
             "endlinecolor": "#2a3f5f",
             "gridcolor": "white",
             "linecolor": "white",
             "minorgridcolor": "white",
             "startlinecolor": "#2a3f5f"
            },
            "type": "carpet"
           }
          ],
          "choropleth": [
           {
            "colorbar": {
             "outlinewidth": 0,
             "ticks": ""
            },
            "type": "choropleth"
           }
          ],
          "contour": [
           {
            "colorbar": {
             "outlinewidth": 0,
             "ticks": ""
            },
            "colorscale": [
             [
              0,
              "#0d0887"
             ],
             [
              0.1111111111111111,
              "#46039f"
             ],
             [
              0.2222222222222222,
              "#7201a8"
             ],
             [
              0.3333333333333333,
              "#9c179e"
             ],
             [
              0.4444444444444444,
              "#bd3786"
             ],
             [
              0.5555555555555556,
              "#d8576b"
             ],
             [
              0.6666666666666666,
              "#ed7953"
             ],
             [
              0.7777777777777778,
              "#fb9f3a"
             ],
             [
              0.8888888888888888,
              "#fdca26"
             ],
             [
              1,
              "#f0f921"
             ]
            ],
            "type": "contour"
           }
          ],
          "contourcarpet": [
           {
            "colorbar": {
             "outlinewidth": 0,
             "ticks": ""
            },
            "type": "contourcarpet"
           }
          ],
          "heatmap": [
           {
            "colorbar": {
             "outlinewidth": 0,
             "ticks": ""
            },
            "colorscale": [
             [
              0,
              "#0d0887"
             ],
             [
              0.1111111111111111,
              "#46039f"
             ],
             [
              0.2222222222222222,
              "#7201a8"
             ],
             [
              0.3333333333333333,
              "#9c179e"
             ],
             [
              0.4444444444444444,
              "#bd3786"
             ],
             [
              0.5555555555555556,
              "#d8576b"
             ],
             [
              0.6666666666666666,
              "#ed7953"
             ],
             [
              0.7777777777777778,
              "#fb9f3a"
             ],
             [
              0.8888888888888888,
              "#fdca26"
             ],
             [
              1,
              "#f0f921"
             ]
            ],
            "type": "heatmap"
           }
          ],
          "heatmapgl": [
           {
            "colorbar": {
             "outlinewidth": 0,
             "ticks": ""
            },
            "colorscale": [
             [
              0,
              "#0d0887"
             ],
             [
              0.1111111111111111,
              "#46039f"
             ],
             [
              0.2222222222222222,
              "#7201a8"
             ],
             [
              0.3333333333333333,
              "#9c179e"
             ],
             [
              0.4444444444444444,
              "#bd3786"
             ],
             [
              0.5555555555555556,
              "#d8576b"
             ],
             [
              0.6666666666666666,
              "#ed7953"
             ],
             [
              0.7777777777777778,
              "#fb9f3a"
             ],
             [
              0.8888888888888888,
              "#fdca26"
             ],
             [
              1,
              "#f0f921"
             ]
            ],
            "type": "heatmapgl"
           }
          ],
          "histogram": [
           {
            "marker": {
             "colorbar": {
              "outlinewidth": 0,
              "ticks": ""
             }
            },
            "type": "histogram"
           }
          ],
          "histogram2d": [
           {
            "colorbar": {
             "outlinewidth": 0,
             "ticks": ""
            },
            "colorscale": [
             [
              0,
              "#0d0887"
             ],
             [
              0.1111111111111111,
              "#46039f"
             ],
             [
              0.2222222222222222,
              "#7201a8"
             ],
             [
              0.3333333333333333,
              "#9c179e"
             ],
             [
              0.4444444444444444,
              "#bd3786"
             ],
             [
              0.5555555555555556,
              "#d8576b"
             ],
             [
              0.6666666666666666,
              "#ed7953"
             ],
             [
              0.7777777777777778,
              "#fb9f3a"
             ],
             [
              0.8888888888888888,
              "#fdca26"
             ],
             [
              1,
              "#f0f921"
             ]
            ],
            "type": "histogram2d"
           }
          ],
          "histogram2dcontour": [
           {
            "colorbar": {
             "outlinewidth": 0,
             "ticks": ""
            },
            "colorscale": [
             [
              0,
              "#0d0887"
             ],
             [
              0.1111111111111111,
              "#46039f"
             ],
             [
              0.2222222222222222,
              "#7201a8"
             ],
             [
              0.3333333333333333,
              "#9c179e"
             ],
             [
              0.4444444444444444,
              "#bd3786"
             ],
             [
              0.5555555555555556,
              "#d8576b"
             ],
             [
              0.6666666666666666,
              "#ed7953"
             ],
             [
              0.7777777777777778,
              "#fb9f3a"
             ],
             [
              0.8888888888888888,
              "#fdca26"
             ],
             [
              1,
              "#f0f921"
             ]
            ],
            "type": "histogram2dcontour"
           }
          ],
          "mesh3d": [
           {
            "colorbar": {
             "outlinewidth": 0,
             "ticks": ""
            },
            "type": "mesh3d"
           }
          ],
          "parcoords": [
           {
            "line": {
             "colorbar": {
              "outlinewidth": 0,
              "ticks": ""
             }
            },
            "type": "parcoords"
           }
          ],
          "pie": [
           {
            "automargin": true,
            "type": "pie"
           }
          ],
          "scatter": [
           {
            "marker": {
             "colorbar": {
              "outlinewidth": 0,
              "ticks": ""
             }
            },
            "type": "scatter"
           }
          ],
          "scatter3d": [
           {
            "line": {
             "colorbar": {
              "outlinewidth": 0,
              "ticks": ""
             }
            },
            "marker": {
             "colorbar": {
              "outlinewidth": 0,
              "ticks": ""
             }
            },
            "type": "scatter3d"
           }
          ],
          "scattercarpet": [
           {
            "marker": {
             "colorbar": {
              "outlinewidth": 0,
              "ticks": ""
             }
            },
            "type": "scattercarpet"
           }
          ],
          "scattergeo": [
           {
            "marker": {
             "colorbar": {
              "outlinewidth": 0,
              "ticks": ""
             }
            },
            "type": "scattergeo"
           }
          ],
          "scattergl": [
           {
            "marker": {
             "colorbar": {
              "outlinewidth": 0,
              "ticks": ""
             }
            },
            "type": "scattergl"
           }
          ],
          "scattermapbox": [
           {
            "marker": {
             "colorbar": {
              "outlinewidth": 0,
              "ticks": ""
             }
            },
            "type": "scattermapbox"
           }
          ],
          "scatterpolar": [
           {
            "marker": {
             "colorbar": {
              "outlinewidth": 0,
              "ticks": ""
             }
            },
            "type": "scatterpolar"
           }
          ],
          "scatterpolargl": [
           {
            "marker": {
             "colorbar": {
              "outlinewidth": 0,
              "ticks": ""
             }
            },
            "type": "scatterpolargl"
           }
          ],
          "scatterternary": [
           {
            "marker": {
             "colorbar": {
              "outlinewidth": 0,
              "ticks": ""
             }
            },
            "type": "scatterternary"
           }
          ],
          "surface": [
           {
            "colorbar": {
             "outlinewidth": 0,
             "ticks": ""
            },
            "colorscale": [
             [
              0,
              "#0d0887"
             ],
             [
              0.1111111111111111,
              "#46039f"
             ],
             [
              0.2222222222222222,
              "#7201a8"
             ],
             [
              0.3333333333333333,
              "#9c179e"
             ],
             [
              0.4444444444444444,
              "#bd3786"
             ],
             [
              0.5555555555555556,
              "#d8576b"
             ],
             [
              0.6666666666666666,
              "#ed7953"
             ],
             [
              0.7777777777777778,
              "#fb9f3a"
             ],
             [
              0.8888888888888888,
              "#fdca26"
             ],
             [
              1,
              "#f0f921"
             ]
            ],
            "type": "surface"
           }
          ],
          "table": [
           {
            "cells": {
             "fill": {
              "color": "#EBF0F8"
             },
             "line": {
              "color": "white"
             }
            },
            "header": {
             "fill": {
              "color": "#C8D4E3"
             },
             "line": {
              "color": "white"
             }
            },
            "type": "table"
           }
          ]
         },
         "layout": {
          "annotationdefaults": {
           "arrowcolor": "#2a3f5f",
           "arrowhead": 0,
           "arrowwidth": 1
          },
          "autotypenumbers": "strict",
          "coloraxis": {
           "colorbar": {
            "outlinewidth": 0,
            "ticks": ""
           }
          },
          "colorscale": {
           "diverging": [
            [
             0,
             "#8e0152"
            ],
            [
             0.1,
             "#c51b7d"
            ],
            [
             0.2,
             "#de77ae"
            ],
            [
             0.3,
             "#f1b6da"
            ],
            [
             0.4,
             "#fde0ef"
            ],
            [
             0.5,
             "#f7f7f7"
            ],
            [
             0.6,
             "#e6f5d0"
            ],
            [
             0.7,
             "#b8e186"
            ],
            [
             0.8,
             "#7fbc41"
            ],
            [
             0.9,
             "#4d9221"
            ],
            [
             1,
             "#276419"
            ]
           ],
           "sequential": [
            [
             0,
             "#0d0887"
            ],
            [
             0.1111111111111111,
             "#46039f"
            ],
            [
             0.2222222222222222,
             "#7201a8"
            ],
            [
             0.3333333333333333,
             "#9c179e"
            ],
            [
             0.4444444444444444,
             "#bd3786"
            ],
            [
             0.5555555555555556,
             "#d8576b"
            ],
            [
             0.6666666666666666,
             "#ed7953"
            ],
            [
             0.7777777777777778,
             "#fb9f3a"
            ],
            [
             0.8888888888888888,
             "#fdca26"
            ],
            [
             1,
             "#f0f921"
            ]
           ],
           "sequentialminus": [
            [
             0,
             "#0d0887"
            ],
            [
             0.1111111111111111,
             "#46039f"
            ],
            [
             0.2222222222222222,
             "#7201a8"
            ],
            [
             0.3333333333333333,
             "#9c179e"
            ],
            [
             0.4444444444444444,
             "#bd3786"
            ],
            [
             0.5555555555555556,
             "#d8576b"
            ],
            [
             0.6666666666666666,
             "#ed7953"
            ],
            [
             0.7777777777777778,
             "#fb9f3a"
            ],
            [
             0.8888888888888888,
             "#fdca26"
            ],
            [
             1,
             "#f0f921"
            ]
           ]
          },
          "colorway": [
           "#636efa",
           "#EF553B",
           "#00cc96",
           "#ab63fa",
           "#FFA15A",
           "#19d3f3",
           "#FF6692",
           "#B6E880",
           "#FF97FF",
           "#FECB52"
          ],
          "font": {
           "color": "#2a3f5f"
          },
          "geo": {
           "bgcolor": "white",
           "lakecolor": "white",
           "landcolor": "#E5ECF6",
           "showlakes": true,
           "showland": true,
           "subunitcolor": "white"
          },
          "hoverlabel": {
           "align": "left"
          },
          "hovermode": "closest",
          "mapbox": {
           "style": "light"
          },
          "paper_bgcolor": "white",
          "plot_bgcolor": "#E5ECF6",
          "polar": {
           "angularaxis": {
            "gridcolor": "white",
            "linecolor": "white",
            "ticks": ""
           },
           "bgcolor": "#E5ECF6",
           "radialaxis": {
            "gridcolor": "white",
            "linecolor": "white",
            "ticks": ""
           }
          },
          "scene": {
           "xaxis": {
            "backgroundcolor": "#E5ECF6",
            "gridcolor": "white",
            "gridwidth": 2,
            "linecolor": "white",
            "showbackground": true,
            "ticks": "",
            "zerolinecolor": "white"
           },
           "yaxis": {
            "backgroundcolor": "#E5ECF6",
            "gridcolor": "white",
            "gridwidth": 2,
            "linecolor": "white",
            "showbackground": true,
            "ticks": "",
            "zerolinecolor": "white"
           },
           "zaxis": {
            "backgroundcolor": "#E5ECF6",
            "gridcolor": "white",
            "gridwidth": 2,
            "linecolor": "white",
            "showbackground": true,
            "ticks": "",
            "zerolinecolor": "white"
           }
          },
          "shapedefaults": {
           "line": {
            "color": "#2a3f5f"
           }
          },
          "ternary": {
           "aaxis": {
            "gridcolor": "white",
            "linecolor": "white",
            "ticks": ""
           },
           "baxis": {
            "gridcolor": "white",
            "linecolor": "white",
            "ticks": ""
           },
           "bgcolor": "#E5ECF6",
           "caxis": {
            "gridcolor": "white",
            "linecolor": "white",
            "ticks": ""
           }
          },
          "title": {
           "x": 0.05
          },
          "xaxis": {
           "automargin": true,
           "gridcolor": "white",
           "linecolor": "white",
           "ticks": "",
           "title": {
            "standoff": 15
           },
           "zerolinecolor": "white",
           "zerolinewidth": 2
          },
          "yaxis": {
           "automargin": true,
           "gridcolor": "white",
           "linecolor": "white",
           "ticks": "",
           "title": {
            "standoff": 15
           },
           "zerolinecolor": "white",
           "zerolinewidth": 2
          }
         }
        },
        "title": {
         "text": "Time series plot for mean daily prices for all regions"
        },
        "xaxis": {
         "title": {
          "text": "Date"
         }
        },
        "yaxis": {
         "title": {
          "text": "Prices"
         }
        }
       }
      },
      "text/html": [
       "<div>                            <div id=\"50dc877b-825a-424d-9b37-ae53b07c170a\" class=\"plotly-graph-div\" style=\"height:525px; width:100%;\"></div>            <script type=\"text/javascript\">                require([\"plotly\"], function(Plotly) {                    window.PLOTLYENV=window.PLOTLYENV || {};                                    if (document.getElementById(\"50dc877b-825a-424d-9b37-ae53b07c170a\")) {                    Plotly.newPlot(                        \"50dc877b-825a-424d-9b37-ae53b07c170a\",                        [{\"name\": \"train\", \"type\": \"scatter\", \"x\": [\"2015-01-04T00:00:00\", \"2015-01-11T00:00:00\", \"2015-01-18T00:00:00\", \"2015-01-25T00:00:00\", \"2015-02-01T00:00:00\", \"2015-02-08T00:00:00\", \"2015-02-15T00:00:00\", \"2015-02-22T00:00:00\", \"2015-03-01T00:00:00\", \"2015-03-08T00:00:00\", \"2015-03-15T00:00:00\", \"2015-03-22T00:00:00\", \"2015-03-29T00:00:00\", \"2015-04-05T00:00:00\", \"2015-04-12T00:00:00\", \"2015-04-19T00:00:00\", \"2015-04-26T00:00:00\", \"2015-05-03T00:00:00\", \"2015-05-10T00:00:00\", \"2015-05-17T00:00:00\", \"2015-05-24T00:00:00\", \"2015-05-31T00:00:00\", \"2015-06-07T00:00:00\", \"2015-06-14T00:00:00\", \"2015-06-21T00:00:00\", \"2015-06-28T00:00:00\", \"2015-07-05T00:00:00\", \"2015-07-12T00:00:00\", \"2015-07-19T00:00:00\", \"2015-07-26T00:00:00\", \"2015-08-02T00:00:00\", \"2015-08-09T00:00:00\", \"2015-08-16T00:00:00\", \"2015-08-23T00:00:00\", \"2015-08-30T00:00:00\", \"2015-09-06T00:00:00\", \"2015-09-13T00:00:00\", \"2015-09-20T00:00:00\", \"2015-09-27T00:00:00\", \"2015-10-04T00:00:00\", \"2015-10-11T00:00:00\", \"2015-10-18T00:00:00\", \"2015-10-25T00:00:00\", \"2015-11-01T00:00:00\", \"2015-11-08T00:00:00\", \"2015-11-15T00:00:00\", \"2015-11-22T00:00:00\", \"2015-11-29T00:00:00\", \"2015-12-06T00:00:00\", \"2015-12-13T00:00:00\", \"2015-12-20T00:00:00\", \"2015-12-27T00:00:00\", \"2016-01-03T00:00:00\", \"2016-01-10T00:00:00\", \"2016-01-17T00:00:00\", \"2016-01-24T00:00:00\", \"2016-01-31T00:00:00\", \"2016-02-07T00:00:00\", \"2016-02-14T00:00:00\", \"2016-02-21T00:00:00\", \"2016-02-28T00:00:00\", \"2016-03-06T00:00:00\", \"2016-03-13T00:00:00\", \"2016-03-20T00:00:00\", \"2016-03-27T00:00:00\", \"2016-04-03T00:00:00\", \"2016-04-10T00:00:00\", \"2016-04-17T00:00:00\", \"2016-04-24T00:00:00\", \"2016-05-01T00:00:00\", \"2016-05-08T00:00:00\", \"2016-05-15T00:00:00\", \"2016-05-22T00:00:00\", \"2016-05-29T00:00:00\", \"2016-06-05T00:00:00\", \"2016-06-12T00:00:00\", \"2016-06-19T00:00:00\", \"2016-06-26T00:00:00\", \"2016-07-03T00:00:00\", \"2016-07-10T00:00:00\", \"2016-07-17T00:00:00\", \"2016-07-24T00:00:00\", \"2016-07-31T00:00:00\", \"2016-08-07T00:00:00\", \"2016-08-14T00:00:00\", \"2016-08-21T00:00:00\", \"2016-08-28T00:00:00\", \"2016-09-04T00:00:00\", \"2016-09-11T00:00:00\", \"2016-09-18T00:00:00\", \"2016-09-25T00:00:00\", \"2016-10-02T00:00:00\", \"2016-10-09T00:00:00\", \"2016-10-16T00:00:00\", \"2016-10-23T00:00:00\", \"2016-10-30T00:00:00\", \"2016-11-06T00:00:00\", \"2016-11-13T00:00:00\", \"2016-11-20T00:00:00\", \"2016-11-27T00:00:00\", \"2016-12-04T00:00:00\", \"2016-12-11T00:00:00\", \"2016-12-18T00:00:00\", \"2016-12-25T00:00:00\", \"2017-01-01T00:00:00\", \"2017-01-08T00:00:00\", \"2017-01-15T00:00:00\", \"2017-01-22T00:00:00\", \"2017-01-29T00:00:00\", \"2017-02-05T00:00:00\", \"2017-02-12T00:00:00\", \"2017-02-19T00:00:00\", \"2017-02-26T00:00:00\", \"2017-03-05T00:00:00\", \"2017-03-12T00:00:00\", \"2017-03-19T00:00:00\", \"2017-03-26T00:00:00\", \"2017-04-02T00:00:00\", \"2017-04-09T00:00:00\", \"2017-04-16T00:00:00\", \"2017-04-23T00:00:00\", \"2017-04-30T00:00:00\", \"2017-05-07T00:00:00\", \"2017-05-14T00:00:00\", \"2017-05-21T00:00:00\", \"2017-05-28T00:00:00\", \"2017-06-04T00:00:00\", \"2017-06-11T00:00:00\", \"2017-06-18T00:00:00\", \"2017-06-25T00:00:00\", \"2017-07-02T00:00:00\", \"2017-07-09T00:00:00\", \"2017-07-16T00:00:00\", \"2017-07-23T00:00:00\", \"2017-07-30T00:00:00\"], \"y\": [1.3012962962962962, 1.3706481481481485, 1.391111111111111, 1.3971296296296296, 1.2470370370370376, 1.310462962962963, 1.3875925925925925, 1.3626851851851853, 1.3110185185185188, 1.360092592592593, 1.3919444444444447, 1.3492592592592596, 1.3975925925925925, 1.4129629629629628, 1.3639814814814817, 1.3716666666666668, 1.385185185185185, 1.2838888888888889, 1.3235185185185185, 1.3531481481481475, 1.3804629629629628, 1.3824074074074078, 1.3809259259259254, 1.400462962962963, 1.408425925925926, 1.4064814814814826, 1.4137962962962969, 1.4156481481481482, 1.3875, 1.420833333333333, 1.4773148148148147, 1.4312962962962965, 1.4498148148148144, 1.4445370370370372, 1.4194444444444447, 1.434351851851852, 1.4632407407407415, 1.4480555555555554, 1.450925925925925, 1.4191666666666671, 1.373333333333333, 1.3923148148148148, 1.3830555555555557, 1.304907407407407, 1.334351851851851, 1.3400000000000003, 1.3309259259259258, 1.3428703703703706, 1.2891588785046726, 1.2878703703703707, 1.3453703703703699, 1.2984259259259257, 1.2063888888888892, 1.2276851851851853, 1.2716666666666665, 1.2422222222222221, 1.2529629629629626, 1.1738888888888885, 1.2323148148148149, 1.2766666666666666, 1.265555555555556, 1.2569444444444444, 1.1970370370370373, 1.1976851851851853, 1.2451851851851852, 1.2353703703703702, 1.1737962962962962, 1.2212962962962965, 1.1896296296296296, 1.163703703703704, 1.1485185185185185, 1.2158333333333333, 1.2246296296296302, 1.2459259259259254, 1.2426851851851852, 1.3009259259259256, 1.2777777777777781, 1.3108333333333333, 1.294722222222222, 1.3532407407407407, 1.4280555555555554, 1.4823148148148144, 1.4483333333333335, 1.4160185185185181, 1.4188888888888889, 1.4156481481481482, 1.393888888888888, 1.3720370370370376, 1.3568518518518518, 1.4481481481481482, 1.5344444444444445, 1.575277777777777, 1.4829629629629626, 1.4844444444444447, 1.540740740740741, 1.7020370370370363, 1.6194444444444442, 1.5844444444444448, 1.4997222222222217, 1.4964814814814817, 1.369166666666666, 1.3077777777777777, 1.2771296296296295, 1.309907407407408, 1.2766666666666668, 1.2944444444444445, 1.3186111111111107, 1.2232407407407406, 1.2745370370370372, 1.1447222222222224, 1.2039814814814815, 1.269351851851852, 1.241111111111111, 1.2874074074074078, 1.4361111111111113, 1.4681481481481486, 1.4040740740740743, 1.448055555555555, 1.4659259259259256, 1.5048148148148146, 1.5437037037037034, 1.5505555555555564, 1.461666666666667, 1.5283333333333344, 1.5608333333333337, 1.5795370370370367, 1.5646296296296294, 1.521574074074074, 1.5385046728971974, 1.556915887850467, 1.5695370370370378, 1.540277777777778, 1.5810185185185188, 1.5634259259259256, 1.57037037037037]}, {\"name\": \"test\", \"type\": \"scatter\", \"x\": [\"2017-08-06T00:00:00\", \"2017-08-13T00:00:00\", \"2017-08-20T00:00:00\", \"2017-08-27T00:00:00\", \"2017-09-03T00:00:00\", \"2017-09-10T00:00:00\", \"2017-09-17T00:00:00\", \"2017-09-24T00:00:00\", \"2017-10-01T00:00:00\", \"2017-10-08T00:00:00\", \"2017-10-15T00:00:00\", \"2017-10-22T00:00:00\", \"2017-10-29T00:00:00\", \"2017-11-05T00:00:00\", \"2017-11-12T00:00:00\", \"2017-11-19T00:00:00\", \"2017-11-26T00:00:00\", \"2017-12-03T00:00:00\", \"2017-12-10T00:00:00\", \"2017-12-17T00:00:00\", \"2017-12-24T00:00:00\", \"2017-12-31T00:00:00\", \"2018-01-07T00:00:00\", \"2018-01-14T00:00:00\", \"2018-01-21T00:00:00\", \"2018-01-28T00:00:00\", \"2018-02-04T00:00:00\", \"2018-02-11T00:00:00\", \"2018-02-18T00:00:00\", \"2018-02-25T00:00:00\", \"2018-03-04T00:00:00\", \"2018-03-11T00:00:00\", \"2018-03-18T00:00:00\", \"2018-03-25T00:00:00\"], \"y\": [1.606203703703704, 1.6415740740740736, 1.7368518518518519, 1.8112037037037036, 1.8551851851851848, 1.8438888888888891, 1.8313888888888892, 1.8333333333333333, 1.8712962962962971, 1.8433333333333337, 1.7828703703703699, 1.6645370370370371, 1.600185185185185, 1.5590740740740738, 1.508796296296296, 1.4991666666666663, 1.5021296296296298, 1.3853703703703704, 1.341481481481482, 1.3689814814814814, 1.439907407407407, 1.2835185185185183, 1.357777777777778, 1.4225925925925924, 1.3771296296296298, 1.3922222222222234, 1.2340740740740739, 1.307037037037037, 1.3740740740740738, 1.3596296296296293, 1.3501851851851854, 1.335092592592593, 1.3137037037037034, 1.3468518518518513]}],                        {\"template\": {\"data\": {\"bar\": [{\"error_x\": {\"color\": \"#2a3f5f\"}, \"error_y\": {\"color\": \"#2a3f5f\"}, \"marker\": {\"line\": {\"color\": \"#E5ECF6\", \"width\": 0.5}}, \"type\": \"bar\"}], \"barpolar\": [{\"marker\": {\"line\": {\"color\": \"#E5ECF6\", \"width\": 0.5}}, \"type\": \"barpolar\"}], \"carpet\": [{\"aaxis\": {\"endlinecolor\": \"#2a3f5f\", \"gridcolor\": \"white\", \"linecolor\": \"white\", \"minorgridcolor\": \"white\", \"startlinecolor\": \"#2a3f5f\"}, \"baxis\": {\"endlinecolor\": \"#2a3f5f\", \"gridcolor\": \"white\", \"linecolor\": \"white\", \"minorgridcolor\": \"white\", \"startlinecolor\": \"#2a3f5f\"}, \"type\": \"carpet\"}], \"choropleth\": [{\"colorbar\": {\"outlinewidth\": 0, \"ticks\": \"\"}, \"type\": \"choropleth\"}], \"contour\": [{\"colorbar\": {\"outlinewidth\": 0, \"ticks\": \"\"}, \"colorscale\": [[0.0, \"#0d0887\"], [0.1111111111111111, \"#46039f\"], [0.2222222222222222, \"#7201a8\"], [0.3333333333333333, \"#9c179e\"], [0.4444444444444444, \"#bd3786\"], [0.5555555555555556, \"#d8576b\"], [0.6666666666666666, \"#ed7953\"], [0.7777777777777778, \"#fb9f3a\"], [0.8888888888888888, \"#fdca26\"], [1.0, \"#f0f921\"]], \"type\": \"contour\"}], \"contourcarpet\": [{\"colorbar\": {\"outlinewidth\": 0, \"ticks\": \"\"}, \"type\": \"contourcarpet\"}], \"heatmap\": [{\"colorbar\": {\"outlinewidth\": 0, \"ticks\": \"\"}, \"colorscale\": [[0.0, \"#0d0887\"], [0.1111111111111111, \"#46039f\"], [0.2222222222222222, \"#7201a8\"], [0.3333333333333333, \"#9c179e\"], [0.4444444444444444, \"#bd3786\"], [0.5555555555555556, \"#d8576b\"], [0.6666666666666666, \"#ed7953\"], [0.7777777777777778, \"#fb9f3a\"], [0.8888888888888888, \"#fdca26\"], [1.0, \"#f0f921\"]], \"type\": \"heatmap\"}], \"heatmapgl\": [{\"colorbar\": {\"outlinewidth\": 0, \"ticks\": \"\"}, \"colorscale\": [[0.0, \"#0d0887\"], [0.1111111111111111, \"#46039f\"], [0.2222222222222222, \"#7201a8\"], [0.3333333333333333, \"#9c179e\"], [0.4444444444444444, \"#bd3786\"], [0.5555555555555556, \"#d8576b\"], [0.6666666666666666, \"#ed7953\"], [0.7777777777777778, \"#fb9f3a\"], [0.8888888888888888, \"#fdca26\"], [1.0, \"#f0f921\"]], \"type\": \"heatmapgl\"}], \"histogram\": [{\"marker\": {\"colorbar\": {\"outlinewidth\": 0, \"ticks\": \"\"}}, \"type\": \"histogram\"}], \"histogram2d\": [{\"colorbar\": {\"outlinewidth\": 0, \"ticks\": \"\"}, \"colorscale\": [[0.0, \"#0d0887\"], [0.1111111111111111, \"#46039f\"], [0.2222222222222222, \"#7201a8\"], [0.3333333333333333, \"#9c179e\"], [0.4444444444444444, \"#bd3786\"], [0.5555555555555556, \"#d8576b\"], [0.6666666666666666, \"#ed7953\"], [0.7777777777777778, \"#fb9f3a\"], [0.8888888888888888, \"#fdca26\"], [1.0, \"#f0f921\"]], \"type\": \"histogram2d\"}], \"histogram2dcontour\": [{\"colorbar\": {\"outlinewidth\": 0, \"ticks\": \"\"}, \"colorscale\": [[0.0, \"#0d0887\"], [0.1111111111111111, \"#46039f\"], [0.2222222222222222, \"#7201a8\"], [0.3333333333333333, \"#9c179e\"], [0.4444444444444444, \"#bd3786\"], [0.5555555555555556, \"#d8576b\"], [0.6666666666666666, \"#ed7953\"], [0.7777777777777778, \"#fb9f3a\"], [0.8888888888888888, \"#fdca26\"], [1.0, \"#f0f921\"]], \"type\": \"histogram2dcontour\"}], \"mesh3d\": [{\"colorbar\": {\"outlinewidth\": 0, \"ticks\": \"\"}, \"type\": \"mesh3d\"}], \"parcoords\": [{\"line\": {\"colorbar\": {\"outlinewidth\": 0, \"ticks\": \"\"}}, \"type\": \"parcoords\"}], \"pie\": [{\"automargin\": true, \"type\": \"pie\"}], \"scatter\": [{\"marker\": {\"colorbar\": {\"outlinewidth\": 0, \"ticks\": \"\"}}, \"type\": \"scatter\"}], \"scatter3d\": [{\"line\": {\"colorbar\": {\"outlinewidth\": 0, \"ticks\": \"\"}}, \"marker\": {\"colorbar\": {\"outlinewidth\": 0, \"ticks\": \"\"}}, \"type\": \"scatter3d\"}], \"scattercarpet\": [{\"marker\": {\"colorbar\": {\"outlinewidth\": 0, \"ticks\": \"\"}}, \"type\": \"scattercarpet\"}], \"scattergeo\": [{\"marker\": {\"colorbar\": {\"outlinewidth\": 0, \"ticks\": \"\"}}, \"type\": \"scattergeo\"}], \"scattergl\": [{\"marker\": {\"colorbar\": {\"outlinewidth\": 0, \"ticks\": \"\"}}, \"type\": \"scattergl\"}], \"scattermapbox\": [{\"marker\": {\"colorbar\": {\"outlinewidth\": 0, \"ticks\": \"\"}}, \"type\": \"scattermapbox\"}], \"scatterpolar\": [{\"marker\": {\"colorbar\": {\"outlinewidth\": 0, \"ticks\": \"\"}}, \"type\": \"scatterpolar\"}], \"scatterpolargl\": [{\"marker\": {\"colorbar\": {\"outlinewidth\": 0, \"ticks\": \"\"}}, \"type\": \"scatterpolargl\"}], \"scatterternary\": [{\"marker\": {\"colorbar\": {\"outlinewidth\": 0, \"ticks\": \"\"}}, \"type\": \"scatterternary\"}], \"surface\": [{\"colorbar\": {\"outlinewidth\": 0, \"ticks\": \"\"}, \"colorscale\": [[0.0, \"#0d0887\"], [0.1111111111111111, \"#46039f\"], [0.2222222222222222, \"#7201a8\"], [0.3333333333333333, \"#9c179e\"], [0.4444444444444444, \"#bd3786\"], [0.5555555555555556, \"#d8576b\"], [0.6666666666666666, \"#ed7953\"], [0.7777777777777778, \"#fb9f3a\"], [0.8888888888888888, \"#fdca26\"], [1.0, \"#f0f921\"]], \"type\": \"surface\"}], \"table\": [{\"cells\": {\"fill\": {\"color\": \"#EBF0F8\"}, \"line\": {\"color\": \"white\"}}, \"header\": {\"fill\": {\"color\": \"#C8D4E3\"}, \"line\": {\"color\": \"white\"}}, \"type\": \"table\"}]}, \"layout\": {\"annotationdefaults\": {\"arrowcolor\": \"#2a3f5f\", \"arrowhead\": 0, \"arrowwidth\": 1}, \"autotypenumbers\": \"strict\", \"coloraxis\": {\"colorbar\": {\"outlinewidth\": 0, \"ticks\": \"\"}}, \"colorscale\": {\"diverging\": [[0, \"#8e0152\"], [0.1, \"#c51b7d\"], [0.2, \"#de77ae\"], [0.3, \"#f1b6da\"], [0.4, \"#fde0ef\"], [0.5, \"#f7f7f7\"], [0.6, \"#e6f5d0\"], [0.7, \"#b8e186\"], [0.8, \"#7fbc41\"], [0.9, \"#4d9221\"], [1, \"#276419\"]], \"sequential\": [[0.0, \"#0d0887\"], [0.1111111111111111, \"#46039f\"], [0.2222222222222222, \"#7201a8\"], [0.3333333333333333, \"#9c179e\"], [0.4444444444444444, \"#bd3786\"], [0.5555555555555556, \"#d8576b\"], [0.6666666666666666, \"#ed7953\"], [0.7777777777777778, \"#fb9f3a\"], [0.8888888888888888, \"#fdca26\"], [1.0, \"#f0f921\"]], \"sequentialminus\": [[0.0, \"#0d0887\"], [0.1111111111111111, \"#46039f\"], [0.2222222222222222, \"#7201a8\"], [0.3333333333333333, \"#9c179e\"], [0.4444444444444444, \"#bd3786\"], [0.5555555555555556, \"#d8576b\"], [0.6666666666666666, \"#ed7953\"], [0.7777777777777778, \"#fb9f3a\"], [0.8888888888888888, \"#fdca26\"], [1.0, \"#f0f921\"]]}, \"colorway\": [\"#636efa\", \"#EF553B\", \"#00cc96\", \"#ab63fa\", \"#FFA15A\", \"#19d3f3\", \"#FF6692\", \"#B6E880\", \"#FF97FF\", \"#FECB52\"], \"font\": {\"color\": \"#2a3f5f\"}, \"geo\": {\"bgcolor\": \"white\", \"lakecolor\": \"white\", \"landcolor\": \"#E5ECF6\", \"showlakes\": true, \"showland\": true, \"subunitcolor\": \"white\"}, \"hoverlabel\": {\"align\": \"left\"}, \"hovermode\": \"closest\", \"mapbox\": {\"style\": \"light\"}, \"paper_bgcolor\": \"white\", \"plot_bgcolor\": \"#E5ECF6\", \"polar\": {\"angularaxis\": {\"gridcolor\": \"white\", \"linecolor\": \"white\", \"ticks\": \"\"}, \"bgcolor\": \"#E5ECF6\", \"radialaxis\": {\"gridcolor\": \"white\", \"linecolor\": \"white\", \"ticks\": \"\"}}, \"scene\": {\"xaxis\": {\"backgroundcolor\": \"#E5ECF6\", \"gridcolor\": \"white\", \"gridwidth\": 2, \"linecolor\": \"white\", \"showbackground\": true, \"ticks\": \"\", \"zerolinecolor\": \"white\"}, \"yaxis\": {\"backgroundcolor\": \"#E5ECF6\", \"gridcolor\": \"white\", \"gridwidth\": 2, \"linecolor\": \"white\", \"showbackground\": true, \"ticks\": \"\", \"zerolinecolor\": \"white\"}, \"zaxis\": {\"backgroundcolor\": \"#E5ECF6\", \"gridcolor\": \"white\", \"gridwidth\": 2, \"linecolor\": \"white\", \"showbackground\": true, \"ticks\": \"\", \"zerolinecolor\": \"white\"}}, \"shapedefaults\": {\"line\": {\"color\": \"#2a3f5f\"}}, \"ternary\": {\"aaxis\": {\"gridcolor\": \"white\", \"linecolor\": \"white\", \"ticks\": \"\"}, \"baxis\": {\"gridcolor\": \"white\", \"linecolor\": \"white\", \"ticks\": \"\"}, \"bgcolor\": \"#E5ECF6\", \"caxis\": {\"gridcolor\": \"white\", \"linecolor\": \"white\", \"ticks\": \"\"}}, \"title\": {\"x\": 0.05}, \"xaxis\": {\"automargin\": true, \"gridcolor\": \"white\", \"linecolor\": \"white\", \"ticks\": \"\", \"title\": {\"standoff\": 15}, \"zerolinecolor\": \"white\", \"zerolinewidth\": 2}, \"yaxis\": {\"automargin\": true, \"gridcolor\": \"white\", \"linecolor\": \"white\", \"ticks\": \"\", \"title\": {\"standoff\": 15}, \"zerolinecolor\": \"white\", \"zerolinewidth\": 2}}}, \"title\": {\"text\": \"Time series plot for mean daily prices for all regions\"}, \"xaxis\": {\"title\": {\"text\": \"Date\"}}, \"yaxis\": {\"title\": {\"text\": \"Prices\"}}},                        {\"responsive\": true}                    ).then(function(){\n",
       "                            \n",
       "var gd = document.getElementById('50dc877b-825a-424d-9b37-ae53b07c170a');\n",
       "var x = new MutationObserver(function (mutations, observer) {{\n",
       "        var display = window.getComputedStyle(gd).display;\n",
       "        if (!display || display === 'none') {{\n",
       "            console.log([gd, 'removed!']);\n",
       "            Plotly.purge(gd);\n",
       "            observer.disconnect();\n",
       "        }}\n",
       "}});\n",
       "\n",
       "// Listen for the removal of the full notebook cells\n",
       "var notebookContainer = gd.closest('#notebook-container');\n",
       "if (notebookContainer) {{\n",
       "    x.observe(notebookContainer, {childList: true});\n",
       "}}\n",
       "\n",
       "// Listen for the clearing of the current output cell\n",
       "var outputEl = gd.closest('.output');\n",
       "if (outputEl) {{\n",
       "    x.observe(outputEl, {childList: true});\n",
       "}}\n",
       "\n",
       "                        })                };                });            </script>        </div>"
      ]
     },
     "metadata": {},
     "output_type": "display_data"
    }
   ],
   "source": [
    "split_date = '2017-07-30'\n",
    "data_train = data.loc[data.index <= split_date]\n",
    "data_test = data.loc[data.index > split_date]\n",
    "\n",
    "scatter = go.Scatter(x = data_train.groupby('date').mean().index, y = data_train.groupby('date').mean().averageprice , name = 'train')\n",
    "scatter2 = go.Scatter(x = data_test.groupby('date').mean().index, y = data_test.groupby('date').mean().averageprice, name = 'test')\n",
    "\n",
    "layout = go.Layout(title = 'Time series plot for mean daily prices for all regions', xaxis ={'title':'Date'}, yaxis = {'title':'Prices'})\n",
    "figure = go.Figure(data = [scatter, scatter2], layout = layout)\n",
    "iplot(figure)"
   ]
  },
  {
   "cell_type": "code",
   "execution_count": 17,
   "metadata": {},
   "outputs": [],
   "source": [
    "# Train / Test split\n",
    "\n",
    "X_train = data_train.drop(['averageprice'], axis = 1)\n",
    "y_train = data_train['averageprice']\n",
    "\n",
    "X_test = data_test.drop(['averageprice'], axis = 1)\n",
    "y_test = data_test['averageprice']"
   ]
  },
  {
   "cell_type": "markdown",
   "metadata": {},
   "source": [
    "### XGBoost model "
   ]
  },
  {
   "cell_type": "code",
   "execution_count": 20,
   "metadata": {
    "scrolled": true
   },
   "outputs": [
    {
     "name": "stdout",
     "output_type": "stream",
     "text": [
      "xgboost 1.3.3\n"
     ]
    },
    {
     "data": {
      "text/plain": [
       "XGBRegressor(base_score=0.5, booster='gbtree', colsample_bylevel=1,\n",
       "             colsample_bynode=1, colsample_bytree=1, gamma=0, gpu_id=-1,\n",
       "             importance_type='gain', interaction_constraints='',\n",
       "             learning_rate=0.300000012, max_delta_step=0, max_depth=6,\n",
       "             min_child_weight=1, missing=nan, monotone_constraints='()',\n",
       "             n_estimators=1000, n_jobs=8, num_parallel_tree=1, random_state=0,\n",
       "             reg_alpha=0, reg_lambda=1, scale_pos_weight=1, subsample=1,\n",
       "             tree_method='exact', validate_parameters=1, verbosity=None)"
      ]
     },
     "execution_count": 20,
     "metadata": {},
     "output_type": "execute_result"
    }
   ],
   "source": [
    "import xgboost as xgb\n",
    "print(\"xgboost\", xgb.__version__)\n",
    "\n",
    "reg = xgb.XGBRegressor(n_estimators=1000)\n",
    "reg.fit(X_train, y_train,\n",
    "        eval_set=[(X_train, y_train), (X_test, y_test)],\n",
    "        early_stopping_rounds=50,\n",
    "       verbose=False, ) # Change verbose to True if you want to see it train"
   ]
  },
  {
   "cell_type": "code",
   "execution_count": 21,
   "metadata": {
    "scrolled": true
   },
   "outputs": [
    {
     "data": {
      "text/plain": [
       "<matplotlib.axes._subplots.AxesSubplot at 0x22dd3c69048>"
      ]
     },
     "execution_count": 21,
     "metadata": {},
     "output_type": "execute_result"
    },
    {
     "data": {
      "image/png": "[encoded data removed]",
      "text/plain": [
       "<Figure size 432x288 with 1 Axes>"
      ]
     },
     "metadata": {
      "needs_background": "light"
     },
     "output_type": "display_data"
    }
   ],
   "source": [
    "from xgboost import plot_importance, plot_tree\n",
    "plot_importance(reg, height=0.8, max_num_features=15)"
   ]
  },
  {
   "cell_type": "code",
   "execution_count": 22,
   "metadata": {
    "scrolled": true
   },
   "outputs": [
    {
     "name": "stderr",
     "output_type": "stream",
     "text": [
      "C:\\ProgramData\\Anaconda3\\lib\\site-packages\\ipykernel_launcher.py:1: SettingWithCopyWarning:\n",
      "\n",
      "\n",
      "A value is trying to be set on a copy of a slice from a DataFrame.\n",
      "Try using .loc[row_indexer,col_indexer] = value instead\n",
      "\n",
      "See the caveats in the documentation: http://pandas.pydata.org/pandas-docs/stable/user_guide/indexing.html#returning-a-view-versus-a-copy\n",
      "\n"
     ]
    }
   ],
   "source": [
    "data_test[\"averageprice_prediction\"] = reg.predict(X_test)\n",
    "data_all = pd.concat([data_test, data_train], sort = False)"
   ]
  },
  {
   "cell_type": "code",
   "execution_count": 23,
   "metadata": {},
   "outputs": [
    {
     "data": {
      "text/html": [
       "<div>\n",
       "<style scoped>\n",
       "    .dataframe tbody tr th:only-of-type {\n",
       "        vertical-align: middle;\n",
       "    }\n",
       "\n",
       "    .dataframe tbody tr th {\n",
       "        vertical-align: top;\n",
       "    }\n",
       "\n",
       "    .dataframe thead th {\n",
       "        text-align: right;\n",
       "    }\n",
       "</style>\n",
       "<table border=\"1\" class=\"dataframe\">\n",
       "  <thead>\n",
       "    <tr style=\"text-align: right;\">\n",
       "      <th></th>\n",
       "      <th>averageprice</th>\n",
       "      <th>averageprice_prediction</th>\n",
       "    </tr>\n",
       "    <tr>\n",
       "      <th>date</th>\n",
       "      <th></th>\n",
       "      <th></th>\n",
       "    </tr>\n",
       "  </thead>\n",
       "  <tbody>\n",
       "    <tr>\n",
       "      <td>2015-01-04</td>\n",
       "      <td>1.75</td>\n",
       "      <td>NaN</td>\n",
       "    </tr>\n",
       "    <tr>\n",
       "      <td>2015-01-04</td>\n",
       "      <td>1.83</td>\n",
       "      <td>NaN</td>\n",
       "    </tr>\n",
       "    <tr>\n",
       "      <td>2015-01-04</td>\n",
       "      <td>1.22</td>\n",
       "      <td>NaN</td>\n",
       "    </tr>\n",
       "    <tr>\n",
       "      <td>2015-01-04</td>\n",
       "      <td>1.64</td>\n",
       "      <td>NaN</td>\n",
       "    </tr>\n",
       "    <tr>\n",
       "      <td>2015-01-04</td>\n",
       "      <td>0.89</td>\n",
       "      <td>NaN</td>\n",
       "    </tr>\n",
       "    <tr>\n",
       "      <td>...</td>\n",
       "      <td>...</td>\n",
       "      <td>...</td>\n",
       "    </tr>\n",
       "    <tr>\n",
       "      <td>2018-03-25</td>\n",
       "      <td>1.21</td>\n",
       "      <td>1.188677</td>\n",
       "    </tr>\n",
       "    <tr>\n",
       "      <td>2018-03-25</td>\n",
       "      <td>1.37</td>\n",
       "      <td>1.037628</td>\n",
       "    </tr>\n",
       "    <tr>\n",
       "      <td>2018-03-25</td>\n",
       "      <td>1.45</td>\n",
       "      <td>1.316828</td>\n",
       "    </tr>\n",
       "    <tr>\n",
       "      <td>2018-03-25</td>\n",
       "      <td>1.42</td>\n",
       "      <td>0.914628</td>\n",
       "    </tr>\n",
       "    <tr>\n",
       "      <td>2018-03-25</td>\n",
       "      <td>1.28</td>\n",
       "      <td>1.024979</td>\n",
       "    </tr>\n",
       "  </tbody>\n",
       "</table>\n",
       "<p>18249 rows × 2 columns</p>\n",
       "</div>"
      ],
      "text/plain": [
       "            averageprice  averageprice_prediction\n",
       "date                                             \n",
       "2015-01-04          1.75                      NaN\n",
       "2015-01-04          1.83                      NaN\n",
       "2015-01-04          1.22                      NaN\n",
       "2015-01-04          1.64                      NaN\n",
       "2015-01-04          0.89                      NaN\n",
       "...                  ...                      ...\n",
       "2018-03-25          1.21                 1.188677\n",
       "2018-03-25          1.37                 1.037628\n",
       "2018-03-25          1.45                 1.316828\n",
       "2018-03-25          1.42                 0.914628\n",
       "2018-03-25          1.28                 1.024979\n",
       "\n",
       "[18249 rows x 2 columns]"
      ]
     },
     "execution_count": 23,
     "metadata": {},
     "output_type": "execute_result"
    }
   ],
   "source": [
    "data_all[['averageprice', 'averageprice_prediction']].sort_values('date')"
   ]
  },
  {
   "cell_type": "code",
   "execution_count": 24,
   "metadata": {
    "scrolled": true
   },
   "outputs": [
    {
     "data": {
      "application/vnd.plotly.v1+json": {
       "config": {
        "linkText": "Export to plot.ly",
        "plotlyServerURL": "https://plot.ly",
        "showLink": false
       },
       "data": [
        {
         "name": "actual",
         "type": "scatter",
         "x": [
          "2015-01-04T00:00:00",
          "2015-01-11T00:00:00",
          "2015-01-18T00:00:00",
          "2015-01-25T00:00:00",
          "2015-02-01T00:00:00",
          "2015-02-08T00:00:00",
          "2015-02-15T00:00:00",
          "2015-02-22T00:00:00",
          "2015-03-01T00:00:00",
          "2015-03-08T00:00:00",
          "2015-03-15T00:00:00",
          "2015-03-22T00:00:00",
          "2015-03-29T00:00:00",
          "2015-04-05T00:00:00",
          "2015-04-12T00:00:00",
          "2015-04-19T00:00:00",
          "2015-04-26T00:00:00",
          "2015-05-03T00:00:00",
          "2015-05-10T00:00:00",
          "2015-05-17T00:00:00",
          "2015-05-24T00:00:00",
          "2015-05-31T00:00:00",
          "2015-06-07T00:00:00",
          "2015-06-14T00:00:00",
          "2015-06-21T00:00:00",
          "2015-06-28T00:00:00",
          "2015-07-05T00:00:00",
          "2015-07-12T00:00:00",
          "2015-07-19T00:00:00",
          "2015-07-26T00:00:00",
          "2015-08-02T00:00:00",
          "2015-08-09T00:00:00",
          "2015-08-16T00:00:00",
          "2015-08-23T00:00:00",
          "2015-08-30T00:00:00",
          "2015-09-06T00:00:00",
          "2015-09-13T00:00:00",
          "2015-09-20T00:00:00",
          "2015-09-27T00:00:00",
          "2015-10-04T00:00:00",
          "2015-10-11T00:00:00",
          "2015-10-18T00:00:00",
          "2015-10-25T00:00:00",
          "2015-11-01T00:00:00",
          "2015-11-08T00:00:00",
          "2015-11-15T00:00:00",
          "2015-11-22T00:00:00",
          "2015-11-29T00:00:00",
          "2015-12-06T00:00:00",
          "2015-12-13T00:00:00",
          "2015-12-20T00:00:00",
          "2015-12-27T00:00:00",
          "2016-01-03T00:00:00",
          "2016-01-10T00:00:00",
          "2016-01-17T00:00:00",
          "2016-01-24T00:00:00",
          "2016-01-31T00:00:00",
          "2016-02-07T00:00:00",
          "2016-02-14T00:00:00",
          "2016-02-21T00:00:00",
          "2016-02-28T00:00:00",
          "2016-03-06T00:00:00",
          "2016-03-13T00:00:00",
          "2016-03-20T00:00:00",
          "2016-03-27T00:00:00",
          "2016-04-03T00:00:00",
          "2016-04-10T00:00:00",
          "2016-04-17T00:00:00",
          "2016-04-24T00:00:00",
          "2016-05-01T00:00:00",
          "2016-05-08T00:00:00",
          "2016-05-15T00:00:00",
          "2016-05-22T00:00:00",
          "2016-05-29T00:00:00",
          "2016-06-05T00:00:00",
          "2016-06-12T00:00:00",
          "2016-06-19T00:00:00",
          "2016-06-26T00:00:00",
          "2016-07-03T00:00:00",
          "2016-07-10T00:00:00",
          "2016-07-17T00:00:00",
          "2016-07-24T00:00:00",
          "2016-07-31T00:00:00",
          "2016-08-07T00:00:00",
          "2016-08-14T00:00:00",
          "2016-08-21T00:00:00",
          "2016-08-28T00:00:00",
          "2016-09-04T00:00:00",
          "2016-09-11T00:00:00",
          "2016-09-18T00:00:00",
          "2016-09-25T00:00:00",
          "2016-10-02T00:00:00",
          "2016-10-09T00:00:00",
          "2016-10-16T00:00:00",
          "2016-10-23T00:00:00",
          "2016-10-30T00:00:00",
          "2016-11-06T00:00:00",
          "2016-11-13T00:00:00",
          "2016-11-20T00:00:00",
          "2016-11-27T00:00:00",
          "2016-12-04T00:00:00",
          "2016-12-11T00:00:00",
          "2016-12-18T00:00:00",
          "2016-12-25T00:00:00",
          "2017-01-01T00:00:00",
          "2017-01-08T00:00:00",
          "2017-01-15T00:00:00",
          "2017-01-22T00:00:00",
          "2017-01-29T00:00:00",
          "2017-02-05T00:00:00",
          "2017-02-12T00:00:00",
          "2017-02-19T00:00:00",
          "2017-02-26T00:00:00",
          "2017-03-05T00:00:00",
          "2017-03-12T00:00:00",
          "2017-03-19T00:00:00",
          "2017-03-26T00:00:00",
          "2017-04-02T00:00:00",
          "2017-04-09T00:00:00",
          "2017-04-16T00:00:00",
          "2017-04-23T00:00:00",
          "2017-04-30T00:00:00",
          "2017-05-07T00:00:00",
          "2017-05-14T00:00:00",
          "2017-05-21T00:00:00",
          "2017-05-28T00:00:00",
          "2017-06-04T00:00:00",
          "2017-06-11T00:00:00",
          "2017-06-18T00:00:00",
          "2017-06-25T00:00:00",
          "2017-07-02T00:00:00",
          "2017-07-09T00:00:00",
          "2017-07-16T00:00:00",
          "2017-07-23T00:00:00",
          "2017-07-30T00:00:00",
          "2017-08-06T00:00:00",
          "2017-08-13T00:00:00",
          "2017-08-20T00:00:00",
          "2017-08-27T00:00:00",
          "2017-09-03T00:00:00",
          "2017-09-10T00:00:00",
          "2017-09-17T00:00:00",
          "2017-09-24T00:00:00",
          "2017-10-01T00:00:00",
          "2017-10-08T00:00:00",
          "2017-10-15T00:00:00",
          "2017-10-22T00:00:00",
          "2017-10-29T00:00:00",
          "2017-11-05T00:00:00",
          "2017-11-12T00:00:00",
          "2017-11-19T00:00:00",
          "2017-11-26T00:00:00",
          "2017-12-03T00:00:00",
          "2017-12-10T00:00:00",
          "2017-12-17T00:00:00",
          "2017-12-24T00:00:00",
          "2017-12-31T00:00:00",
          "2018-01-07T00:00:00",
          "2018-01-14T00:00:00",
          "2018-01-21T00:00:00",
          "2018-01-28T00:00:00",
          "2018-02-04T00:00:00",
          "2018-02-11T00:00:00",
          "2018-02-18T00:00:00",
          "2018-02-25T00:00:00",
          "2018-03-04T00:00:00",
          "2018-03-11T00:00:00",
          "2018-03-18T00:00:00",
          "2018-03-25T00:00:00"
         ],
         "y": [
          1.3012962962962962,
          1.3706481481481485,
          1.391111111111111,
          1.3971296296296296,
          1.2470370370370376,
          1.310462962962963,
          1.3875925925925925,
          1.3626851851851853,
          1.3110185185185188,
          1.360092592592593,
          1.3919444444444447,
          1.3492592592592596,
          1.3975925925925925,
          1.4129629629629628,
          1.3639814814814817,
          1.3716666666666668,
          1.385185185185185,
          1.2838888888888889,
          1.3235185185185185,
          1.3531481481481475,
          1.3804629629629628,
          1.3824074074074078,
          1.3809259259259254,
          1.400462962962963,
          1.408425925925926,
          1.4064814814814826,
          1.4137962962962969,
          1.4156481481481482,
          1.3875,
          1.420833333333333,
          1.4773148148148147,
          1.4312962962962965,
          1.4498148148148144,
          1.4445370370370372,
          1.4194444444444447,
          1.434351851851852,
          1.4632407407407415,
          1.4480555555555554,
          1.450925925925925,
          1.4191666666666671,
          1.373333333333333,
          1.3923148148148148,
          1.3830555555555557,
          1.304907407407407,
          1.334351851851851,
          1.3400000000000003,
          1.3309259259259258,
          1.3428703703703706,
          1.2891588785046726,
          1.2878703703703707,
          1.3453703703703699,
          1.2984259259259257,
          1.2063888888888892,
          1.2276851851851853,
          1.2716666666666665,
          1.2422222222222221,
          1.2529629629629626,
          1.1738888888888885,
          1.2323148148148149,
          1.2766666666666666,
          1.265555555555556,
          1.2569444444444444,
          1.1970370370370373,
          1.1976851851851853,
          1.2451851851851852,
          1.2353703703703702,
          1.1737962962962962,
          1.2212962962962965,
          1.1896296296296296,
          1.163703703703704,
          1.1485185185185185,
          1.2158333333333333,
          1.2246296296296302,
          1.2459259259259254,
          1.2426851851851852,
          1.3009259259259256,
          1.2777777777777781,
          1.3108333333333333,
          1.294722222222222,
          1.3532407407407407,
          1.4280555555555554,
          1.4823148148148144,
          1.4483333333333335,
          1.4160185185185181,
          1.4188888888888889,
          1.4156481481481482,
          1.393888888888888,
          1.3720370370370376,
          1.3568518518518518,
          1.4481481481481482,
          1.5344444444444445,
          1.575277777777777,
          1.4829629629629626,
          1.4844444444444447,
          1.540740740740741,
          1.7020370370370363,
          1.6194444444444442,
          1.5844444444444448,
          1.4997222222222217,
          1.4964814814814817,
          1.369166666666666,
          1.3077777777777777,
          1.2771296296296295,
          1.309907407407408,
          1.2766666666666668,
          1.2944444444444445,
          1.3186111111111107,
          1.2232407407407406,
          1.2745370370370372,
          1.1447222222222224,
          1.2039814814814815,
          1.269351851851852,
          1.241111111111111,
          1.2874074074074078,
          1.4361111111111113,
          1.4681481481481486,
          1.4040740740740743,
          1.448055555555555,
          1.4659259259259256,
          1.5048148148148146,
          1.5437037037037034,
          1.5505555555555564,
          1.461666666666667,
          1.5283333333333344,
          1.5608333333333337,
          1.5795370370370367,
          1.5646296296296294,
          1.521574074074074,
          1.5385046728971974,
          1.556915887850467,
          1.5695370370370378,
          1.540277777777778,
          1.5810185185185188,
          1.5634259259259256,
          1.57037037037037,
          1.606203703703704,
          1.6415740740740736,
          1.7368518518518519,
          1.8112037037037036,
          1.8551851851851848,
          1.8438888888888891,
          1.8313888888888892,
          1.8333333333333333,
          1.8712962962962971,
          1.8433333333333337,
          1.7828703703703699,
          1.6645370370370371,
          1.600185185185185,
          1.5590740740740738,
          1.508796296296296,
          1.4991666666666663,
          1.5021296296296298,
          1.3853703703703704,
          1.341481481481482,
          1.3689814814814814,
          1.439907407407407,
          1.2835185185185183,
          1.357777777777778,
          1.4225925925925924,
          1.3771296296296298,
          1.3922222222222234,
          1.2340740740740739,
          1.307037037037037,
          1.3740740740740738,
          1.3596296296296293,
          1.3501851851851854,
          1.335092592592593,
          1.3137037037037034,
          1.3468518518518513
         ]
        },
        {
         "name": "forecast",
         "type": "scatter",
         "x": [
          "2015-01-04T00:00:00",
          "2015-01-11T00:00:00",
          "2015-01-18T00:00:00",
          "2015-01-25T00:00:00",
          "2015-02-01T00:00:00",
          "2015-02-08T00:00:00",
          "2015-02-15T00:00:00",
          "2015-02-22T00:00:00",
          "2015-03-01T00:00:00",
          "2015-03-08T00:00:00",
          "2015-03-15T00:00:00",
          "2015-03-22T00:00:00",
          "2015-03-29T00:00:00",
          "2015-04-05T00:00:00",
          "2015-04-12T00:00:00",
          "2015-04-19T00:00:00",
          "2015-04-26T00:00:00",
          "2015-05-03T00:00:00",
          "2015-05-10T00:00:00",
          "2015-05-17T00:00:00",
          "2015-05-24T00:00:00",
          "2015-05-31T00:00:00",
          "2015-06-07T00:00:00",
          "2015-06-14T00:00:00",
          "2015-06-21T00:00:00",
          "2015-06-28T00:00:00",
          "2015-07-05T00:00:00",
          "2015-07-12T00:00:00",
          "2015-07-19T00:00:00",
          "2015-07-26T00:00:00",
          "2015-08-02T00:00:00",
          "2015-08-09T00:00:00",
          "2015-08-16T00:00:00",
          "2015-08-23T00:00:00",
          "2015-08-30T00:00:00",
          "2015-09-06T00:00:00",
          "2015-09-13T00:00:00",
          "2015-09-20T00:00:00",
          "2015-09-27T00:00:00",
          "2015-10-04T00:00:00",
          "2015-10-11T00:00:00",
          "2015-10-18T00:00:00",
          "2015-10-25T00:00:00",
          "2015-11-01T00:00:00",
          "2015-11-08T00:00:00",
          "2015-11-15T00:00:00",
          "2015-11-22T00:00:00",
          "2015-11-29T00:00:00",
          "2015-12-06T00:00:00",
          "2015-12-13T00:00:00",
          "2015-12-20T00:00:00",
          "2015-12-27T00:00:00",
          "2016-01-03T00:00:00",
          "2016-01-10T00:00:00",
          "2016-01-17T00:00:00",
          "2016-01-24T00:00:00",
          "2016-01-31T00:00:00",
          "2016-02-07T00:00:00",
          "2016-02-14T00:00:00",
          "2016-02-21T00:00:00",
          "2016-02-28T00:00:00",
          "2016-03-06T00:00:00",
          "2016-03-13T00:00:00",
          "2016-03-20T00:00:00",
          "2016-03-27T00:00:00",
          "2016-04-03T00:00:00",
          "2016-04-10T00:00:00",
          "2016-04-17T00:00:00",
          "2016-04-24T00:00:00",
          "2016-05-01T00:00:00",
          "2016-05-08T00:00:00",
          "2016-05-15T00:00:00",
          "2016-05-22T00:00:00",
          "2016-05-29T00:00:00",
          "2016-06-05T00:00:00",
          "2016-06-12T00:00:00",
          "2016-06-19T00:00:00",
          "2016-06-26T00:00:00",
          "2016-07-03T00:00:00",
          "2016-07-10T00:00:00",
          "2016-07-17T00:00:00",
          "2016-07-24T00:00:00",
          "2016-07-31T00:00:00",
          "2016-08-07T00:00:00",
          "2016-08-14T00:00:00",
          "2016-08-21T00:00:00",
          "2016-08-28T00:00:00",
          "2016-09-04T00:00:00",
          "2016-09-11T00:00:00",
          "2016-09-18T00:00:00",
          "2016-09-25T00:00:00",
          "2016-10-02T00:00:00",
          "2016-10-09T00:00:00",
          "2016-10-16T00:00:00",
          "2016-10-23T00:00:00",
          "2016-10-30T00:00:00",
          "2016-11-06T00:00:00",
          "2016-11-13T00:00:00",
          "2016-11-20T00:00:00",
          "2016-11-27T00:00:00",
          "2016-12-04T00:00:00",
          "2016-12-11T00:00:00",
          "2016-12-18T00:00:00",
          "2016-12-25T00:00:00",
          "2017-01-01T00:00:00",
          "2017-01-08T00:00:00",
          "2017-01-15T00:00:00",
          "2017-01-22T00:00:00",
          "2017-01-29T00:00:00",
          "2017-02-05T00:00:00",
          "2017-02-12T00:00:00",
          "2017-02-19T00:00:00",
          "2017-02-26T00:00:00",
          "2017-03-05T00:00:00",
          "2017-03-12T00:00:00",
          "2017-03-19T00:00:00",
          "2017-03-26T00:00:00",
          "2017-04-02T00:00:00",
          "2017-04-09T00:00:00",
          "2017-04-16T00:00:00",
          "2017-04-23T00:00:00",
          "2017-04-30T00:00:00",
          "2017-05-07T00:00:00",
          "2017-05-14T00:00:00",
          "2017-05-21T00:00:00",
          "2017-05-28T00:00:00",
          "2017-06-04T00:00:00",
          "2017-06-11T00:00:00",
          "2017-06-18T00:00:00",
          "2017-06-25T00:00:00",
          "2017-07-02T00:00:00",
          "2017-07-09T00:00:00",
          "2017-07-16T00:00:00",
          "2017-07-23T00:00:00",
          "2017-07-30T00:00:00",
          "2017-08-06T00:00:00",
          "2017-08-13T00:00:00",
          "2017-08-20T00:00:00",
          "2017-08-27T00:00:00",
          "2017-09-03T00:00:00",
          "2017-09-10T00:00:00",
          "2017-09-17T00:00:00",
          "2017-09-24T00:00:00",
          "2017-10-01T00:00:00",
          "2017-10-08T00:00:00",
          "2017-10-15T00:00:00",
          "2017-10-22T00:00:00",
          "2017-10-29T00:00:00",
          "2017-11-05T00:00:00",
          "2017-11-12T00:00:00",
          "2017-11-19T00:00:00",
          "2017-11-26T00:00:00",
          "2017-12-03T00:00:00",
          "2017-12-10T00:00:00",
          "2017-12-17T00:00:00",
          "2017-12-24T00:00:00",
          "2017-12-31T00:00:00",
          "2018-01-07T00:00:00",
          "2018-01-14T00:00:00",
          "2018-01-21T00:00:00",
          "2018-01-28T00:00:00",
          "2018-02-04T00:00:00",
          "2018-02-11T00:00:00",
          "2018-02-18T00:00:00",
          "2018-02-25T00:00:00",
          "2018-03-04T00:00:00",
          "2018-03-11T00:00:00",
          "2018-03-18T00:00:00",
          "2018-03-25T00:00:00"
         ],
         "y": [
          null,
          null,
          null,
          null,
          null,
          null,
          null,
          null,
          null,
          null,
          null,
          null,
          null,
          null,
          null,
          null,
          null,
          null,
          null,
          null,
          null,
          null,
          null,
          null,
          null,
          null,
          null,
          null,
          null,
          null,
          null,
          null,
          null,
          null,
          null,
          null,
          null,
          null,
          null,
          null,
          null,
          null,
          null,
          null,
          null,
          null,
          null,
          null,
          null,
          null,
          null,
          null,
          null,
          null,
          null,
          null,
          null,
          null,
          null,
          null,
          null,
          null,
          null,
          null,
          null,
          null,
          null,
          null,
          null,
          null,
          null,
          null,
          null,
          null,
          null,
          null,
          null,
          null,
          null,
          null,
          null,
          null,
          null,
          null,
          null,
          null,
          null,
          null,
          null,
          null,
          null,
          null,
          null,
          null,
          null,
          null,
          null,
          null,
          null,
          null,
          null,
          null,
          null,
          null,
          null,
          null,
          null,
          null,
          null,
          null,
          null,
          null,
          null,
          null,
          null,
          null,
          null,
          null,
          null,
          null,
          null,
          null,
          null,
          null,
          null,
          null,
          null,
          null,
          null,
          null,
          null,
          null,
          null,
          null,
          null,
          1.5609511137008667,
          1.5961647033691406,
          1.5741626024246216,
          1.5799182653427124,
          1.5985380411148071,
          1.5627069473266602,
          1.5800563097000122,
          1.560767412185669,
          1.5904316902160645,
          1.5665509700775146,
          1.585831880569458,
          1.5428798198699951,
          1.5303444862365723,
          1.4973678588867188,
          1.5094348192214966,
          1.5477709770202637,
          1.5641050338745117,
          1.5368561744689941,
          1.441954255104065,
          1.4930963516235352,
          1.4982043504714966,
          1.4689735174179077,
          1.1967815160751343,
          1.2511028051376343,
          1.2260661125183105,
          1.2545557022094727,
          1.1488322019577026,
          1.2032221555709839,
          1.2514020204544067,
          1.220871925354004,
          1.2104136943817139,
          1.2192667722702026,
          1.2097707986831665,
          1.2266205549240112
         ]
        }
       ],
       "layout": {
        "template": {
         "data": {
          "bar": [
           {
            "error_x": {
             "color": "#2a3f5f"
            },
            "error_y": {
             "color": "#2a3f5f"
            },
            "marker": {
             "line": {
              "color": "#E5ECF6",
              "width": 0.5
             }
            },
            "type": "bar"
           }
          ],
          "barpolar": [
           {
            "marker": {
             "line": {
              "color": "#E5ECF6",
              "width": 0.5
             }
            },
            "type": "barpolar"
           }
          ],
          "carpet": [
           {
            "aaxis": {
             "endlinecolor": "#2a3f5f",
             "gridcolor": "white",
             "linecolor": "white",
             "minorgridcolor": "white",
             "startlinecolor": "#2a3f5f"
            },
            "baxis": {
             "endlinecolor": "#2a3f5f",
             "gridcolor": "white",
             "linecolor": "white",
             "minorgridcolor": "white",
             "startlinecolor": "#2a3f5f"
            },
            "type": "carpet"
           }
          ],
          "choropleth": [
           {
            "colorbar": {
             "outlinewidth": 0,
             "ticks": ""
            },
            "type": "choropleth"
           }
          ],
          "contour": [
           {
            "colorbar": {
             "outlinewidth": 0,
             "ticks": ""
            },
            "colorscale": [
             [
              0,
              "#0d0887"
             ],
             [
              0.1111111111111111,
              "#46039f"
             ],
             [
              0.2222222222222222,
              "#7201a8"
             ],
             [
              0.3333333333333333,
              "#9c179e"
             ],
             [
              0.4444444444444444,
              "#bd3786"
             ],
             [
              0.5555555555555556,
              "#d8576b"
             ],
             [
              0.6666666666666666,
              "#ed7953"
             ],
             [
              0.7777777777777778,
              "#fb9f3a"
             ],
             [
              0.8888888888888888,
              "#fdca26"
             ],
             [
              1,
              "#f0f921"
             ]
            ],
            "type": "contour"
           }
          ],
          "contourcarpet": [
           {
            "colorbar": {
             "outlinewidth": 0,
             "ticks": ""
            },
            "type": "contourcarpet"
           }
          ],
          "heatmap": [
           {
            "colorbar": {
             "outlinewidth": 0,
             "ticks": ""
            },
            "colorscale": [
             [
              0,
              "#0d0887"
             ],
             [
              0.1111111111111111,
              "#46039f"
             ],
             [
              0.2222222222222222,
              "#7201a8"
             ],
             [
              0.3333333333333333,
              "#9c179e"
             ],
             [
              0.4444444444444444,
              "#bd3786"
             ],
             [
              0.5555555555555556,
              "#d8576b"
             ],
             [
              0.6666666666666666,
              "#ed7953"
             ],
             [
              0.7777777777777778,
              "#fb9f3a"
             ],
             [
              0.8888888888888888,
              "#fdca26"
             ],
             [
              1,
              "#f0f921"
             ]
            ],
            "type": "heatmap"
           }
          ],
          "heatmapgl": [
           {
            "colorbar": {
             "outlinewidth": 0,
             "ticks": ""
            },
            "colorscale": [
             [
              0,
              "#0d0887"
             ],
             [
              0.1111111111111111,
              "#46039f"
             ],
             [
              0.2222222222222222,
              "#7201a8"
             ],
             [
              0.3333333333333333,
              "#9c179e"
             ],
             [
              0.4444444444444444,
              "#bd3786"
             ],
             [
              0.5555555555555556,
              "#d8576b"
             ],
             [
              0.6666666666666666,
              "#ed7953"
             ],
             [
              0.7777777777777778,
              "#fb9f3a"
             ],
             [
              0.8888888888888888,
              "#fdca26"
             ],
             [
              1,
              "#f0f921"
             ]
            ],
            "type": "heatmapgl"
           }
          ],
          "histogram": [
           {
            "marker": {
             "colorbar": {
              "outlinewidth": 0,
              "ticks": ""
             }
            },
            "type": "histogram"
           }
          ],
          "histogram2d": [
           {
            "colorbar": {
             "outlinewidth": 0,
             "ticks": ""
            },
            "colorscale": [
             [
              0,
              "#0d0887"
             ],
             [
              0.1111111111111111,
              "#46039f"
             ],
             [
              0.2222222222222222,
              "#7201a8"
             ],
             [
              0.3333333333333333,
              "#9c179e"
             ],
             [
              0.4444444444444444,
              "#bd3786"
             ],
             [
              0.5555555555555556,
              "#d8576b"
             ],
             [
              0.6666666666666666,
              "#ed7953"
             ],
             [
              0.7777777777777778,
              "#fb9f3a"
             ],
             [
              0.8888888888888888,
              "#fdca26"
             ],
             [
              1,
              "#f0f921"
             ]
            ],
            "type": "histogram2d"
           }
          ],
          "histogram2dcontour": [
           {
            "colorbar": {
             "outlinewidth": 0,
             "ticks": ""
            },
            "colorscale": [
             [
              0,
              "#0d0887"
             ],
             [
              0.1111111111111111,
              "#46039f"
             ],
             [
              0.2222222222222222,
              "#7201a8"
             ],
             [
              0.3333333333333333,
              "#9c179e"
             ],
             [
              0.4444444444444444,
              "#bd3786"
             ],
             [
              0.5555555555555556,
              "#d8576b"
             ],
             [
              0.6666666666666666,
              "#ed7953"
             ],
             [
              0.7777777777777778,
              "#fb9f3a"
             ],
             [
              0.8888888888888888,
              "#fdca26"
             ],
             [
              1,
              "#f0f921"
             ]
            ],
            "type": "histogram2dcontour"
           }
          ],
          "mesh3d": [
           {
            "colorbar": {
             "outlinewidth": 0,
             "ticks": ""
            },
            "type": "mesh3d"
           }
          ],
          "parcoords": [
           {
            "line": {
             "colorbar": {
              "outlinewidth": 0,
              "ticks": ""
             }
            },
            "type": "parcoords"
           }
          ],
          "pie": [
           {
            "automargin": true,
            "type": "pie"
           }
          ],
          "scatter": [
           {
            "marker": {
             "colorbar": {
              "outlinewidth": 0,
              "ticks": ""
             }
            },
            "type": "scatter"
           }
          ],
          "scatter3d": [
           {
            "line": {
             "colorbar": {
              "outlinewidth": 0,
              "ticks": ""
             }
            },
            "marker": {
             "colorbar": {
              "outlinewidth": 0,
              "ticks": ""
             }
            },
            "type": "scatter3d"
           }
          ],
          "scattercarpet": [
           {
            "marker": {
             "colorbar": {
              "outlinewidth": 0,
              "ticks": ""
             }
            },
            "type": "scattercarpet"
           }
          ],
          "scattergeo": [
           {
            "marker": {
             "colorbar": {
              "outlinewidth": 0,
              "ticks": ""
             }
            },
            "type": "scattergeo"
           }
          ],
          "scattergl": [
           {
            "marker": {
             "colorbar": {
              "outlinewidth": 0,
              "ticks": ""
             }
            },
            "type": "scattergl"
           }
          ],
          "scattermapbox": [
           {
            "marker": {
             "colorbar": {
              "outlinewidth": 0,
              "ticks": ""
             }
            },
            "type": "scattermapbox"
           }
          ],
          "scatterpolar": [
           {
            "marker": {
             "colorbar": {
              "outlinewidth": 0,
              "ticks": ""
             }
            },
            "type": "scatterpolar"
           }
          ],
          "scatterpolargl": [
           {
            "marker": {
             "colorbar": {
              "outlinewidth": 0,
              "ticks": ""
             }
            },
            "type": "scatterpolargl"
           }
          ],
          "scatterternary": [
           {
            "marker": {
             "colorbar": {
              "outlinewidth": 0,
              "ticks": ""
             }
            },
            "type": "scatterternary"
           }
          ],
          "surface": [
           {
            "colorbar": {
             "outlinewidth": 0,
             "ticks": ""
            },
            "colorscale": [
             [
              0,
              "#0d0887"
             ],
             [
              0.1111111111111111,
              "#46039f"
             ],
             [
              0.2222222222222222,
              "#7201a8"
             ],
             [
              0.3333333333333333,
              "#9c179e"
             ],
             [
              0.4444444444444444,
              "#bd3786"
             ],
             [
              0.5555555555555556,
              "#d8576b"
             ],
             [
              0.6666666666666666,
              "#ed7953"
             ],
             [
              0.7777777777777778,
              "#fb9f3a"
             ],
             [
              0.8888888888888888,
              "#fdca26"
             ],
             [
              1,
              "#f0f921"
             ]
            ],
            "type": "surface"
           }
          ],
          "table": [
           {
            "cells": {
             "fill": {
              "color": "#EBF0F8"
             },
             "line": {
              "color": "white"
             }
            },
            "header": {
             "fill": {
              "color": "#C8D4E3"
             },
             "line": {
              "color": "white"
             }
            },
            "type": "table"
           }
          ]
         },
         "layout": {
          "annotationdefaults": {
           "arrowcolor": "#2a3f5f",
           "arrowhead": 0,
           "arrowwidth": 1
          },
          "autotypenumbers": "strict",
          "coloraxis": {
           "colorbar": {
            "outlinewidth": 0,
            "ticks": ""
           }
          },
          "colorscale": {
           "diverging": [
            [
             0,
             "#8e0152"
            ],
            [
             0.1,
             "#c51b7d"
            ],
            [
             0.2,
             "#de77ae"
            ],
            [
             0.3,
             "#f1b6da"
            ],
            [
             0.4,
             "#fde0ef"
            ],
            [
             0.5,
             "#f7f7f7"
            ],
            [
             0.6,
             "#e6f5d0"
            ],
            [
             0.7,
             "#b8e186"
            ],
            [
             0.8,
             "#7fbc41"
            ],
            [
             0.9,
             "#4d9221"
            ],
            [
             1,
             "#276419"
            ]
           ],
           "sequential": [
            [
             0,
             "#0d0887"
            ],
            [
             0.1111111111111111,
             "#46039f"
            ],
            [
             0.2222222222222222,
             "#7201a8"
            ],
            [
             0.3333333333333333,
             "#9c179e"
            ],
            [
             0.4444444444444444,
             "#bd3786"
            ],
            [
             0.5555555555555556,
             "#d8576b"
            ],
            [
             0.6666666666666666,
             "#ed7953"
            ],
            [
             0.7777777777777778,
             "#fb9f3a"
            ],
            [
             0.8888888888888888,
             "#fdca26"
            ],
            [
             1,
             "#f0f921"
            ]
           ],
           "sequentialminus": [
            [
             0,
             "#0d0887"
            ],
            [
             0.1111111111111111,
             "#46039f"
            ],
            [
             0.2222222222222222,
             "#7201a8"
            ],
            [
             0.3333333333333333,
             "#9c179e"
            ],
            [
             0.4444444444444444,
             "#bd3786"
            ],
            [
             0.5555555555555556,
             "#d8576b"
            ],
            [
             0.6666666666666666,
             "#ed7953"
            ],
            [
             0.7777777777777778,
             "#fb9f3a"
            ],
            [
             0.8888888888888888,
             "#fdca26"
            ],
            [
             1,
             "#f0f921"
            ]
           ]
          },
          "colorway": [
           "#636efa",
           "#EF553B",
           "#00cc96",
           "#ab63fa",
           "#FFA15A",
           "#19d3f3",
           "#FF6692",
           "#B6E880",
           "#FF97FF",
           "#FECB52"
          ],
          "font": {
           "color": "#2a3f5f"
          },
          "geo": {
           "bgcolor": "white",
           "lakecolor": "white",
           "landcolor": "#E5ECF6",
           "showlakes": true,
           "showland": true,
           "subunitcolor": "white"
          },
          "hoverlabel": {
           "align": "left"
          },
          "hovermode": "closest",
          "mapbox": {
           "style": "light"
          },
          "paper_bgcolor": "white",
          "plot_bgcolor": "#E5ECF6",
          "polar": {
           "angularaxis": {
            "gridcolor": "white",
            "linecolor": "white",
            "ticks": ""
           },
           "bgcolor": "#E5ECF6",
           "radialaxis": {
            "gridcolor": "white",
            "linecolor": "white",
            "ticks": ""
           }
          },
          "scene": {
           "xaxis": {
            "backgroundcolor": "#E5ECF6",
            "gridcolor": "white",
            "gridwidth": 2,
            "linecolor": "white",
            "showbackground": true,
            "ticks": "",
            "zerolinecolor": "white"
           },
           "yaxis": {
            "backgroundcolor": "#E5ECF6",
            "gridcolor": "white",
            "gridwidth": 2,
            "linecolor": "white",
            "showbackground": true,
            "ticks": "",
            "zerolinecolor": "white"
           },
           "zaxis": {
            "backgroundcolor": "#E5ECF6",
            "gridcolor": "white",
            "gridwidth": 2,
            "linecolor": "white",
            "showbackground": true,
            "ticks": "",
            "zerolinecolor": "white"
           }
          },
          "shapedefaults": {
           "line": {
            "color": "#2a3f5f"
           }
          },
          "ternary": {
           "aaxis": {
            "gridcolor": "white",
            "linecolor": "white",
            "ticks": ""
           },
           "baxis": {
            "gridcolor": "white",
            "linecolor": "white",
            "ticks": ""
           },
           "bgcolor": "#E5ECF6",
           "caxis": {
            "gridcolor": "white",
            "linecolor": "white",
            "ticks": ""
           }
          },
          "title": {
           "x": 0.05
          },
          "xaxis": {
           "automargin": true,
           "gridcolor": "white",
           "linecolor": "white",
           "ticks": "",
           "title": {
            "standoff": 15
           },
           "zerolinecolor": "white",
           "zerolinewidth": 2
          },
          "yaxis": {
           "automargin": true,
           "gridcolor": "white",
           "linecolor": "white",
           "ticks": "",
           "title": {
            "standoff": 15
           },
           "zerolinecolor": "white",
           "zerolinewidth": 2
          }
         }
        },
        "title": {
         "text": "XGBoost time series forecast"
        },
        "xaxis": {
         "title": {
          "text": "Date"
         }
        },
        "yaxis": {
         "title": {
          "text": "Prices"
         }
        }
       }
      },
      "text/html": [
       "<div>                            <div id=\"71d47f7d-729a-4a67-8a71-2d40a4e53c94\" class=\"plotly-graph-div\" style=\"height:525px; width:100%;\"></div>            <script type=\"text/javascript\">                require([\"plotly\"], function(Plotly) {                    window.PLOTLYENV=window.PLOTLYENV || {};                                    if (document.getElementById(\"71d47f7d-729a-4a67-8a71-2d40a4e53c94\")) {                    Plotly.newPlot(                        \"71d47f7d-729a-4a67-8a71-2d40a4e53c94\",                        [{\"name\": \"actual\", \"type\": \"scatter\", \"x\": [\"2015-01-04T00:00:00\", \"2015-01-11T00:00:00\", \"2015-01-18T00:00:00\", \"2015-01-25T00:00:00\", \"2015-02-01T00:00:00\", \"2015-02-08T00:00:00\", \"2015-02-15T00:00:00\", \"2015-02-22T00:00:00\", \"2015-03-01T00:00:00\", \"2015-03-08T00:00:00\", \"2015-03-15T00:00:00\", \"2015-03-22T00:00:00\", \"2015-03-29T00:00:00\", \"2015-04-05T00:00:00\", \"2015-04-12T00:00:00\", \"2015-04-19T00:00:00\", \"2015-04-26T00:00:00\", \"2015-05-03T00:00:00\", \"2015-05-10T00:00:00\", \"2015-05-17T00:00:00\", \"2015-05-24T00:00:00\", \"2015-05-31T00:00:00\", \"2015-06-07T00:00:00\", \"2015-06-14T00:00:00\", \"2015-06-21T00:00:00\", \"2015-06-28T00:00:00\", \"2015-07-05T00:00:00\", \"2015-07-12T00:00:00\", \"2015-07-19T00:00:00\", \"2015-07-26T00:00:00\", \"2015-08-02T00:00:00\", \"2015-08-09T00:00:00\", \"2015-08-16T00:00:00\", \"2015-08-23T00:00:00\", \"2015-08-30T00:00:00\", \"2015-09-06T00:00:00\", \"2015-09-13T00:00:00\", \"2015-09-20T00:00:00\", \"2015-09-27T00:00:00\", \"2015-10-04T00:00:00\", \"2015-10-11T00:00:00\", \"2015-10-18T00:00:00\", \"2015-10-25T00:00:00\", \"2015-11-01T00:00:00\", \"2015-11-08T00:00:00\", \"2015-11-15T00:00:00\", \"2015-11-22T00:00:00\", \"2015-11-29T00:00:00\", \"2015-12-06T00:00:00\", \"2015-12-13T00:00:00\", \"2015-12-20T00:00:00\", \"2015-12-27T00:00:00\", \"2016-01-03T00:00:00\", \"2016-01-10T00:00:00\", \"2016-01-17T00:00:00\", \"2016-01-24T00:00:00\", \"2016-01-31T00:00:00\", \"2016-02-07T00:00:00\", \"2016-02-14T00:00:00\", \"2016-02-21T00:00:00\", \"2016-02-28T00:00:00\", \"2016-03-06T00:00:00\", \"2016-03-13T00:00:00\", \"2016-03-20T00:00:00\", \"2016-03-27T00:00:00\", \"2016-04-03T00:00:00\", \"2016-04-10T00:00:00\", \"2016-04-17T00:00:00\", \"2016-04-24T00:00:00\", \"2016-05-01T00:00:00\", \"2016-05-08T00:00:00\", \"2016-05-15T00:00:00\", \"2016-05-22T00:00:00\", \"2016-05-29T00:00:00\", \"2016-06-05T00:00:00\", \"2016-06-12T00:00:00\", \"2016-06-19T00:00:00\", \"2016-06-26T00:00:00\", \"2016-07-03T00:00:00\", \"2016-07-10T00:00:00\", \"2016-07-17T00:00:00\", \"2016-07-24T00:00:00\", \"2016-07-31T00:00:00\", \"2016-08-07T00:00:00\", \"2016-08-14T00:00:00\", \"2016-08-21T00:00:00\", \"2016-08-28T00:00:00\", \"2016-09-04T00:00:00\", \"2016-09-11T00:00:00\", \"2016-09-18T00:00:00\", \"2016-09-25T00:00:00\", \"2016-10-02T00:00:00\", \"2016-10-09T00:00:00\", \"2016-10-16T00:00:00\", \"2016-10-23T00:00:00\", \"2016-10-30T00:00:00\", \"2016-11-06T00:00:00\", \"2016-11-13T00:00:00\", \"2016-11-20T00:00:00\", \"2016-11-27T00:00:00\", \"2016-12-04T00:00:00\", \"2016-12-11T00:00:00\", \"2016-12-18T00:00:00\", \"2016-12-25T00:00:00\", \"2017-01-01T00:00:00\", \"2017-01-08T00:00:00\", \"2017-01-15T00:00:00\", \"2017-01-22T00:00:00\", \"2017-01-29T00:00:00\", \"2017-02-05T00:00:00\", \"2017-02-12T00:00:00\", \"2017-02-19T00:00:00\", \"2017-02-26T00:00:00\", \"2017-03-05T00:00:00\", \"2017-03-12T00:00:00\", \"2017-03-19T00:00:00\", \"2017-03-26T00:00:00\", \"2017-04-02T00:00:00\", \"2017-04-09T00:00:00\", \"2017-04-16T00:00:00\", \"2017-04-23T00:00:00\", \"2017-04-30T00:00:00\", \"2017-05-07T00:00:00\", \"2017-05-14T00:00:00\", \"2017-05-21T00:00:00\", \"2017-05-28T00:00:00\", \"2017-06-04T00:00:00\", \"2017-06-11T00:00:00\", \"2017-06-18T00:00:00\", \"2017-06-25T00:00:00\", \"2017-07-02T00:00:00\", \"2017-07-09T00:00:00\", \"2017-07-16T00:00:00\", \"2017-07-23T00:00:00\", \"2017-07-30T00:00:00\", \"2017-08-06T00:00:00\", \"2017-08-13T00:00:00\", \"2017-08-20T00:00:00\", \"2017-08-27T00:00:00\", \"2017-09-03T00:00:00\", \"2017-09-10T00:00:00\", \"2017-09-17T00:00:00\", \"2017-09-24T00:00:00\", \"2017-10-01T00:00:00\", \"2017-10-08T00:00:00\", \"2017-10-15T00:00:00\", \"2017-10-22T00:00:00\", \"2017-10-29T00:00:00\", \"2017-11-05T00:00:00\", \"2017-11-12T00:00:00\", \"2017-11-19T00:00:00\", \"2017-11-26T00:00:00\", \"2017-12-03T00:00:00\", \"2017-12-10T00:00:00\", \"2017-12-17T00:00:00\", \"2017-12-24T00:00:00\", \"2017-12-31T00:00:00\", \"2018-01-07T00:00:00\", \"2018-01-14T00:00:00\", \"2018-01-21T00:00:00\", \"2018-01-28T00:00:00\", \"2018-02-04T00:00:00\", \"2018-02-11T00:00:00\", \"2018-02-18T00:00:00\", \"2018-02-25T00:00:00\", \"2018-03-04T00:00:00\", \"2018-03-11T00:00:00\", \"2018-03-18T00:00:00\", \"2018-03-25T00:00:00\"], \"y\": [1.3012962962962962, 1.3706481481481485, 1.391111111111111, 1.3971296296296296, 1.2470370370370376, 1.310462962962963, 1.3875925925925925, 1.3626851851851853, 1.3110185185185188, 1.360092592592593, 1.3919444444444447, 1.3492592592592596, 1.3975925925925925, 1.4129629629629628, 1.3639814814814817, 1.3716666666666668, 1.385185185185185, 1.2838888888888889, 1.3235185185185185, 1.3531481481481475, 1.3804629629629628, 1.3824074074074078, 1.3809259259259254, 1.400462962962963, 1.408425925925926, 1.4064814814814826, 1.4137962962962969, 1.4156481481481482, 1.3875, 1.420833333333333, 1.4773148148148147, 1.4312962962962965, 1.4498148148148144, 1.4445370370370372, 1.4194444444444447, 1.434351851851852, 1.4632407407407415, 1.4480555555555554, 1.450925925925925, 1.4191666666666671, 1.373333333333333, 1.3923148148148148, 1.3830555555555557, 1.304907407407407, 1.334351851851851, 1.3400000000000003, 1.3309259259259258, 1.3428703703703706, 1.2891588785046726, 1.2878703703703707, 1.3453703703703699, 1.2984259259259257, 1.2063888888888892, 1.2276851851851853, 1.2716666666666665, 1.2422222222222221, 1.2529629629629626, 1.1738888888888885, 1.2323148148148149, 1.2766666666666666, 1.265555555555556, 1.2569444444444444, 1.1970370370370373, 1.1976851851851853, 1.2451851851851852, 1.2353703703703702, 1.1737962962962962, 1.2212962962962965, 1.1896296296296296, 1.163703703703704, 1.1485185185185185, 1.2158333333333333, 1.2246296296296302, 1.2459259259259254, 1.2426851851851852, 1.3009259259259256, 1.2777777777777781, 1.3108333333333333, 1.294722222222222, 1.3532407407407407, 1.4280555555555554, 1.4823148148148144, 1.4483333333333335, 1.4160185185185181, 1.4188888888888889, 1.4156481481481482, 1.393888888888888, 1.3720370370370376, 1.3568518518518518, 1.4481481481481482, 1.5344444444444445, 1.575277777777777, 1.4829629629629626, 1.4844444444444447, 1.540740740740741, 1.7020370370370363, 1.6194444444444442, 1.5844444444444448, 1.4997222222222217, 1.4964814814814817, 1.369166666666666, 1.3077777777777777, 1.2771296296296295, 1.309907407407408, 1.2766666666666668, 1.2944444444444445, 1.3186111111111107, 1.2232407407407406, 1.2745370370370372, 1.1447222222222224, 1.2039814814814815, 1.269351851851852, 1.241111111111111, 1.2874074074074078, 1.4361111111111113, 1.4681481481481486, 1.4040740740740743, 1.448055555555555, 1.4659259259259256, 1.5048148148148146, 1.5437037037037034, 1.5505555555555564, 1.461666666666667, 1.5283333333333344, 1.5608333333333337, 1.5795370370370367, 1.5646296296296294, 1.521574074074074, 1.5385046728971974, 1.556915887850467, 1.5695370370370378, 1.540277777777778, 1.5810185185185188, 1.5634259259259256, 1.57037037037037, 1.606203703703704, 1.6415740740740736, 1.7368518518518519, 1.8112037037037036, 1.8551851851851848, 1.8438888888888891, 1.8313888888888892, 1.8333333333333333, 1.8712962962962971, 1.8433333333333337, 1.7828703703703699, 1.6645370370370371, 1.600185185185185, 1.5590740740740738, 1.508796296296296, 1.4991666666666663, 1.5021296296296298, 1.3853703703703704, 1.341481481481482, 1.3689814814814814, 1.439907407407407, 1.2835185185185183, 1.357777777777778, 1.4225925925925924, 1.3771296296296298, 1.3922222222222234, 1.2340740740740739, 1.307037037037037, 1.3740740740740738, 1.3596296296296293, 1.3501851851851854, 1.335092592592593, 1.3137037037037034, 1.3468518518518513]}, {\"name\": \"forecast\", \"type\": \"scatter\", \"x\": [\"2015-01-04T00:00:00\", \"2015-01-11T00:00:00\", \"2015-01-18T00:00:00\", \"2015-01-25T00:00:00\", \"2015-02-01T00:00:00\", \"2015-02-08T00:00:00\", \"2015-02-15T00:00:00\", \"2015-02-22T00:00:00\", \"2015-03-01T00:00:00\", \"2015-03-08T00:00:00\", \"2015-03-15T00:00:00\", \"2015-03-22T00:00:00\", \"2015-03-29T00:00:00\", \"2015-04-05T00:00:00\", \"2015-04-12T00:00:00\", \"2015-04-19T00:00:00\", \"2015-04-26T00:00:00\", \"2015-05-03T00:00:00\", \"2015-05-10T00:00:00\", \"2015-05-17T00:00:00\", \"2015-05-24T00:00:00\", \"2015-05-31T00:00:00\", \"2015-06-07T00:00:00\", \"2015-06-14T00:00:00\", \"2015-06-21T00:00:00\", \"2015-06-28T00:00:00\", \"2015-07-05T00:00:00\", \"2015-07-12T00:00:00\", \"2015-07-19T00:00:00\", \"2015-07-26T00:00:00\", \"2015-08-02T00:00:00\", \"2015-08-09T00:00:00\", \"2015-08-16T00:00:00\", \"2015-08-23T00:00:00\", \"2015-08-30T00:00:00\", \"2015-09-06T00:00:00\", \"2015-09-13T00:00:00\", \"2015-09-20T00:00:00\", \"2015-09-27T00:00:00\", \"2015-10-04T00:00:00\", \"2015-10-11T00:00:00\", \"2015-10-18T00:00:00\", \"2015-10-25T00:00:00\", \"2015-11-01T00:00:00\", \"2015-11-08T00:00:00\", \"2015-11-15T00:00:00\", \"2015-11-22T00:00:00\", \"2015-11-29T00:00:00\", \"2015-12-06T00:00:00\", \"2015-12-13T00:00:00\", \"2015-12-20T00:00:00\", \"2015-12-27T00:00:00\", \"2016-01-03T00:00:00\", \"2016-01-10T00:00:00\", \"2016-01-17T00:00:00\", \"2016-01-24T00:00:00\", \"2016-01-31T00:00:00\", \"2016-02-07T00:00:00\", \"2016-02-14T00:00:00\", \"2016-02-21T00:00:00\", \"2016-02-28T00:00:00\", \"2016-03-06T00:00:00\", \"2016-03-13T00:00:00\", \"2016-03-20T00:00:00\", \"2016-03-27T00:00:00\", \"2016-04-03T00:00:00\", \"2016-04-10T00:00:00\", \"2016-04-17T00:00:00\", \"2016-04-24T00:00:00\", \"2016-05-01T00:00:00\", \"2016-05-08T00:00:00\", \"2016-05-15T00:00:00\", \"2016-05-22T00:00:00\", \"2016-05-29T00:00:00\", \"2016-06-05T00:00:00\", \"2016-06-12T00:00:00\", \"2016-06-19T00:00:00\", \"2016-06-26T00:00:00\", \"2016-07-03T00:00:00\", \"2016-07-10T00:00:00\", \"2016-07-17T00:00:00\", \"2016-07-24T00:00:00\", \"2016-07-31T00:00:00\", \"2016-08-07T00:00:00\", \"2016-08-14T00:00:00\", \"2016-08-21T00:00:00\", \"2016-08-28T00:00:00\", \"2016-09-04T00:00:00\", \"2016-09-11T00:00:00\", \"2016-09-18T00:00:00\", \"2016-09-25T00:00:00\", \"2016-10-02T00:00:00\", \"2016-10-09T00:00:00\", \"2016-10-16T00:00:00\", \"2016-10-23T00:00:00\", \"2016-10-30T00:00:00\", \"2016-11-06T00:00:00\", \"2016-11-13T00:00:00\", \"2016-11-20T00:00:00\", \"2016-11-27T00:00:00\", \"2016-12-04T00:00:00\", \"2016-12-11T00:00:00\", \"2016-12-18T00:00:00\", \"2016-12-25T00:00:00\", \"2017-01-01T00:00:00\", \"2017-01-08T00:00:00\", \"2017-01-15T00:00:00\", \"2017-01-22T00:00:00\", \"2017-01-29T00:00:00\", \"2017-02-05T00:00:00\", \"2017-02-12T00:00:00\", \"2017-02-19T00:00:00\", \"2017-02-26T00:00:00\", \"2017-03-05T00:00:00\", \"2017-03-12T00:00:00\", \"2017-03-19T00:00:00\", \"2017-03-26T00:00:00\", \"2017-04-02T00:00:00\", \"2017-04-09T00:00:00\", \"2017-04-16T00:00:00\", \"2017-04-23T00:00:00\", \"2017-04-30T00:00:00\", \"2017-05-07T00:00:00\", \"2017-05-14T00:00:00\", \"2017-05-21T00:00:00\", \"2017-05-28T00:00:00\", \"2017-06-04T00:00:00\", \"2017-06-11T00:00:00\", \"2017-06-18T00:00:00\", \"2017-06-25T00:00:00\", \"2017-07-02T00:00:00\", \"2017-07-09T00:00:00\", \"2017-07-16T00:00:00\", \"2017-07-23T00:00:00\", \"2017-07-30T00:00:00\", \"2017-08-06T00:00:00\", \"2017-08-13T00:00:00\", \"2017-08-20T00:00:00\", \"2017-08-27T00:00:00\", \"2017-09-03T00:00:00\", \"2017-09-10T00:00:00\", \"2017-09-17T00:00:00\", \"2017-09-24T00:00:00\", \"2017-10-01T00:00:00\", \"2017-10-08T00:00:00\", \"2017-10-15T00:00:00\", \"2017-10-22T00:00:00\", \"2017-10-29T00:00:00\", \"2017-11-05T00:00:00\", \"2017-11-12T00:00:00\", \"2017-11-19T00:00:00\", \"2017-11-26T00:00:00\", \"2017-12-03T00:00:00\", \"2017-12-10T00:00:00\", \"2017-12-17T00:00:00\", \"2017-12-24T00:00:00\", \"2017-12-31T00:00:00\", \"2018-01-07T00:00:00\", \"2018-01-14T00:00:00\", \"2018-01-21T00:00:00\", \"2018-01-28T00:00:00\", \"2018-02-04T00:00:00\", \"2018-02-11T00:00:00\", \"2018-02-18T00:00:00\", \"2018-02-25T00:00:00\", \"2018-03-04T00:00:00\", \"2018-03-11T00:00:00\", \"2018-03-18T00:00:00\", \"2018-03-25T00:00:00\"], \"y\": [null, null, null, null, null, null, null, null, null, null, null, null, null, null, null, null, null, null, null, null, null, null, null, null, null, null, null, null, null, null, null, null, null, null, null, null, null, null, null, null, null, null, null, null, null, null, null, null, null, null, null, null, null, null, null, null, null, null, null, null, null, null, null, null, null, null, null, null, null, null, null, null, null, null, null, null, null, null, null, null, null, null, null, null, null, null, null, null, null, null, null, null, null, null, null, null, null, null, null, null, null, null, null, null, null, null, null, null, null, null, null, null, null, null, null, null, null, null, null, null, null, null, null, null, null, null, null, null, null, null, null, null, null, null, null, 1.5609511137008667, 1.5961647033691406, 1.5741626024246216, 1.5799182653427124, 1.5985380411148071, 1.5627069473266602, 1.5800563097000122, 1.560767412185669, 1.5904316902160645, 1.5665509700775146, 1.585831880569458, 1.5428798198699951, 1.5303444862365723, 1.4973678588867188, 1.5094348192214966, 1.5477709770202637, 1.5641050338745117, 1.5368561744689941, 1.441954255104065, 1.4930963516235352, 1.4982043504714966, 1.4689735174179077, 1.1967815160751343, 1.2511028051376343, 1.2260661125183105, 1.2545557022094727, 1.1488322019577026, 1.2032221555709839, 1.2514020204544067, 1.220871925354004, 1.2104136943817139, 1.2192667722702026, 1.2097707986831665, 1.2266205549240112]}],                        {\"template\": {\"data\": {\"bar\": [{\"error_x\": {\"color\": \"#2a3f5f\"}, \"error_y\": {\"color\": \"#2a3f5f\"}, \"marker\": {\"line\": {\"color\": \"#E5ECF6\", \"width\": 0.5}}, \"type\": \"bar\"}], \"barpolar\": [{\"marker\": {\"line\": {\"color\": \"#E5ECF6\", \"width\": 0.5}}, \"type\": \"barpolar\"}], \"carpet\": [{\"aaxis\": {\"endlinecolor\": \"#2a3f5f\", \"gridcolor\": \"white\", \"linecolor\": \"white\", \"minorgridcolor\": \"white\", \"startlinecolor\": \"#2a3f5f\"}, \"baxis\": {\"endlinecolor\": \"#2a3f5f\", \"gridcolor\": \"white\", \"linecolor\": \"white\", \"minorgridcolor\": \"white\", \"startlinecolor\": \"#2a3f5f\"}, \"type\": \"carpet\"}], \"choropleth\": [{\"colorbar\": {\"outlinewidth\": 0, \"ticks\": \"\"}, \"type\": \"choropleth\"}], \"contour\": [{\"colorbar\": {\"outlinewidth\": 0, \"ticks\": \"\"}, \"colorscale\": [[0.0, \"#0d0887\"], [0.1111111111111111, \"#46039f\"], [0.2222222222222222, \"#7201a8\"], [0.3333333333333333, \"#9c179e\"], [0.4444444444444444, \"#bd3786\"], [0.5555555555555556, \"#d8576b\"], [0.6666666666666666, \"#ed7953\"], [0.7777777777777778, \"#fb9f3a\"], [0.8888888888888888, \"#fdca26\"], [1.0, \"#f0f921\"]], \"type\": \"contour\"}], \"contourcarpet\": [{\"colorbar\": {\"outlinewidth\": 0, \"ticks\": \"\"}, \"type\": \"contourcarpet\"}], \"heatmap\": [{\"colorbar\": {\"outlinewidth\": 0, \"ticks\": \"\"}, \"colorscale\": [[0.0, \"#0d0887\"], [0.1111111111111111, \"#46039f\"], [0.2222222222222222, \"#7201a8\"], [0.3333333333333333, \"#9c179e\"], [0.4444444444444444, \"#bd3786\"], [0.5555555555555556, \"#d8576b\"], [0.6666666666666666, \"#ed7953\"], [0.7777777777777778, \"#fb9f3a\"], [0.8888888888888888, \"#fdca26\"], [1.0, \"#f0f921\"]], \"type\": \"heatmap\"}], \"heatmapgl\": [{\"colorbar\": {\"outlinewidth\": 0, \"ticks\": \"\"}, \"colorscale\": [[0.0, \"#0d0887\"], [0.1111111111111111, \"#46039f\"], [0.2222222222222222, \"#7201a8\"], [0.3333333333333333, \"#9c179e\"], [0.4444444444444444, \"#bd3786\"], [0.5555555555555556, \"#d8576b\"], [0.6666666666666666, \"#ed7953\"], [0.7777777777777778, \"#fb9f3a\"], [0.8888888888888888, \"#fdca26\"], [1.0, \"#f0f921\"]], \"type\": \"heatmapgl\"}], \"histogram\": [{\"marker\": {\"colorbar\": {\"outlinewidth\": 0, \"ticks\": \"\"}}, \"type\": \"histogram\"}], \"histogram2d\": [{\"colorbar\": {\"outlinewidth\": 0, \"ticks\": \"\"}, \"colorscale\": [[0.0, \"#0d0887\"], [0.1111111111111111, \"#46039f\"], [0.2222222222222222, \"#7201a8\"], [0.3333333333333333, \"#9c179e\"], [0.4444444444444444, \"#bd3786\"], [0.5555555555555556, \"#d8576b\"], [0.6666666666666666, \"#ed7953\"], [0.7777777777777778, \"#fb9f3a\"], [0.8888888888888888, \"#fdca26\"], [1.0, \"#f0f921\"]], \"type\": \"histogram2d\"}], \"histogram2dcontour\": [{\"colorbar\": {\"outlinewidth\": 0, \"ticks\": \"\"}, \"colorscale\": [[0.0, \"#0d0887\"], [0.1111111111111111, \"#46039f\"], [0.2222222222222222, \"#7201a8\"], [0.3333333333333333, \"#9c179e\"], [0.4444444444444444, \"#bd3786\"], [0.5555555555555556, \"#d8576b\"], [0.6666666666666666, \"#ed7953\"], [0.7777777777777778, \"#fb9f3a\"], [0.8888888888888888, \"#fdca26\"], [1.0, \"#f0f921\"]], \"type\": \"histogram2dcontour\"}], \"mesh3d\": [{\"colorbar\": {\"outlinewidth\": 0, \"ticks\": \"\"}, \"type\": \"mesh3d\"}], \"parcoords\": [{\"line\": {\"colorbar\": {\"outlinewidth\": 0, \"ticks\": \"\"}}, \"type\": \"parcoords\"}], \"pie\": [{\"automargin\": true, \"type\": \"pie\"}], \"scatter\": [{\"marker\": {\"colorbar\": {\"outlinewidth\": 0, \"ticks\": \"\"}}, \"type\": \"scatter\"}], \"scatter3d\": [{\"line\": {\"colorbar\": {\"outlinewidth\": 0, \"ticks\": \"\"}}, \"marker\": {\"colorbar\": {\"outlinewidth\": 0, \"ticks\": \"\"}}, \"type\": \"scatter3d\"}], \"scattercarpet\": [{\"marker\": {\"colorbar\": {\"outlinewidth\": 0, \"ticks\": \"\"}}, \"type\": \"scattercarpet\"}], \"scattergeo\": [{\"marker\": {\"colorbar\": {\"outlinewidth\": 0, \"ticks\": \"\"}}, \"type\": \"scattergeo\"}], \"scattergl\": [{\"marker\": {\"colorbar\": {\"outlinewidth\": 0, \"ticks\": \"\"}}, \"type\": \"scattergl\"}], \"scattermapbox\": [{\"marker\": {\"colorbar\": {\"outlinewidth\": 0, \"ticks\": \"\"}}, \"type\": \"scattermapbox\"}], \"scatterpolar\": [{\"marker\": {\"colorbar\": {\"outlinewidth\": 0, \"ticks\": \"\"}}, \"type\": \"scatterpolar\"}], \"scatterpolargl\": [{\"marker\": {\"colorbar\": {\"outlinewidth\": 0, \"ticks\": \"\"}}, \"type\": \"scatterpolargl\"}], \"scatterternary\": [{\"marker\": {\"colorbar\": {\"outlinewidth\": 0, \"ticks\": \"\"}}, \"type\": \"scatterternary\"}], \"surface\": [{\"colorbar\": {\"outlinewidth\": 0, \"ticks\": \"\"}, \"colorscale\": [[0.0, \"#0d0887\"], [0.1111111111111111, \"#46039f\"], [0.2222222222222222, \"#7201a8\"], [0.3333333333333333, \"#9c179e\"], [0.4444444444444444, \"#bd3786\"], [0.5555555555555556, \"#d8576b\"], [0.6666666666666666, \"#ed7953\"], [0.7777777777777778, \"#fb9f3a\"], [0.8888888888888888, \"#fdca26\"], [1.0, \"#f0f921\"]], \"type\": \"surface\"}], \"table\": [{\"cells\": {\"fill\": {\"color\": \"#EBF0F8\"}, \"line\": {\"color\": \"white\"}}, \"header\": {\"fill\": {\"color\": \"#C8D4E3\"}, \"line\": {\"color\": \"white\"}}, \"type\": \"table\"}]}, \"layout\": {\"annotationdefaults\": {\"arrowcolor\": \"#2a3f5f\", \"arrowhead\": 0, \"arrowwidth\": 1}, \"autotypenumbers\": \"strict\", \"coloraxis\": {\"colorbar\": {\"outlinewidth\": 0, \"ticks\": \"\"}}, \"colorscale\": {\"diverging\": [[0, \"#8e0152\"], [0.1, \"#c51b7d\"], [0.2, \"#de77ae\"], [0.3, \"#f1b6da\"], [0.4, \"#fde0ef\"], [0.5, \"#f7f7f7\"], [0.6, \"#e6f5d0\"], [0.7, \"#b8e186\"], [0.8, \"#7fbc41\"], [0.9, \"#4d9221\"], [1, \"#276419\"]], \"sequential\": [[0.0, \"#0d0887\"], [0.1111111111111111, \"#46039f\"], [0.2222222222222222, \"#7201a8\"], [0.3333333333333333, \"#9c179e\"], [0.4444444444444444, \"#bd3786\"], [0.5555555555555556, \"#d8576b\"], [0.6666666666666666, \"#ed7953\"], [0.7777777777777778, \"#fb9f3a\"], [0.8888888888888888, \"#fdca26\"], [1.0, \"#f0f921\"]], \"sequentialminus\": [[0.0, \"#0d0887\"], [0.1111111111111111, \"#46039f\"], [0.2222222222222222, \"#7201a8\"], [0.3333333333333333, \"#9c179e\"], [0.4444444444444444, \"#bd3786\"], [0.5555555555555556, \"#d8576b\"], [0.6666666666666666, \"#ed7953\"], [0.7777777777777778, \"#fb9f3a\"], [0.8888888888888888, \"#fdca26\"], [1.0, \"#f0f921\"]]}, \"colorway\": [\"#636efa\", \"#EF553B\", \"#00cc96\", \"#ab63fa\", \"#FFA15A\", \"#19d3f3\", \"#FF6692\", \"#B6E880\", \"#FF97FF\", \"#FECB52\"], \"font\": {\"color\": \"#2a3f5f\"}, \"geo\": {\"bgcolor\": \"white\", \"lakecolor\": \"white\", \"landcolor\": \"#E5ECF6\", \"showlakes\": true, \"showland\": true, \"subunitcolor\": \"white\"}, \"hoverlabel\": {\"align\": \"left\"}, \"hovermode\": \"closest\", \"mapbox\": {\"style\": \"light\"}, \"paper_bgcolor\": \"white\", \"plot_bgcolor\": \"#E5ECF6\", \"polar\": {\"angularaxis\": {\"gridcolor\": \"white\", \"linecolor\": \"white\", \"ticks\": \"\"}, \"bgcolor\": \"#E5ECF6\", \"radialaxis\": {\"gridcolor\": \"white\", \"linecolor\": \"white\", \"ticks\": \"\"}}, \"scene\": {\"xaxis\": {\"backgroundcolor\": \"#E5ECF6\", \"gridcolor\": \"white\", \"gridwidth\": 2, \"linecolor\": \"white\", \"showbackground\": true, \"ticks\": \"\", \"zerolinecolor\": \"white\"}, \"yaxis\": {\"backgroundcolor\": \"#E5ECF6\", \"gridcolor\": \"white\", \"gridwidth\": 2, \"linecolor\": \"white\", \"showbackground\": true, \"ticks\": \"\", \"zerolinecolor\": \"white\"}, \"zaxis\": {\"backgroundcolor\": \"#E5ECF6\", \"gridcolor\": \"white\", \"gridwidth\": 2, \"linecolor\": \"white\", \"showbackground\": true, \"ticks\": \"\", \"zerolinecolor\": \"white\"}}, \"shapedefaults\": {\"line\": {\"color\": \"#2a3f5f\"}}, \"ternary\": {\"aaxis\": {\"gridcolor\": \"white\", \"linecolor\": \"white\", \"ticks\": \"\"}, \"baxis\": {\"gridcolor\": \"white\", \"linecolor\": \"white\", \"ticks\": \"\"}, \"bgcolor\": \"#E5ECF6\", \"caxis\": {\"gridcolor\": \"white\", \"linecolor\": \"white\", \"ticks\": \"\"}}, \"title\": {\"x\": 0.05}, \"xaxis\": {\"automargin\": true, \"gridcolor\": \"white\", \"linecolor\": \"white\", \"ticks\": \"\", \"title\": {\"standoff\": 15}, \"zerolinecolor\": \"white\", \"zerolinewidth\": 2}, \"yaxis\": {\"automargin\": true, \"gridcolor\": \"white\", \"linecolor\": \"white\", \"ticks\": \"\", \"title\": {\"standoff\": 15}, \"zerolinecolor\": \"white\", \"zerolinewidth\": 2}}}, \"title\": {\"text\": \"XGBoost time series forecast\"}, \"xaxis\": {\"title\": {\"text\": \"Date\"}}, \"yaxis\": {\"title\": {\"text\": \"Prices\"}}},                        {\"responsive\": true}                    ).then(function(){\n",
       "                            \n",
       "var gd = document.getElementById('71d47f7d-729a-4a67-8a71-2d40a4e53c94');\n",
       "var x = new MutationObserver(function (mutations, observer) {{\n",
       "        var display = window.getComputedStyle(gd).display;\n",
       "        if (!display || display === 'none') {{\n",
       "            console.log([gd, 'removed!']);\n",
       "            Plotly.purge(gd);\n",
       "            observer.disconnect();\n",
       "        }}\n",
       "}});\n",
       "\n",
       "// Listen for the removal of the full notebook cells\n",
       "var notebookContainer = gd.closest('#notebook-container');\n",
       "if (notebookContainer) {{\n",
       "    x.observe(notebookContainer, {childList: true});\n",
       "}}\n",
       "\n",
       "// Listen for the clearing of the current output cell\n",
       "var outputEl = gd.closest('.output');\n",
       "if (outputEl) {{\n",
       "    x.observe(outputEl, {childList: true});\n",
       "}}\n",
       "\n",
       "                        })                };                });            </script>        </div>"
      ]
     },
     "metadata": {},
     "output_type": "display_data"
    }
   ],
   "source": [
    "scatter = go.Scatter(x = data.groupby('date').mean().index, y = data.groupby('date').mean().averageprice , name = 'actual')\n",
    "scatter2 = go.Scatter(x = data_all.groupby('date').mean().index, y = data_all.groupby('date').mean().averageprice_prediction, name = 'forecast')\n",
    "\n",
    "layout = go.Layout(title = 'XGBoost time series forecast', xaxis ={'title':'Date'}, yaxis = {'title':'Prices'})\n",
    "figure = go.Figure(data = [scatter, scatter2], layout = layout)\n",
    "iplot(figure)"
   ]
  },
  {
   "cell_type": "markdown",
   "metadata": {},
   "source": [
    "### Metrics"
   ]
  },
  {
   "cell_type": "code",
   "execution_count": 25,
   "metadata": {},
   "outputs": [
    {
     "name": "stdout",
     "output_type": "stream",
     "text": [
      "MAE: 0.20786316818920875 MSE: 0.07615221729286288\n"
     ]
    }
   ],
   "source": [
    "mse = mean_squared_error(y_true=data_test['averageprice'], y_pred=data_test['averageprice_prediction'])\n",
    "mae = mean_absolute_error(y_true=data_test['averageprice'], y_pred=data_test['averageprice_prediction'])\n",
    "\n",
    "print(\"MAE:\", mae, \"MSE:\",mse)"
   ]
  },
  {
   "cell_type": "markdown",
   "metadata": {},
   "source": [
    "### Fine tuning the model  "
   ]
  },
  {
   "cell_type": "code",
   "execution_count": 28,
   "metadata": {},
   "outputs": [
    {
     "name": "stdout",
     "output_type": "stream",
     "text": [
      "[0]\tvalidation_0-mae:0.79683\tvalidation_1-mae:0.94564\n",
      "[1]\tvalidation_0-mae:0.72568\tvalidation_1-mae:0.86880\n",
      "[2]\tvalidation_0-mae:0.66096\tvalidation_1-mae:0.79700\n",
      "[3]\tvalidation_0-mae:0.60217\tvalidation_1-mae:0.73336\n",
      "[4]\tvalidation_0-mae:0.54851\tvalidation_1-mae:0.67587\n",
      "[5]\tvalidation_0-mae:0.49989\tvalidation_1-mae:0.62115\n",
      "[6]\tvalidation_0-mae:0.45572\tvalidation_1-mae:0.57210\n",
      "[7]\tvalidation_0-mae:0.41572\tvalidation_1-mae:0.53014\n",
      "[8]\tvalidation_0-mae:0.37946\tvalidation_1-mae:0.49585\n",
      "[9]\tvalidation_0-mae:0.34659\tvalidation_1-mae:0.46118\n",
      "[10]\tvalidation_0-mae:0.31689\tvalidation_1-mae:0.43007\n",
      "[11]\tvalidation_0-mae:0.29048\tvalidation_1-mae:0.40273\n",
      "[12]\tvalidation_0-mae:0.26659\tvalidation_1-mae:0.37891\n",
      "[13]\tvalidation_0-mae:0.24528\tvalidation_1-mae:0.35784\n",
      "[14]\tvalidation_0-mae:0.22612\tvalidation_1-mae:0.33882\n",
      "[15]\tvalidation_0-mae:0.20920\tvalidation_1-mae:0.32195\n",
      "[16]\tvalidation_0-mae:0.19446\tvalidation_1-mae:0.30708\n",
      "[17]\tvalidation_0-mae:0.18118\tvalidation_1-mae:0.29488\n",
      "[18]\tvalidation_0-mae:0.16941\tvalidation_1-mae:0.28399\n",
      "[19]\tvalidation_0-mae:0.15878\tvalidation_1-mae:0.27554\n",
      "[20]\tvalidation_0-mae:0.14986\tvalidation_1-mae:0.26642\n",
      "[21]\tvalidation_0-mae:0.14182\tvalidation_1-mae:0.25952\n",
      "[22]\tvalidation_0-mae:0.13492\tvalidation_1-mae:0.25323\n",
      "[23]\tvalidation_0-mae:0.12857\tvalidation_1-mae:0.24794\n",
      "[24]\tvalidation_0-mae:0.12325\tvalidation_1-mae:0.24446\n",
      "[25]\tvalidation_0-mae:0.11843\tvalidation_1-mae:0.24097\n",
      "[26]\tvalidation_0-mae:0.11420\tvalidation_1-mae:0.23678\n",
      "[27]\tvalidation_0-mae:0.11065\tvalidation_1-mae:0.23347\n",
      "[28]\tvalidation_0-mae:0.10746\tvalidation_1-mae:0.23149\n",
      "[29]\tvalidation_0-mae:0.10468\tvalidation_1-mae:0.22898\n",
      "[30]\tvalidation_0-mae:0.10212\tvalidation_1-mae:0.22739\n",
      "[31]\tvalidation_0-mae:0.09948\tvalidation_1-mae:0.22524\n",
      "[32]\tvalidation_0-mae:0.09756\tvalidation_1-mae:0.22373\n",
      "[33]\tvalidation_0-mae:0.09558\tvalidation_1-mae:0.22223\n",
      "[34]\tvalidation_0-mae:0.09388\tvalidation_1-mae:0.22113\n",
      "[35]\tvalidation_0-mae:0.09237\tvalidation_1-mae:0.22040\n",
      "[36]\tvalidation_0-mae:0.09095\tvalidation_1-mae:0.21987\n",
      "[37]\tvalidation_0-mae:0.08975\tvalidation_1-mae:0.21880\n",
      "[38]\tvalidation_0-mae:0.08826\tvalidation_1-mae:0.21770\n",
      "[39]\tvalidation_0-mae:0.08722\tvalidation_1-mae:0.21696\n",
      "[40]\tvalidation_0-mae:0.08630\tvalidation_1-mae:0.21595\n",
      "[41]\tvalidation_0-mae:0.08542\tvalidation_1-mae:0.21540\n",
      "[42]\tvalidation_0-mae:0.08411\tvalidation_1-mae:0.21483\n",
      "[43]\tvalidation_0-mae:0.08297\tvalidation_1-mae:0.21431\n",
      "[44]\tvalidation_0-mae:0.08234\tvalidation_1-mae:0.21390\n",
      "[45]\tvalidation_0-mae:0.08177\tvalidation_1-mae:0.21350\n",
      "[46]\tvalidation_0-mae:0.08085\tvalidation_1-mae:0.21315\n",
      "[47]\tvalidation_0-mae:0.08039\tvalidation_1-mae:0.21291\n",
      "[48]\tvalidation_0-mae:0.07989\tvalidation_1-mae:0.21274\n",
      "[49]\tvalidation_0-mae:0.07937\tvalidation_1-mae:0.21235\n",
      "[50]\tvalidation_0-mae:0.07885\tvalidation_1-mae:0.21216\n",
      "[51]\tvalidation_0-mae:0.07845\tvalidation_1-mae:0.21218\n",
      "[52]\tvalidation_0-mae:0.07785\tvalidation_1-mae:0.21194\n",
      "[53]\tvalidation_0-mae:0.07724\tvalidation_1-mae:0.21129\n",
      "[54]\tvalidation_0-mae:0.07691\tvalidation_1-mae:0.21102\n",
      "[55]\tvalidation_0-mae:0.07652\tvalidation_1-mae:0.21098\n",
      "[56]\tvalidation_0-mae:0.07601\tvalidation_1-mae:0.21101\n",
      "[57]\tvalidation_0-mae:0.07554\tvalidation_1-mae:0.21086\n",
      "[58]\tvalidation_0-mae:0.07523\tvalidation_1-mae:0.21064\n",
      "[59]\tvalidation_0-mae:0.07472\tvalidation_1-mae:0.21040\n",
      "[60]\tvalidation_0-mae:0.07431\tvalidation_1-mae:0.21044\n",
      "[61]\tvalidation_0-mae:0.07392\tvalidation_1-mae:0.21042\n",
      "[62]\tvalidation_0-mae:0.07359\tvalidation_1-mae:0.21034\n",
      "[63]\tvalidation_0-mae:0.07300\tvalidation_1-mae:0.21035\n",
      "[64]\tvalidation_0-mae:0.07272\tvalidation_1-mae:0.21026\n",
      "[65]\tvalidation_0-mae:0.07216\tvalidation_1-mae:0.21018\n",
      "[66]\tvalidation_0-mae:0.07182\tvalidation_1-mae:0.20996\n",
      "[67]\tvalidation_0-mae:0.07153\tvalidation_1-mae:0.21008\n",
      "[68]\tvalidation_0-mae:0.07112\tvalidation_1-mae:0.20997\n",
      "[69]\tvalidation_0-mae:0.07076\tvalidation_1-mae:0.20958\n",
      "[70]\tvalidation_0-mae:0.07045\tvalidation_1-mae:0.20957\n",
      "[71]\tvalidation_0-mae:0.07011\tvalidation_1-mae:0.20935\n",
      "[72]\tvalidation_0-mae:0.06981\tvalidation_1-mae:0.20943\n",
      "[73]\tvalidation_0-mae:0.06958\tvalidation_1-mae:0.20955\n",
      "[74]\tvalidation_0-mae:0.06925\tvalidation_1-mae:0.20927\n",
      "[75]\tvalidation_0-mae:0.06897\tvalidation_1-mae:0.20915\n",
      "[76]\tvalidation_0-mae:0.06864\tvalidation_1-mae:0.20902\n",
      "[77]\tvalidation_0-mae:0.06833\tvalidation_1-mae:0.20886\n",
      "[78]\tvalidation_0-mae:0.06799\tvalidation_1-mae:0.20865\n",
      "[79]\tvalidation_0-mae:0.06764\tvalidation_1-mae:0.20857\n",
      "[80]\tvalidation_0-mae:0.06716\tvalidation_1-mae:0.20830\n",
      "[81]\tvalidation_0-mae:0.06692\tvalidation_1-mae:0.20831\n",
      "[82]\tvalidation_0-mae:0.06666\tvalidation_1-mae:0.20820\n",
      "[83]\tvalidation_0-mae:0.06632\tvalidation_1-mae:0.20818\n",
      "[84]\tvalidation_0-mae:0.06591\tvalidation_1-mae:0.20803\n",
      "[85]\tvalidation_0-mae:0.06565\tvalidation_1-mae:0.20797\n",
      "[86]\tvalidation_0-mae:0.06527\tvalidation_1-mae:0.20792\n",
      "[87]\tvalidation_0-mae:0.06499\tvalidation_1-mae:0.20780\n",
      "[88]\tvalidation_0-mae:0.06473\tvalidation_1-mae:0.20773\n",
      "[89]\tvalidation_0-mae:0.06429\tvalidation_1-mae:0.20759\n",
      "[90]\tvalidation_0-mae:0.06397\tvalidation_1-mae:0.20756\n",
      "[91]\tvalidation_0-mae:0.06371\tvalidation_1-mae:0.20742\n",
      "[92]\tvalidation_0-mae:0.06336\tvalidation_1-mae:0.20729\n",
      "[93]\tvalidation_0-mae:0.06316\tvalidation_1-mae:0.20724\n",
      "[94]\tvalidation_0-mae:0.06297\tvalidation_1-mae:0.20723\n",
      "[95]\tvalidation_0-mae:0.06265\tvalidation_1-mae:0.20702\n",
      "[96]\tvalidation_0-mae:0.06239\tvalidation_1-mae:0.20700\n",
      "[97]\tvalidation_0-mae:0.06208\tvalidation_1-mae:0.20691\n",
      "[98]\tvalidation_0-mae:0.06188\tvalidation_1-mae:0.20685\n",
      "[99]\tvalidation_0-mae:0.06161\tvalidation_1-mae:0.20673\n",
      "[100]\tvalidation_0-mae:0.06142\tvalidation_1-mae:0.20674\n",
      "[101]\tvalidation_0-mae:0.06126\tvalidation_1-mae:0.20680\n",
      "[102]\tvalidation_0-mae:0.06103\tvalidation_1-mae:0.20678\n",
      "[103]\tvalidation_0-mae:0.06085\tvalidation_1-mae:0.20678\n",
      "[104]\tvalidation_0-mae:0.06067\tvalidation_1-mae:0.20669\n",
      "[105]\tvalidation_0-mae:0.06042\tvalidation_1-mae:0.20664\n",
      "[106]\tvalidation_0-mae:0.06021\tvalidation_1-mae:0.20653\n",
      "[107]\tvalidation_0-mae:0.05992\tvalidation_1-mae:0.20641\n",
      "[108]\tvalidation_0-mae:0.05966\tvalidation_1-mae:0.20627\n",
      "[109]\tvalidation_0-mae:0.05941\tvalidation_1-mae:0.20606\n",
      "[110]\tvalidation_0-mae:0.05924\tvalidation_1-mae:0.20611\n",
      "[111]\tvalidation_0-mae:0.05902\tvalidation_1-mae:0.20605\n",
      "[112]\tvalidation_0-mae:0.05874\tvalidation_1-mae:0.20600\n",
      "[113]\tvalidation_0-mae:0.05842\tvalidation_1-mae:0.20597\n",
      "[114]\tvalidation_0-mae:0.05831\tvalidation_1-mae:0.20600\n",
      "[115]\tvalidation_0-mae:0.05803\tvalidation_1-mae:0.20582\n",
      "[116]\tvalidation_0-mae:0.05782\tvalidation_1-mae:0.20567\n",
      "[117]\tvalidation_0-mae:0.05756\tvalidation_1-mae:0.20563\n",
      "[118]\tvalidation_0-mae:0.05738\tvalidation_1-mae:0.20557\n",
      "[119]\tvalidation_0-mae:0.05713\tvalidation_1-mae:0.20550\n",
      "[120]\tvalidation_0-mae:0.05690\tvalidation_1-mae:0.20558\n",
      "[121]\tvalidation_0-mae:0.05657\tvalidation_1-mae:0.20556\n",
      "[122]\tvalidation_0-mae:0.05644\tvalidation_1-mae:0.20555\n",
      "[123]\tvalidation_0-mae:0.05623\tvalidation_1-mae:0.20566\n",
      "[124]\tvalidation_0-mae:0.05604\tvalidation_1-mae:0.20570\n",
      "[125]\tvalidation_0-mae:0.05584\tvalidation_1-mae:0.20563\n",
      "[126]\tvalidation_0-mae:0.05564\tvalidation_1-mae:0.20556\n",
      "[127]\tvalidation_0-mae:0.05542\tvalidation_1-mae:0.20548\n",
      "[128]\tvalidation_0-mae:0.05531\tvalidation_1-mae:0.20543\n",
      "[129]\tvalidation_0-mae:0.05519\tvalidation_1-mae:0.20543\n",
      "[130]\tvalidation_0-mae:0.05505\tvalidation_1-mae:0.20542\n",
      "[131]\tvalidation_0-mae:0.05486\tvalidation_1-mae:0.20545\n",
      "[132]\tvalidation_0-mae:0.05465\tvalidation_1-mae:0.20546\n",
      "[133]\tvalidation_0-mae:0.05454\tvalidation_1-mae:0.20541\n",
      "[134]\tvalidation_0-mae:0.05437\tvalidation_1-mae:0.20533\n",
      "[135]\tvalidation_0-mae:0.05423\tvalidation_1-mae:0.20536\n",
      "[136]\tvalidation_0-mae:0.05397\tvalidation_1-mae:0.20534\n",
      "[137]\tvalidation_0-mae:0.05376\tvalidation_1-mae:0.20542\n",
      "[138]\tvalidation_0-mae:0.05365\tvalidation_1-mae:0.20543\n",
      "[139]\tvalidation_0-mae:0.05353\tvalidation_1-mae:0.20534\n",
      "[140]\tvalidation_0-mae:0.05337\tvalidation_1-mae:0.20533\n",
      "[141]\tvalidation_0-mae:0.05318\tvalidation_1-mae:0.20514\n",
      "[142]\tvalidation_0-mae:0.05304\tvalidation_1-mae:0.20519\n",
      "[143]\tvalidation_0-mae:0.05281\tvalidation_1-mae:0.20511\n",
      "[144]\tvalidation_0-mae:0.05249\tvalidation_1-mae:0.20526\n",
      "[145]\tvalidation_0-mae:0.05236\tvalidation_1-mae:0.20526\n",
      "[146]\tvalidation_0-mae:0.05212\tvalidation_1-mae:0.20531\n",
      "[147]\tvalidation_0-mae:0.05197\tvalidation_1-mae:0.20523\n",
      "[148]\tvalidation_0-mae:0.05182\tvalidation_1-mae:0.20508\n"
     ]
    },
    {
     "name": "stdout",
     "output_type": "stream",
     "text": [
      "[149]\tvalidation_0-mae:0.05149\tvalidation_1-mae:0.20508\n",
      "[150]\tvalidation_0-mae:0.05130\tvalidation_1-mae:0.20496\n",
      "[151]\tvalidation_0-mae:0.05111\tvalidation_1-mae:0.20491\n",
      "[152]\tvalidation_0-mae:0.05095\tvalidation_1-mae:0.20478\n",
      "[153]\tvalidation_0-mae:0.05080\tvalidation_1-mae:0.20486\n",
      "[154]\tvalidation_0-mae:0.05064\tvalidation_1-mae:0.20481\n",
      "[155]\tvalidation_0-mae:0.05049\tvalidation_1-mae:0.20480\n",
      "[156]\tvalidation_0-mae:0.05040\tvalidation_1-mae:0.20480\n",
      "[157]\tvalidation_0-mae:0.05012\tvalidation_1-mae:0.20492\n",
      "[158]\tvalidation_0-mae:0.04986\tvalidation_1-mae:0.20483\n",
      "[159]\tvalidation_0-mae:0.04972\tvalidation_1-mae:0.20482\n",
      "[160]\tvalidation_0-mae:0.04961\tvalidation_1-mae:0.20480\n",
      "[161]\tvalidation_0-mae:0.04951\tvalidation_1-mae:0.20478\n",
      "[162]\tvalidation_0-mae:0.04921\tvalidation_1-mae:0.20477\n",
      "[163]\tvalidation_0-mae:0.04897\tvalidation_1-mae:0.20474\n",
      "[164]\tvalidation_0-mae:0.04882\tvalidation_1-mae:0.20474\n",
      "[165]\tvalidation_0-mae:0.04868\tvalidation_1-mae:0.20467\n",
      "[166]\tvalidation_0-mae:0.04856\tvalidation_1-mae:0.20467\n",
      "[167]\tvalidation_0-mae:0.04835\tvalidation_1-mae:0.20461\n",
      "[168]\tvalidation_0-mae:0.04817\tvalidation_1-mae:0.20457\n",
      "[169]\tvalidation_0-mae:0.04808\tvalidation_1-mae:0.20456\n",
      "[170]\tvalidation_0-mae:0.04797\tvalidation_1-mae:0.20455\n",
      "[171]\tvalidation_0-mae:0.04781\tvalidation_1-mae:0.20449\n",
      "[172]\tvalidation_0-mae:0.04763\tvalidation_1-mae:0.20443\n",
      "[173]\tvalidation_0-mae:0.04749\tvalidation_1-mae:0.20443\n",
      "[174]\tvalidation_0-mae:0.04730\tvalidation_1-mae:0.20435\n",
      "[175]\tvalidation_0-mae:0.04715\tvalidation_1-mae:0.20428\n",
      "[176]\tvalidation_0-mae:0.04698\tvalidation_1-mae:0.20427\n",
      "[177]\tvalidation_0-mae:0.04687\tvalidation_1-mae:0.20426\n",
      "[178]\tvalidation_0-mae:0.04668\tvalidation_1-mae:0.20411\n",
      "[179]\tvalidation_0-mae:0.04651\tvalidation_1-mae:0.20405\n",
      "[180]\tvalidation_0-mae:0.04641\tvalidation_1-mae:0.20401\n",
      "[181]\tvalidation_0-mae:0.04626\tvalidation_1-mae:0.20405\n",
      "[182]\tvalidation_0-mae:0.04618\tvalidation_1-mae:0.20406\n",
      "[183]\tvalidation_0-mae:0.04603\tvalidation_1-mae:0.20414\n",
      "[184]\tvalidation_0-mae:0.04586\tvalidation_1-mae:0.20411\n",
      "[185]\tvalidation_0-mae:0.04578\tvalidation_1-mae:0.20412\n",
      "[186]\tvalidation_0-mae:0.04565\tvalidation_1-mae:0.20418\n",
      "[187]\tvalidation_0-mae:0.04556\tvalidation_1-mae:0.20419\n",
      "[188]\tvalidation_0-mae:0.04545\tvalidation_1-mae:0.20420\n",
      "[189]\tvalidation_0-mae:0.04529\tvalidation_1-mae:0.20420\n",
      "[190]\tvalidation_0-mae:0.04519\tvalidation_1-mae:0.20407\n",
      "[191]\tvalidation_0-mae:0.04512\tvalidation_1-mae:0.20406\n",
      "[192]\tvalidation_0-mae:0.04498\tvalidation_1-mae:0.20412\n",
      "[193]\tvalidation_0-mae:0.04487\tvalidation_1-mae:0.20410\n",
      "[194]\tvalidation_0-mae:0.04466\tvalidation_1-mae:0.20413\n",
      "[195]\tvalidation_0-mae:0.04455\tvalidation_1-mae:0.20415\n",
      "[196]\tvalidation_0-mae:0.04442\tvalidation_1-mae:0.20415\n",
      "[197]\tvalidation_0-mae:0.04424\tvalidation_1-mae:0.20418\n",
      "[198]\tvalidation_0-mae:0.04410\tvalidation_1-mae:0.20414\n",
      "[199]\tvalidation_0-mae:0.04396\tvalidation_1-mae:0.20411\n",
      "[200]\tvalidation_0-mae:0.04381\tvalidation_1-mae:0.20403\n",
      "[201]\tvalidation_0-mae:0.04372\tvalidation_1-mae:0.20405\n",
      "[202]\tvalidation_0-mae:0.04364\tvalidation_1-mae:0.20406\n",
      "[203]\tvalidation_0-mae:0.04355\tvalidation_1-mae:0.20405\n",
      "[204]\tvalidation_0-mae:0.04340\tvalidation_1-mae:0.20394\n",
      "[205]\tvalidation_0-mae:0.04322\tvalidation_1-mae:0.20397\n",
      "[206]\tvalidation_0-mae:0.04310\tvalidation_1-mae:0.20398\n",
      "[207]\tvalidation_0-mae:0.04298\tvalidation_1-mae:0.20393\n",
      "[208]\tvalidation_0-mae:0.04289\tvalidation_1-mae:0.20396\n",
      "[209]\tvalidation_0-mae:0.04270\tvalidation_1-mae:0.20392\n",
      "[210]\tvalidation_0-mae:0.04262\tvalidation_1-mae:0.20392\n",
      "[211]\tvalidation_0-mae:0.04249\tvalidation_1-mae:0.20395\n",
      "[212]\tvalidation_0-mae:0.04236\tvalidation_1-mae:0.20387\n",
      "[213]\tvalidation_0-mae:0.04215\tvalidation_1-mae:0.20370\n",
      "[214]\tvalidation_0-mae:0.04209\tvalidation_1-mae:0.20371\n",
      "[215]\tvalidation_0-mae:0.04191\tvalidation_1-mae:0.20356\n",
      "[216]\tvalidation_0-mae:0.04183\tvalidation_1-mae:0.20353\n",
      "[217]\tvalidation_0-mae:0.04176\tvalidation_1-mae:0.20351\n",
      "[218]\tvalidation_0-mae:0.04169\tvalidation_1-mae:0.20352\n",
      "[219]\tvalidation_0-mae:0.04156\tvalidation_1-mae:0.20349\n",
      "[220]\tvalidation_0-mae:0.04150\tvalidation_1-mae:0.20350\n",
      "[221]\tvalidation_0-mae:0.04134\tvalidation_1-mae:0.20345\n",
      "[222]\tvalidation_0-mae:0.04126\tvalidation_1-mae:0.20340\n",
      "[223]\tvalidation_0-mae:0.04118\tvalidation_1-mae:0.20338\n",
      "[224]\tvalidation_0-mae:0.04109\tvalidation_1-mae:0.20333\n",
      "[225]\tvalidation_0-mae:0.04101\tvalidation_1-mae:0.20336\n",
      "[226]\tvalidation_0-mae:0.04092\tvalidation_1-mae:0.20335\n",
      "[227]\tvalidation_0-mae:0.04080\tvalidation_1-mae:0.20331\n",
      "[228]\tvalidation_0-mae:0.04069\tvalidation_1-mae:0.20335\n",
      "[229]\tvalidation_0-mae:0.04058\tvalidation_1-mae:0.20331\n",
      "[230]\tvalidation_0-mae:0.04049\tvalidation_1-mae:0.20332\n",
      "[231]\tvalidation_0-mae:0.04037\tvalidation_1-mae:0.20330\n",
      "[232]\tvalidation_0-mae:0.04022\tvalidation_1-mae:0.20328\n",
      "[233]\tvalidation_0-mae:0.04013\tvalidation_1-mae:0.20325\n",
      "[234]\tvalidation_0-mae:0.04004\tvalidation_1-mae:0.20324\n",
      "[235]\tvalidation_0-mae:0.03997\tvalidation_1-mae:0.20329\n",
      "[236]\tvalidation_0-mae:0.03987\tvalidation_1-mae:0.20332\n",
      "[237]\tvalidation_0-mae:0.03973\tvalidation_1-mae:0.20329\n",
      "[238]\tvalidation_0-mae:0.03962\tvalidation_1-mae:0.20330\n",
      "[239]\tvalidation_0-mae:0.03948\tvalidation_1-mae:0.20327\n",
      "[240]\tvalidation_0-mae:0.03941\tvalidation_1-mae:0.20327\n",
      "[241]\tvalidation_0-mae:0.03934\tvalidation_1-mae:0.20324\n",
      "[242]\tvalidation_0-mae:0.03928\tvalidation_1-mae:0.20324\n",
      "[243]\tvalidation_0-mae:0.03910\tvalidation_1-mae:0.20319\n",
      "[244]\tvalidation_0-mae:0.03898\tvalidation_1-mae:0.20325\n",
      "[245]\tvalidation_0-mae:0.03888\tvalidation_1-mae:0.20327\n",
      "[246]\tvalidation_0-mae:0.03882\tvalidation_1-mae:0.20322\n",
      "[247]\tvalidation_0-mae:0.03876\tvalidation_1-mae:0.20325\n",
      "[248]\tvalidation_0-mae:0.03863\tvalidation_1-mae:0.20325\n",
      "[249]\tvalidation_0-mae:0.03851\tvalidation_1-mae:0.20323\n",
      "[250]\tvalidation_0-mae:0.03839\tvalidation_1-mae:0.20323\n",
      "[251]\tvalidation_0-mae:0.03831\tvalidation_1-mae:0.20322\n",
      "[252]\tvalidation_0-mae:0.03825\tvalidation_1-mae:0.20322\n",
      "[253]\tvalidation_0-mae:0.03818\tvalidation_1-mae:0.20323\n",
      "[254]\tvalidation_0-mae:0.03806\tvalidation_1-mae:0.20323\n",
      "[255]\tvalidation_0-mae:0.03798\tvalidation_1-mae:0.20323\n",
      "[256]\tvalidation_0-mae:0.03789\tvalidation_1-mae:0.20324\n",
      "[257]\tvalidation_0-mae:0.03784\tvalidation_1-mae:0.20325\n",
      "[258]\tvalidation_0-mae:0.03774\tvalidation_1-mae:0.20330\n",
      "[259]\tvalidation_0-mae:0.03760\tvalidation_1-mae:0.20333\n",
      "[260]\tvalidation_0-mae:0.03748\tvalidation_1-mae:0.20327\n",
      "[261]\tvalidation_0-mae:0.03738\tvalidation_1-mae:0.20330\n",
      "[262]\tvalidation_0-mae:0.03731\tvalidation_1-mae:0.20331\n",
      "[263]\tvalidation_0-mae:0.03719\tvalidation_1-mae:0.20329\n",
      "[264]\tvalidation_0-mae:0.03711\tvalidation_1-mae:0.20328\n",
      "[265]\tvalidation_0-mae:0.03693\tvalidation_1-mae:0.20331\n",
      "[266]\tvalidation_0-mae:0.03680\tvalidation_1-mae:0.20330\n",
      "[267]\tvalidation_0-mae:0.03673\tvalidation_1-mae:0.20332\n",
      "[268]\tvalidation_0-mae:0.03662\tvalidation_1-mae:0.20335\n",
      "[269]\tvalidation_0-mae:0.03653\tvalidation_1-mae:0.20330\n",
      "[270]\tvalidation_0-mae:0.03647\tvalidation_1-mae:0.20330\n",
      "[271]\tvalidation_0-mae:0.03633\tvalidation_1-mae:0.20331\n",
      "[272]\tvalidation_0-mae:0.03627\tvalidation_1-mae:0.20330\n",
      "[273]\tvalidation_0-mae:0.03619\tvalidation_1-mae:0.20327\n",
      "[274]\tvalidation_0-mae:0.03608\tvalidation_1-mae:0.20330\n",
      "[275]\tvalidation_0-mae:0.03596\tvalidation_1-mae:0.20320\n",
      "[276]\tvalidation_0-mae:0.03588\tvalidation_1-mae:0.20317\n",
      "[277]\tvalidation_0-mae:0.03582\tvalidation_1-mae:0.20319\n",
      "[278]\tvalidation_0-mae:0.03576\tvalidation_1-mae:0.20316\n",
      "[279]\tvalidation_0-mae:0.03571\tvalidation_1-mae:0.20317\n",
      "[280]\tvalidation_0-mae:0.03559\tvalidation_1-mae:0.20327\n",
      "[281]\tvalidation_0-mae:0.03546\tvalidation_1-mae:0.20325\n",
      "[282]\tvalidation_0-mae:0.03536\tvalidation_1-mae:0.20326\n",
      "[283]\tvalidation_0-mae:0.03531\tvalidation_1-mae:0.20326\n",
      "[284]\tvalidation_0-mae:0.03526\tvalidation_1-mae:0.20326\n",
      "[285]\tvalidation_0-mae:0.03517\tvalidation_1-mae:0.20320\n",
      "[286]\tvalidation_0-mae:0.03509\tvalidation_1-mae:0.20322\n",
      "[287]\tvalidation_0-mae:0.03501\tvalidation_1-mae:0.20326\n",
      "[288]\tvalidation_0-mae:0.03494\tvalidation_1-mae:0.20324\n",
      "[289]\tvalidation_0-mae:0.03487\tvalidation_1-mae:0.20322\n",
      "[290]\tvalidation_0-mae:0.03478\tvalidation_1-mae:0.20328\n",
      "[291]\tvalidation_0-mae:0.03469\tvalidation_1-mae:0.20333\n",
      "[292]\tvalidation_0-mae:0.03456\tvalidation_1-mae:0.20327\n",
      "[293]\tvalidation_0-mae:0.03444\tvalidation_1-mae:0.20327\n",
      "[294]\tvalidation_0-mae:0.03439\tvalidation_1-mae:0.20323\n",
      "[295]\tvalidation_0-mae:0.03433\tvalidation_1-mae:0.20324\n"
     ]
    },
    {
     "name": "stdout",
     "output_type": "stream",
     "text": [
      "[296]\tvalidation_0-mae:0.03422\tvalidation_1-mae:0.20324\n",
      "[297]\tvalidation_0-mae:0.03417\tvalidation_1-mae:0.20326\n",
      "[298]\tvalidation_0-mae:0.03409\tvalidation_1-mae:0.20325\n",
      "[299]\tvalidation_0-mae:0.03404\tvalidation_1-mae:0.20326\n",
      "[300]\tvalidation_0-mae:0.03395\tvalidation_1-mae:0.20327\n",
      "[301]\tvalidation_0-mae:0.03380\tvalidation_1-mae:0.20326\n",
      "[302]\tvalidation_0-mae:0.03373\tvalidation_1-mae:0.20330\n",
      "[303]\tvalidation_0-mae:0.03369\tvalidation_1-mae:0.20331\n",
      "[304]\tvalidation_0-mae:0.03361\tvalidation_1-mae:0.20331\n",
      "[305]\tvalidation_0-mae:0.03352\tvalidation_1-mae:0.20328\n",
      "[306]\tvalidation_0-mae:0.03341\tvalidation_1-mae:0.20331\n",
      "[307]\tvalidation_0-mae:0.03333\tvalidation_1-mae:0.20334\n",
      "[308]\tvalidation_0-mae:0.03325\tvalidation_1-mae:0.20338\n",
      "[309]\tvalidation_0-mae:0.03318\tvalidation_1-mae:0.20340\n",
      "[310]\tvalidation_0-mae:0.03312\tvalidation_1-mae:0.20339\n",
      "[311]\tvalidation_0-mae:0.03306\tvalidation_1-mae:0.20339\n",
      "[312]\tvalidation_0-mae:0.03300\tvalidation_1-mae:0.20342\n",
      "[313]\tvalidation_0-mae:0.03298\tvalidation_1-mae:0.20342\n",
      "[314]\tvalidation_0-mae:0.03288\tvalidation_1-mae:0.20344\n",
      "[315]\tvalidation_0-mae:0.03281\tvalidation_1-mae:0.20345\n",
      "[316]\tvalidation_0-mae:0.03275\tvalidation_1-mae:0.20345\n",
      "[317]\tvalidation_0-mae:0.03270\tvalidation_1-mae:0.20344\n",
      "[318]\tvalidation_0-mae:0.03263\tvalidation_1-mae:0.20343\n",
      "[319]\tvalidation_0-mae:0.03254\tvalidation_1-mae:0.20346\n",
      "[320]\tvalidation_0-mae:0.03242\tvalidation_1-mae:0.20350\n",
      "[321]\tvalidation_0-mae:0.03231\tvalidation_1-mae:0.20351\n",
      "[322]\tvalidation_0-mae:0.03218\tvalidation_1-mae:0.20348\n",
      "[323]\tvalidation_0-mae:0.03211\tvalidation_1-mae:0.20347\n",
      "[324]\tvalidation_0-mae:0.03206\tvalidation_1-mae:0.20347\n",
      "[325]\tvalidation_0-mae:0.03198\tvalidation_1-mae:0.20341\n",
      "[326]\tvalidation_0-mae:0.03193\tvalidation_1-mae:0.20341\n",
      "[327]\tvalidation_0-mae:0.03183\tvalidation_1-mae:0.20342\n",
      "[328]\tvalidation_0-mae:0.03179\tvalidation_1-mae:0.20339\n",
      "[329]\tvalidation_0-mae:0.03169\tvalidation_1-mae:0.20345\n",
      "[330]\tvalidation_0-mae:0.03162\tvalidation_1-mae:0.20346\n",
      "[331]\tvalidation_0-mae:0.03157\tvalidation_1-mae:0.20347\n",
      "[332]\tvalidation_0-mae:0.03152\tvalidation_1-mae:0.20347\n",
      "[333]\tvalidation_0-mae:0.03150\tvalidation_1-mae:0.20347\n",
      "[334]\tvalidation_0-mae:0.03140\tvalidation_1-mae:0.20346\n",
      "[335]\tvalidation_0-mae:0.03132\tvalidation_1-mae:0.20346\n",
      "[336]\tvalidation_0-mae:0.03129\tvalidation_1-mae:0.20345\n",
      "[337]\tvalidation_0-mae:0.03114\tvalidation_1-mae:0.20344\n",
      "[338]\tvalidation_0-mae:0.03108\tvalidation_1-mae:0.20345\n",
      "[339]\tvalidation_0-mae:0.03103\tvalidation_1-mae:0.20346\n",
      "[340]\tvalidation_0-mae:0.03097\tvalidation_1-mae:0.20346\n",
      "[341]\tvalidation_0-mae:0.03093\tvalidation_1-mae:0.20347\n",
      "[342]\tvalidation_0-mae:0.03087\tvalidation_1-mae:0.20347\n",
      "[343]\tvalidation_0-mae:0.03081\tvalidation_1-mae:0.20349\n",
      "[344]\tvalidation_0-mae:0.03078\tvalidation_1-mae:0.20347\n",
      "[345]\tvalidation_0-mae:0.03065\tvalidation_1-mae:0.20345\n",
      "[346]\tvalidation_0-mae:0.03061\tvalidation_1-mae:0.20348\n",
      "[347]\tvalidation_0-mae:0.03054\tvalidation_1-mae:0.20352\n",
      "[348]\tvalidation_0-mae:0.03044\tvalidation_1-mae:0.20350\n",
      "[349]\tvalidation_0-mae:0.03040\tvalidation_1-mae:0.20349\n",
      "[350]\tvalidation_0-mae:0.03035\tvalidation_1-mae:0.20349\n",
      "[351]\tvalidation_0-mae:0.03026\tvalidation_1-mae:0.20354\n",
      "[352]\tvalidation_0-mae:0.03020\tvalidation_1-mae:0.20355\n",
      "[353]\tvalidation_0-mae:0.03012\tvalidation_1-mae:0.20355\n",
      "[354]\tvalidation_0-mae:0.02996\tvalidation_1-mae:0.20358\n",
      "[355]\tvalidation_0-mae:0.02990\tvalidation_1-mae:0.20359\n",
      "[356]\tvalidation_0-mae:0.02986\tvalidation_1-mae:0.20358\n",
      "[357]\tvalidation_0-mae:0.02975\tvalidation_1-mae:0.20363\n",
      "[358]\tvalidation_0-mae:0.02969\tvalidation_1-mae:0.20362\n",
      "[359]\tvalidation_0-mae:0.02963\tvalidation_1-mae:0.20362\n",
      "[360]\tvalidation_0-mae:0.02953\tvalidation_1-mae:0.20362\n",
      "[361]\tvalidation_0-mae:0.02949\tvalidation_1-mae:0.20362\n",
      "[362]\tvalidation_0-mae:0.02943\tvalidation_1-mae:0.20365\n",
      "[363]\tvalidation_0-mae:0.02939\tvalidation_1-mae:0.20364\n",
      "[364]\tvalidation_0-mae:0.02935\tvalidation_1-mae:0.20365\n",
      "[365]\tvalidation_0-mae:0.02921\tvalidation_1-mae:0.20366\n",
      "[366]\tvalidation_0-mae:0.02915\tvalidation_1-mae:0.20367\n",
      "[367]\tvalidation_0-mae:0.02910\tvalidation_1-mae:0.20367\n",
      "[368]\tvalidation_0-mae:0.02903\tvalidation_1-mae:0.20363\n",
      "[369]\tvalidation_0-mae:0.02894\tvalidation_1-mae:0.20365\n",
      "[370]\tvalidation_0-mae:0.02889\tvalidation_1-mae:0.20365\n",
      "[371]\tvalidation_0-mae:0.02885\tvalidation_1-mae:0.20364\n",
      "[372]\tvalidation_0-mae:0.02878\tvalidation_1-mae:0.20367\n",
      "[373]\tvalidation_0-mae:0.02874\tvalidation_1-mae:0.20365\n",
      "[374]\tvalidation_0-mae:0.02870\tvalidation_1-mae:0.20365\n",
      "[375]\tvalidation_0-mae:0.02861\tvalidation_1-mae:0.20369\n",
      "[376]\tvalidation_0-mae:0.02852\tvalidation_1-mae:0.20368\n",
      "[377]\tvalidation_0-mae:0.02846\tvalidation_1-mae:0.20370\n",
      "[378]\tvalidation_0-mae:0.02837\tvalidation_1-mae:0.20376\n",
      "[379]\tvalidation_0-mae:0.02833\tvalidation_1-mae:0.20377\n",
      "[380]\tvalidation_0-mae:0.02827\tvalidation_1-mae:0.20377\n",
      "[381]\tvalidation_0-mae:0.02819\tvalidation_1-mae:0.20378\n",
      "[382]\tvalidation_0-mae:0.02814\tvalidation_1-mae:0.20377\n",
      "[383]\tvalidation_0-mae:0.02808\tvalidation_1-mae:0.20381\n",
      "[384]\tvalidation_0-mae:0.02804\tvalidation_1-mae:0.20380\n",
      "[385]\tvalidation_0-mae:0.02798\tvalidation_1-mae:0.20379\n",
      "[386]\tvalidation_0-mae:0.02794\tvalidation_1-mae:0.20380\n",
      "[387]\tvalidation_0-mae:0.02788\tvalidation_1-mae:0.20386\n",
      "[388]\tvalidation_0-mae:0.02786\tvalidation_1-mae:0.20385\n",
      "[389]\tvalidation_0-mae:0.02780\tvalidation_1-mae:0.20385\n",
      "[390]\tvalidation_0-mae:0.02774\tvalidation_1-mae:0.20387\n",
      "[391]\tvalidation_0-mae:0.02769\tvalidation_1-mae:0.20388\n",
      "[392]\tvalidation_0-mae:0.02764\tvalidation_1-mae:0.20389\n",
      "[393]\tvalidation_0-mae:0.02762\tvalidation_1-mae:0.20389\n",
      "[394]\tvalidation_0-mae:0.02757\tvalidation_1-mae:0.20388\n",
      "[395]\tvalidation_0-mae:0.02752\tvalidation_1-mae:0.20390\n",
      "[396]\tvalidation_0-mae:0.02744\tvalidation_1-mae:0.20394\n",
      "[397]\tvalidation_0-mae:0.02738\tvalidation_1-mae:0.20392\n",
      "[398]\tvalidation_0-mae:0.02732\tvalidation_1-mae:0.20390\n",
      "[399]\tvalidation_0-mae:0.02724\tvalidation_1-mae:0.20383\n",
      "[400]\tvalidation_0-mae:0.02718\tvalidation_1-mae:0.20383\n",
      "[401]\tvalidation_0-mae:0.02713\tvalidation_1-mae:0.20383\n",
      "[402]\tvalidation_0-mae:0.02706\tvalidation_1-mae:0.20385\n",
      "[403]\tvalidation_0-mae:0.02701\tvalidation_1-mae:0.20387\n",
      "[404]\tvalidation_0-mae:0.02696\tvalidation_1-mae:0.20390\n",
      "[405]\tvalidation_0-mae:0.02686\tvalidation_1-mae:0.20379\n",
      "[406]\tvalidation_0-mae:0.02683\tvalidation_1-mae:0.20378\n",
      "[407]\tvalidation_0-mae:0.02676\tvalidation_1-mae:0.20376\n",
      "[408]\tvalidation_0-mae:0.02669\tvalidation_1-mae:0.20375\n",
      "[409]\tvalidation_0-mae:0.02662\tvalidation_1-mae:0.20374\n",
      "[410]\tvalidation_0-mae:0.02656\tvalidation_1-mae:0.20375\n",
      "[411]\tvalidation_0-mae:0.02651\tvalidation_1-mae:0.20375\n",
      "[412]\tvalidation_0-mae:0.02646\tvalidation_1-mae:0.20377\n",
      "[413]\tvalidation_0-mae:0.02640\tvalidation_1-mae:0.20381\n",
      "[414]\tvalidation_0-mae:0.02635\tvalidation_1-mae:0.20379\n",
      "[415]\tvalidation_0-mae:0.02629\tvalidation_1-mae:0.20380\n",
      "[416]\tvalidation_0-mae:0.02625\tvalidation_1-mae:0.20388\n",
      "[417]\tvalidation_0-mae:0.02616\tvalidation_1-mae:0.20375\n",
      "[418]\tvalidation_0-mae:0.02610\tvalidation_1-mae:0.20373\n",
      "[419]\tvalidation_0-mae:0.02605\tvalidation_1-mae:0.20370\n",
      "[420]\tvalidation_0-mae:0.02598\tvalidation_1-mae:0.20373\n",
      "[421]\tvalidation_0-mae:0.02593\tvalidation_1-mae:0.20377\n",
      "[422]\tvalidation_0-mae:0.02588\tvalidation_1-mae:0.20382\n",
      "[423]\tvalidation_0-mae:0.02584\tvalidation_1-mae:0.20380\n",
      "[424]\tvalidation_0-mae:0.02581\tvalidation_1-mae:0.20380\n",
      "[425]\tvalidation_0-mae:0.02575\tvalidation_1-mae:0.20381\n",
      "[426]\tvalidation_0-mae:0.02572\tvalidation_1-mae:0.20382\n",
      "[427]\tvalidation_0-mae:0.02565\tvalidation_1-mae:0.20372\n",
      "[428]\tvalidation_0-mae:0.02562\tvalidation_1-mae:0.20372\n",
      "[429]\tvalidation_0-mae:0.02558\tvalidation_1-mae:0.20372\n",
      "[430]\tvalidation_0-mae:0.02553\tvalidation_1-mae:0.20371\n",
      "[431]\tvalidation_0-mae:0.02548\tvalidation_1-mae:0.20372\n",
      "[432]\tvalidation_0-mae:0.02544\tvalidation_1-mae:0.20371\n",
      "[433]\tvalidation_0-mae:0.02539\tvalidation_1-mae:0.20368\n",
      "[434]\tvalidation_0-mae:0.02535\tvalidation_1-mae:0.20370\n",
      "[435]\tvalidation_0-mae:0.02528\tvalidation_1-mae:0.20371\n",
      "[436]\tvalidation_0-mae:0.02522\tvalidation_1-mae:0.20377\n",
      "[437]\tvalidation_0-mae:0.02516\tvalidation_1-mae:0.20377\n",
      "[438]\tvalidation_0-mae:0.02510\tvalidation_1-mae:0.20378\n",
      "[439]\tvalidation_0-mae:0.02506\tvalidation_1-mae:0.20380\n",
      "[440]\tvalidation_0-mae:0.02503\tvalidation_1-mae:0.20380\n",
      "[441]\tvalidation_0-mae:0.02497\tvalidation_1-mae:0.20379\n",
      "[442]\tvalidation_0-mae:0.02494\tvalidation_1-mae:0.20379\n"
     ]
    },
    {
     "name": "stdout",
     "output_type": "stream",
     "text": [
      "[443]\tvalidation_0-mae:0.02490\tvalidation_1-mae:0.20378\n",
      "[444]\tvalidation_0-mae:0.02487\tvalidation_1-mae:0.20375\n",
      "[445]\tvalidation_0-mae:0.02483\tvalidation_1-mae:0.20377\n",
      "[446]\tvalidation_0-mae:0.02481\tvalidation_1-mae:0.20377\n",
      "[447]\tvalidation_0-mae:0.02477\tvalidation_1-mae:0.20378\n",
      "[448]\tvalidation_0-mae:0.02475\tvalidation_1-mae:0.20377\n",
      "[449]\tvalidation_0-mae:0.02471\tvalidation_1-mae:0.20380\n",
      "[450]\tvalidation_0-mae:0.02467\tvalidation_1-mae:0.20379\n",
      "[451]\tvalidation_0-mae:0.02461\tvalidation_1-mae:0.20383\n",
      "[452]\tvalidation_0-mae:0.02459\tvalidation_1-mae:0.20382\n",
      "[453]\tvalidation_0-mae:0.02454\tvalidation_1-mae:0.20381\n",
      "[454]\tvalidation_0-mae:0.02451\tvalidation_1-mae:0.20381\n",
      "[455]\tvalidation_0-mae:0.02450\tvalidation_1-mae:0.20381\n",
      "[456]\tvalidation_0-mae:0.02444\tvalidation_1-mae:0.20379\n",
      "[457]\tvalidation_0-mae:0.02442\tvalidation_1-mae:0.20379\n",
      "[458]\tvalidation_0-mae:0.02440\tvalidation_1-mae:0.20378\n",
      "[459]\tvalidation_0-mae:0.02436\tvalidation_1-mae:0.20378\n",
      "[460]\tvalidation_0-mae:0.02433\tvalidation_1-mae:0.20378\n",
      "[461]\tvalidation_0-mae:0.02427\tvalidation_1-mae:0.20378\n",
      "[462]\tvalidation_0-mae:0.02422\tvalidation_1-mae:0.20377\n",
      "[463]\tvalidation_0-mae:0.02419\tvalidation_1-mae:0.20377\n",
      "[464]\tvalidation_0-mae:0.02416\tvalidation_1-mae:0.20377\n",
      "[465]\tvalidation_0-mae:0.02414\tvalidation_1-mae:0.20375\n",
      "[466]\tvalidation_0-mae:0.02411\tvalidation_1-mae:0.20374\n",
      "[467]\tvalidation_0-mae:0.02407\tvalidation_1-mae:0.20375\n",
      "[468]\tvalidation_0-mae:0.02400\tvalidation_1-mae:0.20376\n",
      "[469]\tvalidation_0-mae:0.02390\tvalidation_1-mae:0.20380\n",
      "[470]\tvalidation_0-mae:0.02384\tvalidation_1-mae:0.20382\n",
      "[471]\tvalidation_0-mae:0.02380\tvalidation_1-mae:0.20382\n",
      "[472]\tvalidation_0-mae:0.02371\tvalidation_1-mae:0.20383\n",
      "[473]\tvalidation_0-mae:0.02366\tvalidation_1-mae:0.20386\n",
      "[474]\tvalidation_0-mae:0.02362\tvalidation_1-mae:0.20386\n",
      "[475]\tvalidation_0-mae:0.02354\tvalidation_1-mae:0.20387\n",
      "[476]\tvalidation_0-mae:0.02348\tvalidation_1-mae:0.20387\n",
      "[477]\tvalidation_0-mae:0.02347\tvalidation_1-mae:0.20388\n",
      "[478]\tvalidation_0-mae:0.02345\tvalidation_1-mae:0.20387\n",
      "[479]\tvalidation_0-mae:0.02338\tvalidation_1-mae:0.20386\n",
      "[480]\tvalidation_0-mae:0.02328\tvalidation_1-mae:0.20384\n",
      "[481]\tvalidation_0-mae:0.02324\tvalidation_1-mae:0.20386\n",
      "[482]\tvalidation_0-mae:0.02320\tvalidation_1-mae:0.20388\n",
      "[483]\tvalidation_0-mae:0.02315\tvalidation_1-mae:0.20388\n",
      "[484]\tvalidation_0-mae:0.02314\tvalidation_1-mae:0.20387\n",
      "[485]\tvalidation_0-mae:0.02310\tvalidation_1-mae:0.20386\n",
      "[486]\tvalidation_0-mae:0.02309\tvalidation_1-mae:0.20386\n",
      "[487]\tvalidation_0-mae:0.02307\tvalidation_1-mae:0.20386\n",
      "[488]\tvalidation_0-mae:0.02303\tvalidation_1-mae:0.20388\n",
      "[489]\tvalidation_0-mae:0.02297\tvalidation_1-mae:0.20387\n",
      "[490]\tvalidation_0-mae:0.02295\tvalidation_1-mae:0.20386\n",
      "[491]\tvalidation_0-mae:0.02293\tvalidation_1-mae:0.20388\n",
      "[492]\tvalidation_0-mae:0.02285\tvalidation_1-mae:0.20386\n",
      "[493]\tvalidation_0-mae:0.02280\tvalidation_1-mae:0.20384\n",
      "[494]\tvalidation_0-mae:0.02275\tvalidation_1-mae:0.20385\n",
      "[495]\tvalidation_0-mae:0.02273\tvalidation_1-mae:0.20386\n",
      "[496]\tvalidation_0-mae:0.02266\tvalidation_1-mae:0.20387\n",
      "[497]\tvalidation_0-mae:0.02261\tvalidation_1-mae:0.20386\n",
      "[498]\tvalidation_0-mae:0.02260\tvalidation_1-mae:0.20386\n",
      "[499]\tvalidation_0-mae:0.02254\tvalidation_1-mae:0.20387\n",
      "[500]\tvalidation_0-mae:0.02250\tvalidation_1-mae:0.20387\n",
      "[501]\tvalidation_0-mae:0.02245\tvalidation_1-mae:0.20387\n",
      "[502]\tvalidation_0-mae:0.02241\tvalidation_1-mae:0.20387\n",
      "[503]\tvalidation_0-mae:0.02234\tvalidation_1-mae:0.20381\n",
      "[504]\tvalidation_0-mae:0.02230\tvalidation_1-mae:0.20381\n",
      "[505]\tvalidation_0-mae:0.02227\tvalidation_1-mae:0.20382\n",
      "[506]\tvalidation_0-mae:0.02223\tvalidation_1-mae:0.20384\n",
      "[507]\tvalidation_0-mae:0.02218\tvalidation_1-mae:0.20387\n",
      "[508]\tvalidation_0-mae:0.02214\tvalidation_1-mae:0.20388\n",
      "[509]\tvalidation_0-mae:0.02210\tvalidation_1-mae:0.20389\n",
      "[510]\tvalidation_0-mae:0.02206\tvalidation_1-mae:0.20391\n",
      "[511]\tvalidation_0-mae:0.02203\tvalidation_1-mae:0.20392\n",
      "[512]\tvalidation_0-mae:0.02197\tvalidation_1-mae:0.20394\n",
      "[513]\tvalidation_0-mae:0.02193\tvalidation_1-mae:0.20394\n",
      "[514]\tvalidation_0-mae:0.02191\tvalidation_1-mae:0.20394\n",
      "[515]\tvalidation_0-mae:0.02188\tvalidation_1-mae:0.20395\n",
      "[516]\tvalidation_0-mae:0.02187\tvalidation_1-mae:0.20395\n",
      "[517]\tvalidation_0-mae:0.02182\tvalidation_1-mae:0.20401\n",
      "[518]\tvalidation_0-mae:0.02177\tvalidation_1-mae:0.20399\n",
      "[519]\tvalidation_0-mae:0.02171\tvalidation_1-mae:0.20401\n",
      "[520]\tvalidation_0-mae:0.02167\tvalidation_1-mae:0.20400\n",
      "[521]\tvalidation_0-mae:0.02164\tvalidation_1-mae:0.20401\n",
      "[522]\tvalidation_0-mae:0.02157\tvalidation_1-mae:0.20401\n",
      "[523]\tvalidation_0-mae:0.02151\tvalidation_1-mae:0.20401\n",
      "[524]\tvalidation_0-mae:0.02146\tvalidation_1-mae:0.20404\n",
      "[525]\tvalidation_0-mae:0.02143\tvalidation_1-mae:0.20405\n",
      "[526]\tvalidation_0-mae:0.02140\tvalidation_1-mae:0.20405\n",
      "[527]\tvalidation_0-mae:0.02137\tvalidation_1-mae:0.20405\n",
      "[528]\tvalidation_0-mae:0.02134\tvalidation_1-mae:0.20404\n",
      "[529]\tvalidation_0-mae:0.02127\tvalidation_1-mae:0.20403\n",
      "[530]\tvalidation_0-mae:0.02124\tvalidation_1-mae:0.20403\n",
      "[531]\tvalidation_0-mae:0.02121\tvalidation_1-mae:0.20403\n",
      "[532]\tvalidation_0-mae:0.02117\tvalidation_1-mae:0.20403\n",
      "[533]\tvalidation_0-mae:0.02115\tvalidation_1-mae:0.20404\n",
      "[534]\tvalidation_0-mae:0.02107\tvalidation_1-mae:0.20405\n",
      "[535]\tvalidation_0-mae:0.02104\tvalidation_1-mae:0.20405\n",
      "[536]\tvalidation_0-mae:0.02101\tvalidation_1-mae:0.20404\n",
      "[537]\tvalidation_0-mae:0.02097\tvalidation_1-mae:0.20405\n",
      "[538]\tvalidation_0-mae:0.02094\tvalidation_1-mae:0.20406\n",
      "[539]\tvalidation_0-mae:0.02092\tvalidation_1-mae:0.20406\n",
      "[540]\tvalidation_0-mae:0.02088\tvalidation_1-mae:0.20406\n",
      "[541]\tvalidation_0-mae:0.02085\tvalidation_1-mae:0.20407\n",
      "[542]\tvalidation_0-mae:0.02083\tvalidation_1-mae:0.20406\n",
      "[543]\tvalidation_0-mae:0.02081\tvalidation_1-mae:0.20406\n",
      "[544]\tvalidation_0-mae:0.02078\tvalidation_1-mae:0.20406\n",
      "[545]\tvalidation_0-mae:0.02076\tvalidation_1-mae:0.20406\n",
      "[546]\tvalidation_0-mae:0.02073\tvalidation_1-mae:0.20406\n",
      "[547]\tvalidation_0-mae:0.02069\tvalidation_1-mae:0.20406\n",
      "[548]\tvalidation_0-mae:0.02065\tvalidation_1-mae:0.20407\n",
      "[549]\tvalidation_0-mae:0.02063\tvalidation_1-mae:0.20408\n",
      "[550]\tvalidation_0-mae:0.02057\tvalidation_1-mae:0.20409\n",
      "[551]\tvalidation_0-mae:0.02050\tvalidation_1-mae:0.20409\n",
      "[552]\tvalidation_0-mae:0.02043\tvalidation_1-mae:0.20412\n",
      "[553]\tvalidation_0-mae:0.02039\tvalidation_1-mae:0.20410\n",
      "[554]\tvalidation_0-mae:0.02035\tvalidation_1-mae:0.20408\n",
      "[555]\tvalidation_0-mae:0.02032\tvalidation_1-mae:0.20407\n",
      "[556]\tvalidation_0-mae:0.02028\tvalidation_1-mae:0.20408\n",
      "[557]\tvalidation_0-mae:0.02025\tvalidation_1-mae:0.20407\n",
      "[558]\tvalidation_0-mae:0.02022\tvalidation_1-mae:0.20408\n",
      "[559]\tvalidation_0-mae:0.02020\tvalidation_1-mae:0.20409\n",
      "[560]\tvalidation_0-mae:0.02013\tvalidation_1-mae:0.20410\n",
      "[561]\tvalidation_0-mae:0.02010\tvalidation_1-mae:0.20410\n",
      "[562]\tvalidation_0-mae:0.02004\tvalidation_1-mae:0.20413\n",
      "[563]\tvalidation_0-mae:0.02001\tvalidation_1-mae:0.20413\n",
      "[564]\tvalidation_0-mae:0.01998\tvalidation_1-mae:0.20414\n",
      "[565]\tvalidation_0-mae:0.01995\tvalidation_1-mae:0.20413\n",
      "[566]\tvalidation_0-mae:0.01994\tvalidation_1-mae:0.20413\n",
      "[567]\tvalidation_0-mae:0.01988\tvalidation_1-mae:0.20415\n",
      "[568]\tvalidation_0-mae:0.01986\tvalidation_1-mae:0.20415\n",
      "[569]\tvalidation_0-mae:0.01982\tvalidation_1-mae:0.20416\n",
      "[570]\tvalidation_0-mae:0.01978\tvalidation_1-mae:0.20414\n",
      "[571]\tvalidation_0-mae:0.01976\tvalidation_1-mae:0.20416\n",
      "[572]\tvalidation_0-mae:0.01974\tvalidation_1-mae:0.20416\n",
      "[573]\tvalidation_0-mae:0.01969\tvalidation_1-mae:0.20416\n",
      "[574]\tvalidation_0-mae:0.01966\tvalidation_1-mae:0.20416\n",
      "[575]\tvalidation_0-mae:0.01959\tvalidation_1-mae:0.20416\n",
      "[576]\tvalidation_0-mae:0.01954\tvalidation_1-mae:0.20413\n",
      "[577]\tvalidation_0-mae:0.01948\tvalidation_1-mae:0.20411\n",
      "[578]\tvalidation_0-mae:0.01945\tvalidation_1-mae:0.20413\n",
      "[579]\tvalidation_0-mae:0.01940\tvalidation_1-mae:0.20408\n",
      "[580]\tvalidation_0-mae:0.01937\tvalidation_1-mae:0.20409\n",
      "[581]\tvalidation_0-mae:0.01934\tvalidation_1-mae:0.20408\n",
      "[582]\tvalidation_0-mae:0.01931\tvalidation_1-mae:0.20408\n",
      "[583]\tvalidation_0-mae:0.01929\tvalidation_1-mae:0.20408\n",
      "[584]\tvalidation_0-mae:0.01923\tvalidation_1-mae:0.20406\n",
      "[585]\tvalidation_0-mae:0.01920\tvalidation_1-mae:0.20405\n",
      "[586]\tvalidation_0-mae:0.01918\tvalidation_1-mae:0.20406\n",
      "[587]\tvalidation_0-mae:0.01915\tvalidation_1-mae:0.20405\n",
      "[588]\tvalidation_0-mae:0.01912\tvalidation_1-mae:0.20405\n",
      "[589]\tvalidation_0-mae:0.01909\tvalidation_1-mae:0.20404\n"
     ]
    },
    {
     "name": "stdout",
     "output_type": "stream",
     "text": [
      "[590]\tvalidation_0-mae:0.01908\tvalidation_1-mae:0.20405\n",
      "[591]\tvalidation_0-mae:0.01903\tvalidation_1-mae:0.20409\n",
      "[592]\tvalidation_0-mae:0.01901\tvalidation_1-mae:0.20408\n",
      "[593]\tvalidation_0-mae:0.01899\tvalidation_1-mae:0.20408\n",
      "[594]\tvalidation_0-mae:0.01896\tvalidation_1-mae:0.20407\n",
      "[595]\tvalidation_0-mae:0.01892\tvalidation_1-mae:0.20408\n",
      "[596]\tvalidation_0-mae:0.01888\tvalidation_1-mae:0.20410\n",
      "[597]\tvalidation_0-mae:0.01885\tvalidation_1-mae:0.20405\n",
      "[598]\tvalidation_0-mae:0.01883\tvalidation_1-mae:0.20405\n",
      "[599]\tvalidation_0-mae:0.01881\tvalidation_1-mae:0.20405\n",
      "[600]\tvalidation_0-mae:0.01879\tvalidation_1-mae:0.20404\n",
      "[601]\tvalidation_0-mae:0.01876\tvalidation_1-mae:0.20405\n",
      "[602]\tvalidation_0-mae:0.01871\tvalidation_1-mae:0.20405\n",
      "[603]\tvalidation_0-mae:0.01869\tvalidation_1-mae:0.20404\n",
      "[604]\tvalidation_0-mae:0.01868\tvalidation_1-mae:0.20404\n",
      "[605]\tvalidation_0-mae:0.01862\tvalidation_1-mae:0.20404\n",
      "[606]\tvalidation_0-mae:0.01858\tvalidation_1-mae:0.20403\n",
      "[607]\tvalidation_0-mae:0.01856\tvalidation_1-mae:0.20404\n",
      "[608]\tvalidation_0-mae:0.01850\tvalidation_1-mae:0.20404\n",
      "[609]\tvalidation_0-mae:0.01846\tvalidation_1-mae:0.20404\n",
      "[610]\tvalidation_0-mae:0.01843\tvalidation_1-mae:0.20404\n",
      "[611]\tvalidation_0-mae:0.01841\tvalidation_1-mae:0.20404\n",
      "[612]\tvalidation_0-mae:0.01838\tvalidation_1-mae:0.20406\n",
      "[613]\tvalidation_0-mae:0.01836\tvalidation_1-mae:0.20407\n",
      "[614]\tvalidation_0-mae:0.01833\tvalidation_1-mae:0.20407\n",
      "[615]\tvalidation_0-mae:0.01831\tvalidation_1-mae:0.20407\n",
      "[616]\tvalidation_0-mae:0.01827\tvalidation_1-mae:0.20407\n",
      "[617]\tvalidation_0-mae:0.01826\tvalidation_1-mae:0.20407\n",
      "[618]\tvalidation_0-mae:0.01820\tvalidation_1-mae:0.20405\n",
      "[619]\tvalidation_0-mae:0.01815\tvalidation_1-mae:0.20403\n",
      "[620]\tvalidation_0-mae:0.01813\tvalidation_1-mae:0.20403\n",
      "[621]\tvalidation_0-mae:0.01811\tvalidation_1-mae:0.20403\n",
      "[622]\tvalidation_0-mae:0.01810\tvalidation_1-mae:0.20403\n",
      "[623]\tvalidation_0-mae:0.01808\tvalidation_1-mae:0.20402\n",
      "[624]\tvalidation_0-mae:0.01805\tvalidation_1-mae:0.20404\n",
      "[625]\tvalidation_0-mae:0.01800\tvalidation_1-mae:0.20406\n",
      "[626]\tvalidation_0-mae:0.01797\tvalidation_1-mae:0.20405\n",
      "[627]\tvalidation_0-mae:0.01795\tvalidation_1-mae:0.20405\n",
      "[628]\tvalidation_0-mae:0.01791\tvalidation_1-mae:0.20406\n",
      "[629]\tvalidation_0-mae:0.01788\tvalidation_1-mae:0.20406\n",
      "[630]\tvalidation_0-mae:0.01786\tvalidation_1-mae:0.20406\n",
      "[631]\tvalidation_0-mae:0.01785\tvalidation_1-mae:0.20406\n",
      "[632]\tvalidation_0-mae:0.01783\tvalidation_1-mae:0.20405\n",
      "[633]\tvalidation_0-mae:0.01781\tvalidation_1-mae:0.20406\n",
      "[634]\tvalidation_0-mae:0.01778\tvalidation_1-mae:0.20407\n",
      "[635]\tvalidation_0-mae:0.01774\tvalidation_1-mae:0.20406\n",
      "[636]\tvalidation_0-mae:0.01770\tvalidation_1-mae:0.20405\n",
      "[637]\tvalidation_0-mae:0.01769\tvalidation_1-mae:0.20405\n",
      "[638]\tvalidation_0-mae:0.01765\tvalidation_1-mae:0.20405\n",
      "[639]\tvalidation_0-mae:0.01761\tvalidation_1-mae:0.20406\n",
      "[640]\tvalidation_0-mae:0.01756\tvalidation_1-mae:0.20405\n",
      "[641]\tvalidation_0-mae:0.01753\tvalidation_1-mae:0.20406\n",
      "[642]\tvalidation_0-mae:0.01753\tvalidation_1-mae:0.20406\n",
      "[643]\tvalidation_0-mae:0.01750\tvalidation_1-mae:0.20406\n",
      "[644]\tvalidation_0-mae:0.01749\tvalidation_1-mae:0.20405\n",
      "[645]\tvalidation_0-mae:0.01744\tvalidation_1-mae:0.20405\n",
      "[646]\tvalidation_0-mae:0.01740\tvalidation_1-mae:0.20405\n",
      "[647]\tvalidation_0-mae:0.01738\tvalidation_1-mae:0.20405\n",
      "[648]\tvalidation_0-mae:0.01733\tvalidation_1-mae:0.20405\n",
      "[649]\tvalidation_0-mae:0.01730\tvalidation_1-mae:0.20405\n",
      "[650]\tvalidation_0-mae:0.01727\tvalidation_1-mae:0.20405\n",
      "[651]\tvalidation_0-mae:0.01723\tvalidation_1-mae:0.20405\n",
      "[652]\tvalidation_0-mae:0.01719\tvalidation_1-mae:0.20406\n",
      "[653]\tvalidation_0-mae:0.01717\tvalidation_1-mae:0.20404\n",
      "[654]\tvalidation_0-mae:0.01712\tvalidation_1-mae:0.20404\n",
      "[655]\tvalidation_0-mae:0.01708\tvalidation_1-mae:0.20403\n",
      "[656]\tvalidation_0-mae:0.01705\tvalidation_1-mae:0.20403\n",
      "[657]\tvalidation_0-mae:0.01702\tvalidation_1-mae:0.20403\n",
      "[658]\tvalidation_0-mae:0.01700\tvalidation_1-mae:0.20402\n",
      "[659]\tvalidation_0-mae:0.01698\tvalidation_1-mae:0.20401\n",
      "[660]\tvalidation_0-mae:0.01694\tvalidation_1-mae:0.20402\n",
      "[661]\tvalidation_0-mae:0.01691\tvalidation_1-mae:0.20404\n",
      "[662]\tvalidation_0-mae:0.01689\tvalidation_1-mae:0.20404\n",
      "[663]\tvalidation_0-mae:0.01687\tvalidation_1-mae:0.20404\n",
      "[664]\tvalidation_0-mae:0.01684\tvalidation_1-mae:0.20404\n",
      "[665]\tvalidation_0-mae:0.01683\tvalidation_1-mae:0.20404\n",
      "[666]\tvalidation_0-mae:0.01680\tvalidation_1-mae:0.20403\n",
      "[667]\tvalidation_0-mae:0.01679\tvalidation_1-mae:0.20403\n",
      "[668]\tvalidation_0-mae:0.01674\tvalidation_1-mae:0.20408\n",
      "[669]\tvalidation_0-mae:0.01671\tvalidation_1-mae:0.20409\n",
      "[670]\tvalidation_0-mae:0.01667\tvalidation_1-mae:0.20409\n",
      "[671]\tvalidation_0-mae:0.01665\tvalidation_1-mae:0.20410\n",
      "[672]\tvalidation_0-mae:0.01663\tvalidation_1-mae:0.20412\n",
      "[673]\tvalidation_0-mae:0.01660\tvalidation_1-mae:0.20413\n",
      "[674]\tvalidation_0-mae:0.01657\tvalidation_1-mae:0.20415\n",
      "[675]\tvalidation_0-mae:0.01653\tvalidation_1-mae:0.20416\n",
      "[676]\tvalidation_0-mae:0.01652\tvalidation_1-mae:0.20415\n",
      "[677]\tvalidation_0-mae:0.01650\tvalidation_1-mae:0.20415\n",
      "[678]\tvalidation_0-mae:0.01648\tvalidation_1-mae:0.20415\n",
      "[679]\tvalidation_0-mae:0.01645\tvalidation_1-mae:0.20413\n",
      "[680]\tvalidation_0-mae:0.01643\tvalidation_1-mae:0.20414\n",
      "[681]\tvalidation_0-mae:0.01639\tvalidation_1-mae:0.20414\n",
      "[682]\tvalidation_0-mae:0.01637\tvalidation_1-mae:0.20415\n",
      "[683]\tvalidation_0-mae:0.01633\tvalidation_1-mae:0.20416\n",
      "[684]\tvalidation_0-mae:0.01632\tvalidation_1-mae:0.20416\n",
      "[685]\tvalidation_0-mae:0.01630\tvalidation_1-mae:0.20415\n",
      "[686]\tvalidation_0-mae:0.01628\tvalidation_1-mae:0.20415\n",
      "[687]\tvalidation_0-mae:0.01624\tvalidation_1-mae:0.20412\n",
      "[688]\tvalidation_0-mae:0.01622\tvalidation_1-mae:0.20412\n",
      "[689]\tvalidation_0-mae:0.01620\tvalidation_1-mae:0.20413\n",
      "[690]\tvalidation_0-mae:0.01617\tvalidation_1-mae:0.20413\n",
      "[691]\tvalidation_0-mae:0.01615\tvalidation_1-mae:0.20412\n",
      "[692]\tvalidation_0-mae:0.01611\tvalidation_1-mae:0.20413\n",
      "[693]\tvalidation_0-mae:0.01608\tvalidation_1-mae:0.20411\n",
      "[694]\tvalidation_0-mae:0.01606\tvalidation_1-mae:0.20410\n",
      "[695]\tvalidation_0-mae:0.01604\tvalidation_1-mae:0.20410\n",
      "[696]\tvalidation_0-mae:0.01602\tvalidation_1-mae:0.20409\n",
      "[697]\tvalidation_0-mae:0.01597\tvalidation_1-mae:0.20410\n",
      "[698]\tvalidation_0-mae:0.01592\tvalidation_1-mae:0.20409\n",
      "[699]\tvalidation_0-mae:0.01590\tvalidation_1-mae:0.20408\n",
      "[700]\tvalidation_0-mae:0.01587\tvalidation_1-mae:0.20410\n",
      "[701]\tvalidation_0-mae:0.01585\tvalidation_1-mae:0.20411\n",
      "[702]\tvalidation_0-mae:0.01584\tvalidation_1-mae:0.20411\n",
      "[703]\tvalidation_0-mae:0.01582\tvalidation_1-mae:0.20412\n",
      "[704]\tvalidation_0-mae:0.01579\tvalidation_1-mae:0.20411\n",
      "[705]\tvalidation_0-mae:0.01577\tvalidation_1-mae:0.20411\n",
      "[706]\tvalidation_0-mae:0.01575\tvalidation_1-mae:0.20410\n",
      "[707]\tvalidation_0-mae:0.01571\tvalidation_1-mae:0.20410\n",
      "[708]\tvalidation_0-mae:0.01569\tvalidation_1-mae:0.20411\n",
      "[709]\tvalidation_0-mae:0.01568\tvalidation_1-mae:0.20411\n",
      "[710]\tvalidation_0-mae:0.01564\tvalidation_1-mae:0.20411\n",
      "[711]\tvalidation_0-mae:0.01562\tvalidation_1-mae:0.20411\n",
      "[712]\tvalidation_0-mae:0.01561\tvalidation_1-mae:0.20411\n",
      "[713]\tvalidation_0-mae:0.01557\tvalidation_1-mae:0.20411\n",
      "[714]\tvalidation_0-mae:0.01555\tvalidation_1-mae:0.20411\n",
      "[715]\tvalidation_0-mae:0.01553\tvalidation_1-mae:0.20411\n",
      "[716]\tvalidation_0-mae:0.01550\tvalidation_1-mae:0.20410\n",
      "[717]\tvalidation_0-mae:0.01544\tvalidation_1-mae:0.20410\n",
      "[718]\tvalidation_0-mae:0.01542\tvalidation_1-mae:0.20411\n",
      "[719]\tvalidation_0-mae:0.01540\tvalidation_1-mae:0.20410\n",
      "[720]\tvalidation_0-mae:0.01537\tvalidation_1-mae:0.20411\n",
      "[721]\tvalidation_0-mae:0.01535\tvalidation_1-mae:0.20411\n",
      "[722]\tvalidation_0-mae:0.01533\tvalidation_1-mae:0.20410\n",
      "[723]\tvalidation_0-mae:0.01528\tvalidation_1-mae:0.20410\n",
      "[724]\tvalidation_0-mae:0.01525\tvalidation_1-mae:0.20409\n",
      "[725]\tvalidation_0-mae:0.01524\tvalidation_1-mae:0.20409\n",
      "[726]\tvalidation_0-mae:0.01521\tvalidation_1-mae:0.20407\n",
      "[727]\tvalidation_0-mae:0.01518\tvalidation_1-mae:0.20408\n",
      "[728]\tvalidation_0-mae:0.01517\tvalidation_1-mae:0.20408\n",
      "[729]\tvalidation_0-mae:0.01515\tvalidation_1-mae:0.20408\n",
      "[730]\tvalidation_0-mae:0.01513\tvalidation_1-mae:0.20408\n",
      "[731]\tvalidation_0-mae:0.01512\tvalidation_1-mae:0.20408\n",
      "[732]\tvalidation_0-mae:0.01509\tvalidation_1-mae:0.20409\n",
      "[733]\tvalidation_0-mae:0.01507\tvalidation_1-mae:0.20409\n",
      "[734]\tvalidation_0-mae:0.01504\tvalidation_1-mae:0.20409\n",
      "[735]\tvalidation_0-mae:0.01501\tvalidation_1-mae:0.20408\n",
      "[736]\tvalidation_0-mae:0.01499\tvalidation_1-mae:0.20408\n"
     ]
    },
    {
     "name": "stdout",
     "output_type": "stream",
     "text": [
      "[737]\tvalidation_0-mae:0.01498\tvalidation_1-mae:0.20407\n",
      "[738]\tvalidation_0-mae:0.01496\tvalidation_1-mae:0.20410\n",
      "[739]\tvalidation_0-mae:0.01493\tvalidation_1-mae:0.20409\n",
      "[740]\tvalidation_0-mae:0.01491\tvalidation_1-mae:0.20408\n",
      "[741]\tvalidation_0-mae:0.01489\tvalidation_1-mae:0.20408\n",
      "[742]\tvalidation_0-mae:0.01486\tvalidation_1-mae:0.20407\n",
      "[743]\tvalidation_0-mae:0.01485\tvalidation_1-mae:0.20408\n",
      "[744]\tvalidation_0-mae:0.01482\tvalidation_1-mae:0.20407\n",
      "[745]\tvalidation_0-mae:0.01479\tvalidation_1-mae:0.20409\n",
      "[746]\tvalidation_0-mae:0.01478\tvalidation_1-mae:0.20409\n",
      "[747]\tvalidation_0-mae:0.01475\tvalidation_1-mae:0.20408\n",
      "[748]\tvalidation_0-mae:0.01474\tvalidation_1-mae:0.20408\n",
      "[749]\tvalidation_0-mae:0.01473\tvalidation_1-mae:0.20409\n",
      "[750]\tvalidation_0-mae:0.01471\tvalidation_1-mae:0.20409\n",
      "[751]\tvalidation_0-mae:0.01469\tvalidation_1-mae:0.20409\n",
      "[752]\tvalidation_0-mae:0.01466\tvalidation_1-mae:0.20409\n",
      "[753]\tvalidation_0-mae:0.01463\tvalidation_1-mae:0.20410\n",
      "[754]\tvalidation_0-mae:0.01460\tvalidation_1-mae:0.20409\n",
      "[755]\tvalidation_0-mae:0.01459\tvalidation_1-mae:0.20410\n",
      "[756]\tvalidation_0-mae:0.01457\tvalidation_1-mae:0.20409\n",
      "[757]\tvalidation_0-mae:0.01455\tvalidation_1-mae:0.20411\n",
      "[758]\tvalidation_0-mae:0.01453\tvalidation_1-mae:0.20411\n",
      "[759]\tvalidation_0-mae:0.01450\tvalidation_1-mae:0.20414\n",
      "[760]\tvalidation_0-mae:0.01447\tvalidation_1-mae:0.20414\n",
      "[761]\tvalidation_0-mae:0.01441\tvalidation_1-mae:0.20415\n",
      "[762]\tvalidation_0-mae:0.01439\tvalidation_1-mae:0.20417\n",
      "[763]\tvalidation_0-mae:0.01436\tvalidation_1-mae:0.20417\n",
      "[764]\tvalidation_0-mae:0.01431\tvalidation_1-mae:0.20416\n",
      "[765]\tvalidation_0-mae:0.01428\tvalidation_1-mae:0.20416\n",
      "[766]\tvalidation_0-mae:0.01427\tvalidation_1-mae:0.20416\n",
      "[767]\tvalidation_0-mae:0.01423\tvalidation_1-mae:0.20416\n",
      "[768]\tvalidation_0-mae:0.01418\tvalidation_1-mae:0.20414\n",
      "[769]\tvalidation_0-mae:0.01415\tvalidation_1-mae:0.20414\n",
      "[770]\tvalidation_0-mae:0.01412\tvalidation_1-mae:0.20414\n",
      "[771]\tvalidation_0-mae:0.01410\tvalidation_1-mae:0.20416\n",
      "[772]\tvalidation_0-mae:0.01410\tvalidation_1-mae:0.20416\n",
      "[773]\tvalidation_0-mae:0.01407\tvalidation_1-mae:0.20416\n",
      "[774]\tvalidation_0-mae:0.01406\tvalidation_1-mae:0.20416\n",
      "[775]\tvalidation_0-mae:0.01403\tvalidation_1-mae:0.20420\n",
      "[776]\tvalidation_0-mae:0.01401\tvalidation_1-mae:0.20420\n",
      "[777]\tvalidation_0-mae:0.01398\tvalidation_1-mae:0.20422\n",
      "[778]\tvalidation_0-mae:0.01396\tvalidation_1-mae:0.20422\n",
      "[779]\tvalidation_0-mae:0.01392\tvalidation_1-mae:0.20422\n",
      "[780]\tvalidation_0-mae:0.01390\tvalidation_1-mae:0.20421\n",
      "[781]\tvalidation_0-mae:0.01388\tvalidation_1-mae:0.20421\n",
      "[782]\tvalidation_0-mae:0.01384\tvalidation_1-mae:0.20420\n",
      "[783]\tvalidation_0-mae:0.01382\tvalidation_1-mae:0.20420\n",
      "[784]\tvalidation_0-mae:0.01381\tvalidation_1-mae:0.20419\n",
      "[785]\tvalidation_0-mae:0.01377\tvalidation_1-mae:0.20420\n",
      "[786]\tvalidation_0-mae:0.01376\tvalidation_1-mae:0.20421\n",
      "[787]\tvalidation_0-mae:0.01374\tvalidation_1-mae:0.20420\n",
      "[788]\tvalidation_0-mae:0.01372\tvalidation_1-mae:0.20420\n",
      "[789]\tvalidation_0-mae:0.01370\tvalidation_1-mae:0.20420\n",
      "[790]\tvalidation_0-mae:0.01368\tvalidation_1-mae:0.20421\n",
      "[791]\tvalidation_0-mae:0.01364\tvalidation_1-mae:0.20419\n",
      "[792]\tvalidation_0-mae:0.01362\tvalidation_1-mae:0.20419\n",
      "[793]\tvalidation_0-mae:0.01362\tvalidation_1-mae:0.20420\n",
      "[794]\tvalidation_0-mae:0.01360\tvalidation_1-mae:0.20420\n",
      "[795]\tvalidation_0-mae:0.01359\tvalidation_1-mae:0.20420\n",
      "[796]\tvalidation_0-mae:0.01358\tvalidation_1-mae:0.20420\n",
      "[797]\tvalidation_0-mae:0.01355\tvalidation_1-mae:0.20419\n",
      "[798]\tvalidation_0-mae:0.01353\tvalidation_1-mae:0.20419\n",
      "[799]\tvalidation_0-mae:0.01351\tvalidation_1-mae:0.20419\n",
      "[800]\tvalidation_0-mae:0.01347\tvalidation_1-mae:0.20419\n",
      "[801]\tvalidation_0-mae:0.01347\tvalidation_1-mae:0.20419\n",
      "[802]\tvalidation_0-mae:0.01344\tvalidation_1-mae:0.20419\n",
      "[803]\tvalidation_0-mae:0.01342\tvalidation_1-mae:0.20419\n",
      "[804]\tvalidation_0-mae:0.01338\tvalidation_1-mae:0.20418\n",
      "[805]\tvalidation_0-mae:0.01336\tvalidation_1-mae:0.20419\n",
      "[806]\tvalidation_0-mae:0.01333\tvalidation_1-mae:0.20420\n",
      "[807]\tvalidation_0-mae:0.01332\tvalidation_1-mae:0.20419\n",
      "[808]\tvalidation_0-mae:0.01330\tvalidation_1-mae:0.20420\n",
      "[809]\tvalidation_0-mae:0.01327\tvalidation_1-mae:0.20420\n",
      "[810]\tvalidation_0-mae:0.01327\tvalidation_1-mae:0.20420\n",
      "[811]\tvalidation_0-mae:0.01323\tvalidation_1-mae:0.20420\n",
      "[812]\tvalidation_0-mae:0.01321\tvalidation_1-mae:0.20420\n",
      "[813]\tvalidation_0-mae:0.01320\tvalidation_1-mae:0.20420\n",
      "[814]\tvalidation_0-mae:0.01319\tvalidation_1-mae:0.20419\n",
      "[815]\tvalidation_0-mae:0.01317\tvalidation_1-mae:0.20419\n",
      "[816]\tvalidation_0-mae:0.01316\tvalidation_1-mae:0.20419\n",
      "[817]\tvalidation_0-mae:0.01315\tvalidation_1-mae:0.20419\n",
      "[818]\tvalidation_0-mae:0.01313\tvalidation_1-mae:0.20419\n",
      "[819]\tvalidation_0-mae:0.01311\tvalidation_1-mae:0.20419\n",
      "[820]\tvalidation_0-mae:0.01310\tvalidation_1-mae:0.20419\n",
      "[821]\tvalidation_0-mae:0.01307\tvalidation_1-mae:0.20417\n",
      "[822]\tvalidation_0-mae:0.01306\tvalidation_1-mae:0.20418\n",
      "[823]\tvalidation_0-mae:0.01304\tvalidation_1-mae:0.20418\n",
      "[824]\tvalidation_0-mae:0.01303\tvalidation_1-mae:0.20417\n",
      "[825]\tvalidation_0-mae:0.01302\tvalidation_1-mae:0.20417\n",
      "[826]\tvalidation_0-mae:0.01300\tvalidation_1-mae:0.20417\n",
      "[827]\tvalidation_0-mae:0.01298\tvalidation_1-mae:0.20417\n",
      "[828]\tvalidation_0-mae:0.01297\tvalidation_1-mae:0.20417\n",
      "[829]\tvalidation_0-mae:0.01295\tvalidation_1-mae:0.20417\n",
      "[830]\tvalidation_0-mae:0.01294\tvalidation_1-mae:0.20417\n",
      "[831]\tvalidation_0-mae:0.01293\tvalidation_1-mae:0.20418\n",
      "[832]\tvalidation_0-mae:0.01289\tvalidation_1-mae:0.20418\n",
      "[833]\tvalidation_0-mae:0.01287\tvalidation_1-mae:0.20419\n",
      "[834]\tvalidation_0-mae:0.01284\tvalidation_1-mae:0.20417\n",
      "[835]\tvalidation_0-mae:0.01281\tvalidation_1-mae:0.20418\n",
      "[836]\tvalidation_0-mae:0.01279\tvalidation_1-mae:0.20418\n",
      "[837]\tvalidation_0-mae:0.01278\tvalidation_1-mae:0.20418\n",
      "[838]\tvalidation_0-mae:0.01276\tvalidation_1-mae:0.20418\n",
      "[839]\tvalidation_0-mae:0.01275\tvalidation_1-mae:0.20418\n",
      "[840]\tvalidation_0-mae:0.01272\tvalidation_1-mae:0.20420\n",
      "[841]\tvalidation_0-mae:0.01270\tvalidation_1-mae:0.20420\n",
      "[842]\tvalidation_0-mae:0.01268\tvalidation_1-mae:0.20419\n",
      "[843]\tvalidation_0-mae:0.01266\tvalidation_1-mae:0.20419\n",
      "[844]\tvalidation_0-mae:0.01264\tvalidation_1-mae:0.20418\n",
      "[845]\tvalidation_0-mae:0.01262\tvalidation_1-mae:0.20417\n",
      "[846]\tvalidation_0-mae:0.01262\tvalidation_1-mae:0.20418\n",
      "[847]\tvalidation_0-mae:0.01259\tvalidation_1-mae:0.20420\n",
      "[848]\tvalidation_0-mae:0.01257\tvalidation_1-mae:0.20420\n",
      "[849]\tvalidation_0-mae:0.01253\tvalidation_1-mae:0.20420\n",
      "[850]\tvalidation_0-mae:0.01252\tvalidation_1-mae:0.20419\n",
      "[851]\tvalidation_0-mae:0.01251\tvalidation_1-mae:0.20420\n",
      "[852]\tvalidation_0-mae:0.01248\tvalidation_1-mae:0.20420\n",
      "[853]\tvalidation_0-mae:0.01246\tvalidation_1-mae:0.20421\n",
      "[854]\tvalidation_0-mae:0.01245\tvalidation_1-mae:0.20421\n",
      "[855]\tvalidation_0-mae:0.01243\tvalidation_1-mae:0.20421\n",
      "[856]\tvalidation_0-mae:0.01241\tvalidation_1-mae:0.20422\n",
      "[857]\tvalidation_0-mae:0.01239\tvalidation_1-mae:0.20421\n",
      "[858]\tvalidation_0-mae:0.01238\tvalidation_1-mae:0.20421\n",
      "[859]\tvalidation_0-mae:0.01236\tvalidation_1-mae:0.20421\n",
      "[860]\tvalidation_0-mae:0.01234\tvalidation_1-mae:0.20422\n",
      "[861]\tvalidation_0-mae:0.01231\tvalidation_1-mae:0.20421\n",
      "[862]\tvalidation_0-mae:0.01228\tvalidation_1-mae:0.20423\n",
      "[863]\tvalidation_0-mae:0.01227\tvalidation_1-mae:0.20424\n",
      "[864]\tvalidation_0-mae:0.01223\tvalidation_1-mae:0.20425\n",
      "[865]\tvalidation_0-mae:0.01222\tvalidation_1-mae:0.20424\n",
      "[866]\tvalidation_0-mae:0.01220\tvalidation_1-mae:0.20425\n",
      "[867]\tvalidation_0-mae:0.01219\tvalidation_1-mae:0.20425\n",
      "[868]\tvalidation_0-mae:0.01217\tvalidation_1-mae:0.20424\n",
      "[869]\tvalidation_0-mae:0.01217\tvalidation_1-mae:0.20424\n",
      "[870]\tvalidation_0-mae:0.01215\tvalidation_1-mae:0.20424\n",
      "[871]\tvalidation_0-mae:0.01214\tvalidation_1-mae:0.20424\n",
      "[872]\tvalidation_0-mae:0.01211\tvalidation_1-mae:0.20424\n",
      "[873]\tvalidation_0-mae:0.01208\tvalidation_1-mae:0.20424\n",
      "[874]\tvalidation_0-mae:0.01207\tvalidation_1-mae:0.20424\n",
      "[875]\tvalidation_0-mae:0.01206\tvalidation_1-mae:0.20424\n",
      "[876]\tvalidation_0-mae:0.01203\tvalidation_1-mae:0.20427\n",
      "[877]\tvalidation_0-mae:0.01201\tvalidation_1-mae:0.20427\n",
      "[878]\tvalidation_0-mae:0.01199\tvalidation_1-mae:0.20428\n",
      "[879]\tvalidation_0-mae:0.01197\tvalidation_1-mae:0.20428\n",
      "[880]\tvalidation_0-mae:0.01196\tvalidation_1-mae:0.20427\n",
      "[881]\tvalidation_0-mae:0.01195\tvalidation_1-mae:0.20427\n",
      "[882]\tvalidation_0-mae:0.01193\tvalidation_1-mae:0.20428\n",
      "[883]\tvalidation_0-mae:0.01191\tvalidation_1-mae:0.20428\n"
     ]
    },
    {
     "name": "stdout",
     "output_type": "stream",
     "text": [
      "[884]\tvalidation_0-mae:0.01189\tvalidation_1-mae:0.20428\n",
      "[885]\tvalidation_0-mae:0.01187\tvalidation_1-mae:0.20427\n",
      "[886]\tvalidation_0-mae:0.01184\tvalidation_1-mae:0.20427\n",
      "[887]\tvalidation_0-mae:0.01183\tvalidation_1-mae:0.20427\n",
      "[888]\tvalidation_0-mae:0.01182\tvalidation_1-mae:0.20428\n",
      "[889]\tvalidation_0-mae:0.01180\tvalidation_1-mae:0.20429\n",
      "[890]\tvalidation_0-mae:0.01179\tvalidation_1-mae:0.20429\n",
      "[891]\tvalidation_0-mae:0.01178\tvalidation_1-mae:0.20429\n",
      "[892]\tvalidation_0-mae:0.01176\tvalidation_1-mae:0.20430\n",
      "[893]\tvalidation_0-mae:0.01175\tvalidation_1-mae:0.20430\n",
      "[894]\tvalidation_0-mae:0.01174\tvalidation_1-mae:0.20430\n",
      "[895]\tvalidation_0-mae:0.01172\tvalidation_1-mae:0.20430\n",
      "[896]\tvalidation_0-mae:0.01170\tvalidation_1-mae:0.20431\n",
      "[897]\tvalidation_0-mae:0.01167\tvalidation_1-mae:0.20431\n",
      "[898]\tvalidation_0-mae:0.01166\tvalidation_1-mae:0.20431\n",
      "[899]\tvalidation_0-mae:0.01163\tvalidation_1-mae:0.20431\n",
      "[900]\tvalidation_0-mae:0.01162\tvalidation_1-mae:0.20432\n",
      "[901]\tvalidation_0-mae:0.01159\tvalidation_1-mae:0.20433\n",
      "[902]\tvalidation_0-mae:0.01158\tvalidation_1-mae:0.20433\n",
      "[903]\tvalidation_0-mae:0.01156\tvalidation_1-mae:0.20433\n",
      "[904]\tvalidation_0-mae:0.01153\tvalidation_1-mae:0.20433\n",
      "[905]\tvalidation_0-mae:0.01152\tvalidation_1-mae:0.20433\n",
      "[906]\tvalidation_0-mae:0.01152\tvalidation_1-mae:0.20433\n",
      "[907]\tvalidation_0-mae:0.01150\tvalidation_1-mae:0.20434\n",
      "[908]\tvalidation_0-mae:0.01148\tvalidation_1-mae:0.20434\n",
      "[909]\tvalidation_0-mae:0.01146\tvalidation_1-mae:0.20435\n",
      "[910]\tvalidation_0-mae:0.01144\tvalidation_1-mae:0.20435\n",
      "[911]\tvalidation_0-mae:0.01143\tvalidation_1-mae:0.20435\n",
      "[912]\tvalidation_0-mae:0.01140\tvalidation_1-mae:0.20435\n",
      "[913]\tvalidation_0-mae:0.01139\tvalidation_1-mae:0.20435\n",
      "[914]\tvalidation_0-mae:0.01138\tvalidation_1-mae:0.20435\n",
      "[915]\tvalidation_0-mae:0.01135\tvalidation_1-mae:0.20433\n",
      "[916]\tvalidation_0-mae:0.01133\tvalidation_1-mae:0.20433\n",
      "[917]\tvalidation_0-mae:0.01131\tvalidation_1-mae:0.20433\n",
      "[918]\tvalidation_0-mae:0.01128\tvalidation_1-mae:0.20433\n",
      "[919]\tvalidation_0-mae:0.01126\tvalidation_1-mae:0.20435\n",
      "[920]\tvalidation_0-mae:0.01124\tvalidation_1-mae:0.20435\n",
      "[921]\tvalidation_0-mae:0.01122\tvalidation_1-mae:0.20436\n",
      "[922]\tvalidation_0-mae:0.01120\tvalidation_1-mae:0.20436\n",
      "[923]\tvalidation_0-mae:0.01118\tvalidation_1-mae:0.20436\n",
      "[924]\tvalidation_0-mae:0.01115\tvalidation_1-mae:0.20436\n",
      "[925]\tvalidation_0-mae:0.01113\tvalidation_1-mae:0.20436\n",
      "[926]\tvalidation_0-mae:0.01113\tvalidation_1-mae:0.20436\n",
      "[927]\tvalidation_0-mae:0.01110\tvalidation_1-mae:0.20435\n",
      "[928]\tvalidation_0-mae:0.01108\tvalidation_1-mae:0.20435\n",
      "[929]\tvalidation_0-mae:0.01107\tvalidation_1-mae:0.20435\n",
      "[930]\tvalidation_0-mae:0.01105\tvalidation_1-mae:0.20435\n",
      "[931]\tvalidation_0-mae:0.01103\tvalidation_1-mae:0.20434\n",
      "[932]\tvalidation_0-mae:0.01102\tvalidation_1-mae:0.20434\n",
      "[933]\tvalidation_0-mae:0.01101\tvalidation_1-mae:0.20434\n",
      "[934]\tvalidation_0-mae:0.01100\tvalidation_1-mae:0.20434\n",
      "[935]\tvalidation_0-mae:0.01099\tvalidation_1-mae:0.20434\n",
      "[936]\tvalidation_0-mae:0.01097\tvalidation_1-mae:0.20434\n",
      "[937]\tvalidation_0-mae:0.01095\tvalidation_1-mae:0.20434\n",
      "[938]\tvalidation_0-mae:0.01095\tvalidation_1-mae:0.20434\n",
      "[939]\tvalidation_0-mae:0.01093\tvalidation_1-mae:0.20434\n",
      "[940]\tvalidation_0-mae:0.01092\tvalidation_1-mae:0.20435\n",
      "[941]\tvalidation_0-mae:0.01091\tvalidation_1-mae:0.20434\n",
      "[942]\tvalidation_0-mae:0.01090\tvalidation_1-mae:0.20435\n",
      "[943]\tvalidation_0-mae:0.01088\tvalidation_1-mae:0.20434\n",
      "[944]\tvalidation_0-mae:0.01087\tvalidation_1-mae:0.20434\n",
      "[945]\tvalidation_0-mae:0.01084\tvalidation_1-mae:0.20433\n",
      "[946]\tvalidation_0-mae:0.01083\tvalidation_1-mae:0.20433\n",
      "[947]\tvalidation_0-mae:0.01082\tvalidation_1-mae:0.20433\n",
      "[948]\tvalidation_0-mae:0.01080\tvalidation_1-mae:0.20433\n",
      "[949]\tvalidation_0-mae:0.01079\tvalidation_1-mae:0.20434\n",
      "[950]\tvalidation_0-mae:0.01077\tvalidation_1-mae:0.20434\n",
      "[951]\tvalidation_0-mae:0.01077\tvalidation_1-mae:0.20434\n",
      "[952]\tvalidation_0-mae:0.01076\tvalidation_1-mae:0.20434\n",
      "[953]\tvalidation_0-mae:0.01074\tvalidation_1-mae:0.20433\n",
      "[954]\tvalidation_0-mae:0.01073\tvalidation_1-mae:0.20434\n",
      "[955]\tvalidation_0-mae:0.01072\tvalidation_1-mae:0.20433\n",
      "[956]\tvalidation_0-mae:0.01071\tvalidation_1-mae:0.20434\n",
      "[957]\tvalidation_0-mae:0.01070\tvalidation_1-mae:0.20434\n",
      "[958]\tvalidation_0-mae:0.01069\tvalidation_1-mae:0.20434\n",
      "[959]\tvalidation_0-mae:0.01068\tvalidation_1-mae:0.20435\n",
      "[960]\tvalidation_0-mae:0.01066\tvalidation_1-mae:0.20434\n",
      "[961]\tvalidation_0-mae:0.01065\tvalidation_1-mae:0.20435\n",
      "[962]\tvalidation_0-mae:0.01064\tvalidation_1-mae:0.20435\n",
      "[963]\tvalidation_0-mae:0.01062\tvalidation_1-mae:0.20434\n",
      "[964]\tvalidation_0-mae:0.01061\tvalidation_1-mae:0.20435\n",
      "[965]\tvalidation_0-mae:0.01059\tvalidation_1-mae:0.20435\n",
      "[966]\tvalidation_0-mae:0.01057\tvalidation_1-mae:0.20435\n",
      "[967]\tvalidation_0-mae:0.01054\tvalidation_1-mae:0.20435\n",
      "[968]\tvalidation_0-mae:0.01053\tvalidation_1-mae:0.20435\n",
      "[969]\tvalidation_0-mae:0.01052\tvalidation_1-mae:0.20435\n",
      "[970]\tvalidation_0-mae:0.01051\tvalidation_1-mae:0.20435\n",
      "[971]\tvalidation_0-mae:0.01049\tvalidation_1-mae:0.20435\n",
      "[972]\tvalidation_0-mae:0.01048\tvalidation_1-mae:0.20435\n",
      "[973]\tvalidation_0-mae:0.01048\tvalidation_1-mae:0.20435\n",
      "[974]\tvalidation_0-mae:0.01045\tvalidation_1-mae:0.20435\n",
      "[975]\tvalidation_0-mae:0.01044\tvalidation_1-mae:0.20436\n",
      "[976]\tvalidation_0-mae:0.01042\tvalidation_1-mae:0.20436\n",
      "[977]\tvalidation_0-mae:0.01040\tvalidation_1-mae:0.20436\n",
      "[978]\tvalidation_0-mae:0.01039\tvalidation_1-mae:0.20437\n",
      "[979]\tvalidation_0-mae:0.01037\tvalidation_1-mae:0.20437\n",
      "[980]\tvalidation_0-mae:0.01036\tvalidation_1-mae:0.20436\n",
      "[981]\tvalidation_0-mae:0.01034\tvalidation_1-mae:0.20436\n",
      "[982]\tvalidation_0-mae:0.01033\tvalidation_1-mae:0.20436\n",
      "[983]\tvalidation_0-mae:0.01031\tvalidation_1-mae:0.20436\n",
      "[984]\tvalidation_0-mae:0.01027\tvalidation_1-mae:0.20436\n",
      "[985]\tvalidation_0-mae:0.01026\tvalidation_1-mae:0.20436\n",
      "[986]\tvalidation_0-mae:0.01025\tvalidation_1-mae:0.20436\n",
      "[987]\tvalidation_0-mae:0.01023\tvalidation_1-mae:0.20436\n",
      "[988]\tvalidation_0-mae:0.01023\tvalidation_1-mae:0.20436\n",
      "[989]\tvalidation_0-mae:0.01021\tvalidation_1-mae:0.20436\n",
      "[990]\tvalidation_0-mae:0.01021\tvalidation_1-mae:0.20435\n",
      "[991]\tvalidation_0-mae:0.01019\tvalidation_1-mae:0.20435\n",
      "[992]\tvalidation_0-mae:0.01018\tvalidation_1-mae:0.20435\n",
      "[993]\tvalidation_0-mae:0.01017\tvalidation_1-mae:0.20435\n",
      "[994]\tvalidation_0-mae:0.01016\tvalidation_1-mae:0.20434\n",
      "[995]\tvalidation_0-mae:0.01014\tvalidation_1-mae:0.20435\n",
      "[996]\tvalidation_0-mae:0.01013\tvalidation_1-mae:0.20435\n",
      "[997]\tvalidation_0-mae:0.01011\tvalidation_1-mae:0.20436\n",
      "[998]\tvalidation_0-mae:0.01010\tvalidation_1-mae:0.20436\n",
      "[999]\tvalidation_0-mae:0.01010\tvalidation_1-mae:0.20436\n",
      "Wall time: 38.7 s\n"
     ]
    },
    {
     "data": {
      "text/plain": [
       "XGBRegressor(base_score=0.5, booster='gbtree', colsample_bylevel=1,\n",
       "             colsample_bynode=1, colsample_bytree=1, gamma=0, gpu_id=-1,\n",
       "             importance_type='gain', interaction_constraints='',\n",
       "             learning_rate=0.09, max_delta_step=0, max_depth=8,\n",
       "             min_child_weight=1, missing=nan, monotone_constraints='()',\n",
       "             n_estimators=1000, n_jobs=8, num_parallel_tree=1, random_state=0,\n",
       "             reg_alpha=0, reg_lambda=1, scale_pos_weight=1, subsample=1,\n",
       "             tree_method='exact', validate_parameters=1, verbosity=None)"
      ]
     },
     "execution_count": 28,
     "metadata": {},
     "output_type": "execute_result"
    }
   ],
   "source": [
    "eval_set = [(X_train, y_train), (X_test, y_test)]\n",
    "eval_metric = [\"mae\"]\n",
    "%time reg.fit(X_train, y_train, eval_metric=eval_metric, eval_set=eval_set, verbose=True)"
   ]
  },
  {
   "cell_type": "code",
   "execution_count": 26,
   "metadata": {
    "scrolled": true
   },
   "outputs": [
    {
     "name": "stderr",
     "output_type": "stream",
     "text": [
      "C:\\ProgramData\\Anaconda3\\lib\\site-packages\\ipykernel_launcher.py:7: SettingWithCopyWarning:\n",
      "\n",
      "\n",
      "A value is trying to be set on a copy of a slice from a DataFrame.\n",
      "Try using .loc[row_indexer,col_indexer] = value instead\n",
      "\n",
      "See the caveats in the documentation: http://pandas.pydata.org/pandas-docs/stable/user_guide/indexing.html#returning-a-view-versus-a-copy\n",
      "\n"
     ]
    },
    {
     "data": {
      "application/vnd.plotly.v1+json": {
       "config": {
        "linkText": "Export to plot.ly",
        "plotlyServerURL": "https://plot.ly",
        "showLink": false
       },
       "data": [
        {
         "name": "actual",
         "type": "scatter",
         "x": [
          "2015-01-04T00:00:00",
          "2015-01-11T00:00:00",
          "2015-01-18T00:00:00",
          "2015-01-25T00:00:00",
          "2015-02-01T00:00:00",
          "2015-02-08T00:00:00",
          "2015-02-15T00:00:00",
          "2015-02-22T00:00:00",
          "2015-03-01T00:00:00",
          "2015-03-08T00:00:00",
          "2015-03-15T00:00:00",
          "2015-03-22T00:00:00",
          "2015-03-29T00:00:00",
          "2015-04-05T00:00:00",
          "2015-04-12T00:00:00",
          "2015-04-19T00:00:00",
          "2015-04-26T00:00:00",
          "2015-05-03T00:00:00",
          "2015-05-10T00:00:00",
          "2015-05-17T00:00:00",
          "2015-05-24T00:00:00",
          "2015-05-31T00:00:00",
          "2015-06-07T00:00:00",
          "2015-06-14T00:00:00",
          "2015-06-21T00:00:00",
          "2015-06-28T00:00:00",
          "2015-07-05T00:00:00",
          "2015-07-12T00:00:00",
          "2015-07-19T00:00:00",
          "2015-07-26T00:00:00",
          "2015-08-02T00:00:00",
          "2015-08-09T00:00:00",
          "2015-08-16T00:00:00",
          "2015-08-23T00:00:00",
          "2015-08-30T00:00:00",
          "2015-09-06T00:00:00",
          "2015-09-13T00:00:00",
          "2015-09-20T00:00:00",
          "2015-09-27T00:00:00",
          "2015-10-04T00:00:00",
          "2015-10-11T00:00:00",
          "2015-10-18T00:00:00",
          "2015-10-25T00:00:00",
          "2015-11-01T00:00:00",
          "2015-11-08T00:00:00",
          "2015-11-15T00:00:00",
          "2015-11-22T00:00:00",
          "2015-11-29T00:00:00",
          "2015-12-06T00:00:00",
          "2015-12-13T00:00:00",
          "2015-12-20T00:00:00",
          "2015-12-27T00:00:00",
          "2016-01-03T00:00:00",
          "2016-01-10T00:00:00",
          "2016-01-17T00:00:00",
          "2016-01-24T00:00:00",
          "2016-01-31T00:00:00",
          "2016-02-07T00:00:00",
          "2016-02-14T00:00:00",
          "2016-02-21T00:00:00",
          "2016-02-28T00:00:00",
          "2016-03-06T00:00:00",
          "2016-03-13T00:00:00",
          "2016-03-20T00:00:00",
          "2016-03-27T00:00:00",
          "2016-04-03T00:00:00",
          "2016-04-10T00:00:00",
          "2016-04-17T00:00:00",
          "2016-04-24T00:00:00",
          "2016-05-01T00:00:00",
          "2016-05-08T00:00:00",
          "2016-05-15T00:00:00",
          "2016-05-22T00:00:00",
          "2016-05-29T00:00:00",
          "2016-06-05T00:00:00",
          "2016-06-12T00:00:00",
          "2016-06-19T00:00:00",
          "2016-06-26T00:00:00",
          "2016-07-03T00:00:00",
          "2016-07-10T00:00:00",
          "2016-07-17T00:00:00",
          "2016-07-24T00:00:00",
          "2016-07-31T00:00:00",
          "2016-08-07T00:00:00",
          "2016-08-14T00:00:00",
          "2016-08-21T00:00:00",
          "2016-08-28T00:00:00",
          "2016-09-04T00:00:00",
          "2016-09-11T00:00:00",
          "2016-09-18T00:00:00",
          "2016-09-25T00:00:00",
          "2016-10-02T00:00:00",
          "2016-10-09T00:00:00",
          "2016-10-16T00:00:00",
          "2016-10-23T00:00:00",
          "2016-10-30T00:00:00",
          "2016-11-06T00:00:00",
          "2016-11-13T00:00:00",
          "2016-11-20T00:00:00",
          "2016-11-27T00:00:00",
          "2016-12-04T00:00:00",
          "2016-12-11T00:00:00",
          "2016-12-18T00:00:00",
          "2016-12-25T00:00:00",
          "2017-01-01T00:00:00",
          "2017-01-08T00:00:00",
          "2017-01-15T00:00:00",
          "2017-01-22T00:00:00",
          "2017-01-29T00:00:00",
          "2017-02-05T00:00:00",
          "2017-02-12T00:00:00",
          "2017-02-19T00:00:00",
          "2017-02-26T00:00:00",
          "2017-03-05T00:00:00",
          "2017-03-12T00:00:00",
          "2017-03-19T00:00:00",
          "2017-03-26T00:00:00",
          "2017-04-02T00:00:00",
          "2017-04-09T00:00:00",
          "2017-04-16T00:00:00",
          "2017-04-23T00:00:00",
          "2017-04-30T00:00:00",
          "2017-05-07T00:00:00",
          "2017-05-14T00:00:00",
          "2017-05-21T00:00:00",
          "2017-05-28T00:00:00",
          "2017-06-04T00:00:00",
          "2017-06-11T00:00:00",
          "2017-06-18T00:00:00",
          "2017-06-25T00:00:00",
          "2017-07-02T00:00:00",
          "2017-07-09T00:00:00",
          "2017-07-16T00:00:00",
          "2017-07-23T00:00:00",
          "2017-07-30T00:00:00",
          "2017-08-06T00:00:00",
          "2017-08-13T00:00:00",
          "2017-08-20T00:00:00",
          "2017-08-27T00:00:00",
          "2017-09-03T00:00:00",
          "2017-09-10T00:00:00",
          "2017-09-17T00:00:00",
          "2017-09-24T00:00:00",
          "2017-10-01T00:00:00",
          "2017-10-08T00:00:00",
          "2017-10-15T00:00:00",
          "2017-10-22T00:00:00",
          "2017-10-29T00:00:00",
          "2017-11-05T00:00:00",
          "2017-11-12T00:00:00",
          "2017-11-19T00:00:00",
          "2017-11-26T00:00:00",
          "2017-12-03T00:00:00",
          "2017-12-10T00:00:00",
          "2017-12-17T00:00:00",
          "2017-12-24T00:00:00",
          "2017-12-31T00:00:00",
          "2018-01-07T00:00:00",
          "2018-01-14T00:00:00",
          "2018-01-21T00:00:00",
          "2018-01-28T00:00:00",
          "2018-02-04T00:00:00",
          "2018-02-11T00:00:00",
          "2018-02-18T00:00:00",
          "2018-02-25T00:00:00",
          "2018-03-04T00:00:00",
          "2018-03-11T00:00:00",
          "2018-03-18T00:00:00",
          "2018-03-25T00:00:00"
         ],
         "y": [
          1.3012962962962962,
          1.3706481481481485,
          1.391111111111111,
          1.3971296296296296,
          1.2470370370370376,
          1.310462962962963,
          1.3875925925925925,
          1.3626851851851853,
          1.3110185185185188,
          1.360092592592593,
          1.3919444444444447,
          1.3492592592592596,
          1.3975925925925925,
          1.4129629629629628,
          1.3639814814814817,
          1.3716666666666668,
          1.385185185185185,
          1.2838888888888889,
          1.3235185185185185,
          1.3531481481481475,
          1.3804629629629628,
          1.3824074074074078,
          1.3809259259259254,
          1.400462962962963,
          1.408425925925926,
          1.4064814814814826,
          1.4137962962962969,
          1.4156481481481482,
          1.3875,
          1.420833333333333,
          1.4773148148148147,
          1.4312962962962965,
          1.4498148148148144,
          1.4445370370370372,
          1.4194444444444447,
          1.434351851851852,
          1.4632407407407415,
          1.4480555555555554,
          1.450925925925925,
          1.4191666666666671,
          1.373333333333333,
          1.3923148148148148,
          1.3830555555555557,
          1.304907407407407,
          1.334351851851851,
          1.3400000000000003,
          1.3309259259259258,
          1.3428703703703706,
          1.2891588785046726,
          1.2878703703703707,
          1.3453703703703699,
          1.2984259259259257,
          1.2063888888888892,
          1.2276851851851853,
          1.2716666666666665,
          1.2422222222222221,
          1.2529629629629626,
          1.1738888888888885,
          1.2323148148148149,
          1.2766666666666666,
          1.265555555555556,
          1.2569444444444444,
          1.1970370370370373,
          1.1976851851851853,
          1.2451851851851852,
          1.2353703703703702,
          1.1737962962962962,
          1.2212962962962965,
          1.1896296296296296,
          1.163703703703704,
          1.1485185185185185,
          1.2158333333333333,
          1.2246296296296302,
          1.2459259259259254,
          1.2426851851851852,
          1.3009259259259256,
          1.2777777777777781,
          1.3108333333333333,
          1.294722222222222,
          1.3532407407407407,
          1.4280555555555554,
          1.4823148148148144,
          1.4483333333333335,
          1.4160185185185181,
          1.4188888888888889,
          1.4156481481481482,
          1.393888888888888,
          1.3720370370370376,
          1.3568518518518518,
          1.4481481481481482,
          1.5344444444444445,
          1.575277777777777,
          1.4829629629629626,
          1.4844444444444447,
          1.540740740740741,
          1.7020370370370363,
          1.6194444444444442,
          1.5844444444444448,
          1.4997222222222217,
          1.4964814814814817,
          1.369166666666666,
          1.3077777777777777,
          1.2771296296296295,
          1.309907407407408,
          1.2766666666666668,
          1.2944444444444445,
          1.3186111111111107,
          1.2232407407407406,
          1.2745370370370372,
          1.1447222222222224,
          1.2039814814814815,
          1.269351851851852,
          1.241111111111111,
          1.2874074074074078,
          1.4361111111111113,
          1.4681481481481486,
          1.4040740740740743,
          1.448055555555555,
          1.4659259259259256,
          1.5048148148148146,
          1.5437037037037034,
          1.5505555555555564,
          1.461666666666667,
          1.5283333333333344,
          1.5608333333333337,
          1.5795370370370367,
          1.5646296296296294,
          1.521574074074074,
          1.5385046728971974,
          1.556915887850467,
          1.5695370370370378,
          1.540277777777778,
          1.5810185185185188,
          1.5634259259259256,
          1.57037037037037,
          1.606203703703704,
          1.6415740740740736,
          1.7368518518518519,
          1.8112037037037036,
          1.8551851851851848,
          1.8438888888888891,
          1.8313888888888892,
          1.8333333333333333,
          1.8712962962962971,
          1.8433333333333337,
          1.7828703703703699,
          1.6645370370370371,
          1.600185185185185,
          1.5590740740740738,
          1.508796296296296,
          1.4991666666666663,
          1.5021296296296298,
          1.3853703703703704,
          1.341481481481482,
          1.3689814814814814,
          1.439907407407407,
          1.2835185185185183,
          1.357777777777778,
          1.4225925925925924,
          1.3771296296296298,
          1.3922222222222234,
          1.2340740740740739,
          1.307037037037037,
          1.3740740740740738,
          1.3596296296296293,
          1.3501851851851854,
          1.335092592592593,
          1.3137037037037034,
          1.3468518518518513
         ]
        },
        {
         "name": "forecast",
         "type": "scatter",
         "x": [
          "2015-01-04T00:00:00",
          "2015-01-11T00:00:00",
          "2015-01-18T00:00:00",
          "2015-01-25T00:00:00",
          "2015-02-01T00:00:00",
          "2015-02-08T00:00:00",
          "2015-02-15T00:00:00",
          "2015-02-22T00:00:00",
          "2015-03-01T00:00:00",
          "2015-03-08T00:00:00",
          "2015-03-15T00:00:00",
          "2015-03-22T00:00:00",
          "2015-03-29T00:00:00",
          "2015-04-05T00:00:00",
          "2015-04-12T00:00:00",
          "2015-04-19T00:00:00",
          "2015-04-26T00:00:00",
          "2015-05-03T00:00:00",
          "2015-05-10T00:00:00",
          "2015-05-17T00:00:00",
          "2015-05-24T00:00:00",
          "2015-05-31T00:00:00",
          "2015-06-07T00:00:00",
          "2015-06-14T00:00:00",
          "2015-06-21T00:00:00",
          "2015-06-28T00:00:00",
          "2015-07-05T00:00:00",
          "2015-07-12T00:00:00",
          "2015-07-19T00:00:00",
          "2015-07-26T00:00:00",
          "2015-08-02T00:00:00",
          "2015-08-09T00:00:00",
          "2015-08-16T00:00:00",
          "2015-08-23T00:00:00",
          "2015-08-30T00:00:00",
          "2015-09-06T00:00:00",
          "2015-09-13T00:00:00",
          "2015-09-20T00:00:00",
          "2015-09-27T00:00:00",
          "2015-10-04T00:00:00",
          "2015-10-11T00:00:00",
          "2015-10-18T00:00:00",
          "2015-10-25T00:00:00",
          "2015-11-01T00:00:00",
          "2015-11-08T00:00:00",
          "2015-11-15T00:00:00",
          "2015-11-22T00:00:00",
          "2015-11-29T00:00:00",
          "2015-12-06T00:00:00",
          "2015-12-13T00:00:00",
          "2015-12-20T00:00:00",
          "2015-12-27T00:00:00",
          "2016-01-03T00:00:00",
          "2016-01-10T00:00:00",
          "2016-01-17T00:00:00",
          "2016-01-24T00:00:00",
          "2016-01-31T00:00:00",
          "2016-02-07T00:00:00",
          "2016-02-14T00:00:00",
          "2016-02-21T00:00:00",
          "2016-02-28T00:00:00",
          "2016-03-06T00:00:00",
          "2016-03-13T00:00:00",
          "2016-03-20T00:00:00",
          "2016-03-27T00:00:00",
          "2016-04-03T00:00:00",
          "2016-04-10T00:00:00",
          "2016-04-17T00:00:00",
          "2016-04-24T00:00:00",
          "2016-05-01T00:00:00",
          "2016-05-08T00:00:00",
          "2016-05-15T00:00:00",
          "2016-05-22T00:00:00",
          "2016-05-29T00:00:00",
          "2016-06-05T00:00:00",
          "2016-06-12T00:00:00",
          "2016-06-19T00:00:00",
          "2016-06-26T00:00:00",
          "2016-07-03T00:00:00",
          "2016-07-10T00:00:00",
          "2016-07-17T00:00:00",
          "2016-07-24T00:00:00",
          "2016-07-31T00:00:00",
          "2016-08-07T00:00:00",
          "2016-08-14T00:00:00",
          "2016-08-21T00:00:00",
          "2016-08-28T00:00:00",
          "2016-09-04T00:00:00",
          "2016-09-11T00:00:00",
          "2016-09-18T00:00:00",
          "2016-09-25T00:00:00",
          "2016-10-02T00:00:00",
          "2016-10-09T00:00:00",
          "2016-10-16T00:00:00",
          "2016-10-23T00:00:00",
          "2016-10-30T00:00:00",
          "2016-11-06T00:00:00",
          "2016-11-13T00:00:00",
          "2016-11-20T00:00:00",
          "2016-11-27T00:00:00",
          "2016-12-04T00:00:00",
          "2016-12-11T00:00:00",
          "2016-12-18T00:00:00",
          "2016-12-25T00:00:00",
          "2017-01-01T00:00:00",
          "2017-01-08T00:00:00",
          "2017-01-15T00:00:00",
          "2017-01-22T00:00:00",
          "2017-01-29T00:00:00",
          "2017-02-05T00:00:00",
          "2017-02-12T00:00:00",
          "2017-02-19T00:00:00",
          "2017-02-26T00:00:00",
          "2017-03-05T00:00:00",
          "2017-03-12T00:00:00",
          "2017-03-19T00:00:00",
          "2017-03-26T00:00:00",
          "2017-04-02T00:00:00",
          "2017-04-09T00:00:00",
          "2017-04-16T00:00:00",
          "2017-04-23T00:00:00",
          "2017-04-30T00:00:00",
          "2017-05-07T00:00:00",
          "2017-05-14T00:00:00",
          "2017-05-21T00:00:00",
          "2017-05-28T00:00:00",
          "2017-06-04T00:00:00",
          "2017-06-11T00:00:00",
          "2017-06-18T00:00:00",
          "2017-06-25T00:00:00",
          "2017-07-02T00:00:00",
          "2017-07-09T00:00:00",
          "2017-07-16T00:00:00",
          "2017-07-23T00:00:00",
          "2017-07-30T00:00:00",
          "2017-08-06T00:00:00",
          "2017-08-13T00:00:00",
          "2017-08-20T00:00:00",
          "2017-08-27T00:00:00",
          "2017-09-03T00:00:00",
          "2017-09-10T00:00:00",
          "2017-09-17T00:00:00",
          "2017-09-24T00:00:00",
          "2017-10-01T00:00:00",
          "2017-10-08T00:00:00",
          "2017-10-15T00:00:00",
          "2017-10-22T00:00:00",
          "2017-10-29T00:00:00",
          "2017-11-05T00:00:00",
          "2017-11-12T00:00:00",
          "2017-11-19T00:00:00",
          "2017-11-26T00:00:00",
          "2017-12-03T00:00:00",
          "2017-12-10T00:00:00",
          "2017-12-17T00:00:00",
          "2017-12-24T00:00:00",
          "2017-12-31T00:00:00",
          "2018-01-07T00:00:00",
          "2018-01-14T00:00:00",
          "2018-01-21T00:00:00",
          "2018-01-28T00:00:00",
          "2018-02-04T00:00:00",
          "2018-02-11T00:00:00",
          "2018-02-18T00:00:00",
          "2018-02-25T00:00:00",
          "2018-03-04T00:00:00",
          "2018-03-11T00:00:00",
          "2018-03-18T00:00:00",
          "2018-03-25T00:00:00"
         ],
         "y": [
          null,
          null,
          null,
          null,
          null,
          null,
          null,
          null,
          null,
          null,
          null,
          null,
          null,
          null,
          null,
          null,
          null,
          null,
          null,
          null,
          null,
          null,
          null,
          null,
          null,
          null,
          null,
          null,
          null,
          null,
          null,
          null,
          null,
          null,
          null,
          null,
          null,
          null,
          null,
          null,
          null,
          null,
          null,
          null,
          null,
          null,
          null,
          null,
          null,
          null,
          null,
          null,
          null,
          null,
          null,
          null,
          null,
          null,
          null,
          null,
          null,
          null,
          null,
          null,
          null,
          null,
          null,
          null,
          null,
          null,
          null,
          null,
          null,
          null,
          null,
          null,
          null,
          null,
          null,
          null,
          null,
          null,
          null,
          null,
          null,
          null,
          null,
          null,
          null,
          null,
          null,
          null,
          null,
          null,
          null,
          null,
          null,
          null,
          null,
          null,
          null,
          null,
          null,
          null,
          null,
          null,
          null,
          null,
          null,
          null,
          null,
          null,
          null,
          null,
          null,
          null,
          null,
          null,
          null,
          null,
          null,
          null,
          null,
          null,
          null,
          null,
          null,
          null,
          null,
          null,
          null,
          null,
          null,
          null,
          null,
          1.561733603477478,
          1.584093451499939,
          1.5708045959472656,
          1.5812252759933472,
          1.5624568462371826,
          1.54586660861969,
          1.557786226272583,
          1.5513452291488647,
          1.5561612844467163,
          1.5538233518600464,
          1.5623034238815308,
          1.523330569267273,
          1.5157116651535034,
          1.4994144439697266,
          1.5002267360687256,
          1.5381073951721191,
          1.5426722764968872,
          1.5019583702087402,
          1.4242322444915771,
          1.4685360193252563,
          1.4603259563446045,
          1.431935429573059,
          1.2385315895080566,
          1.2485077381134033,
          1.2267510890960693,
          1.2628999948501587,
          1.1638556718826294,
          1.2261821031570435,
          1.270081639289856,
          1.2366269826889038,
          1.234287142753601,
          1.2513997554779053,
          1.2333158254623413,
          1.2442777156829834
         ]
        }
       ],
       "layout": {
        "template": {
         "data": {
          "bar": [
           {
            "error_x": {
             "color": "#2a3f5f"
            },
            "error_y": {
             "color": "#2a3f5f"
            },
            "marker": {
             "line": {
              "color": "#E5ECF6",
              "width": 0.5
             }
            },
            "type": "bar"
           }
          ],
          "barpolar": [
           {
            "marker": {
             "line": {
              "color": "#E5ECF6",
              "width": 0.5
             }
            },
            "type": "barpolar"
           }
          ],
          "carpet": [
           {
            "aaxis": {
             "endlinecolor": "#2a3f5f",
             "gridcolor": "white",
             "linecolor": "white",
             "minorgridcolor": "white",
             "startlinecolor": "#2a3f5f"
            },
            "baxis": {
             "endlinecolor": "#2a3f5f",
             "gridcolor": "white",
             "linecolor": "white",
             "minorgridcolor": "white",
             "startlinecolor": "#2a3f5f"
            },
            "type": "carpet"
           }
          ],
          "choropleth": [
           {
            "colorbar": {
             "outlinewidth": 0,
             "ticks": ""
            },
            "type": "choropleth"
           }
          ],
          "contour": [
           {
            "colorbar": {
             "outlinewidth": 0,
             "ticks": ""
            },
            "colorscale": [
             [
              0,
              "#0d0887"
             ],
             [
              0.1111111111111111,
              "#46039f"
             ],
             [
              0.2222222222222222,
              "#7201a8"
             ],
             [
              0.3333333333333333,
              "#9c179e"
             ],
             [
              0.4444444444444444,
              "#bd3786"
             ],
             [
              0.5555555555555556,
              "#d8576b"
             ],
             [
              0.6666666666666666,
              "#ed7953"
             ],
             [
              0.7777777777777778,
              "#fb9f3a"
             ],
             [
              0.8888888888888888,
              "#fdca26"
             ],
             [
              1,
              "#f0f921"
             ]
            ],
            "type": "contour"
           }
          ],
          "contourcarpet": [
           {
            "colorbar": {
             "outlinewidth": 0,
             "ticks": ""
            },
            "type": "contourcarpet"
           }
          ],
          "heatmap": [
           {
            "colorbar": {
             "outlinewidth": 0,
             "ticks": ""
            },
            "colorscale": [
             [
              0,
              "#0d0887"
             ],
             [
              0.1111111111111111,
              "#46039f"
             ],
             [
              0.2222222222222222,
              "#7201a8"
             ],
             [
              0.3333333333333333,
              "#9c179e"
             ],
             [
              0.4444444444444444,
              "#bd3786"
             ],
             [
              0.5555555555555556,
              "#d8576b"
             ],
             [
              0.6666666666666666,
              "#ed7953"
             ],
             [
              0.7777777777777778,
              "#fb9f3a"
             ],
             [
              0.8888888888888888,
              "#fdca26"
             ],
             [
              1,
              "#f0f921"
             ]
            ],
            "type": "heatmap"
           }
          ],
          "heatmapgl": [
           {
            "colorbar": {
             "outlinewidth": 0,
             "ticks": ""
            },
            "colorscale": [
             [
              0,
              "#0d0887"
             ],
             [
              0.1111111111111111,
              "#46039f"
             ],
             [
              0.2222222222222222,
              "#7201a8"
             ],
             [
              0.3333333333333333,
              "#9c179e"
             ],
             [
              0.4444444444444444,
              "#bd3786"
             ],
             [
              0.5555555555555556,
              "#d8576b"
             ],
             [
              0.6666666666666666,
              "#ed7953"
             ],
             [
              0.7777777777777778,
              "#fb9f3a"
             ],
             [
              0.8888888888888888,
              "#fdca26"
             ],
             [
              1,
              "#f0f921"
             ]
            ],
            "type": "heatmapgl"
           }
          ],
          "histogram": [
           {
            "marker": {
             "colorbar": {
              "outlinewidth": 0,
              "ticks": ""
             }
            },
            "type": "histogram"
           }
          ],
          "histogram2d": [
           {
            "colorbar": {
             "outlinewidth": 0,
             "ticks": ""
            },
            "colorscale": [
             [
              0,
              "#0d0887"
             ],
             [
              0.1111111111111111,
              "#46039f"
             ],
             [
              0.2222222222222222,
              "#7201a8"
             ],
             [
              0.3333333333333333,
              "#9c179e"
             ],
             [
              0.4444444444444444,
              "#bd3786"
             ],
             [
              0.5555555555555556,
              "#d8576b"
             ],
             [
              0.6666666666666666,
              "#ed7953"
             ],
             [
              0.7777777777777778,
              "#fb9f3a"
             ],
             [
              0.8888888888888888,
              "#fdca26"
             ],
             [
              1,
              "#f0f921"
             ]
            ],
            "type": "histogram2d"
           }
          ],
          "histogram2dcontour": [
           {
            "colorbar": {
             "outlinewidth": 0,
             "ticks": ""
            },
            "colorscale": [
             [
              0,
              "#0d0887"
             ],
             [
              0.1111111111111111,
              "#46039f"
             ],
             [
              0.2222222222222222,
              "#7201a8"
             ],
             [
              0.3333333333333333,
              "#9c179e"
             ],
             [
              0.4444444444444444,
              "#bd3786"
             ],
             [
              0.5555555555555556,
              "#d8576b"
             ],
             [
              0.6666666666666666,
              "#ed7953"
             ],
             [
              0.7777777777777778,
              "#fb9f3a"
             ],
             [
              0.8888888888888888,
              "#fdca26"
             ],
             [
              1,
              "#f0f921"
             ]
            ],
            "type": "histogram2dcontour"
           }
          ],
          "mesh3d": [
           {
            "colorbar": {
             "outlinewidth": 0,
             "ticks": ""
            },
            "type": "mesh3d"
           }
          ],
          "parcoords": [
           {
            "line": {
             "colorbar": {
              "outlinewidth": 0,
              "ticks": ""
             }
            },
            "type": "parcoords"
           }
          ],
          "pie": [
           {
            "automargin": true,
            "type": "pie"
           }
          ],
          "scatter": [
           {
            "marker": {
             "colorbar": {
              "outlinewidth": 0,
              "ticks": ""
             }
            },
            "type": "scatter"
           }
          ],
          "scatter3d": [
           {
            "line": {
             "colorbar": {
              "outlinewidth": 0,
              "ticks": ""
             }
            },
            "marker": {
             "colorbar": {
              "outlinewidth": 0,
              "ticks": ""
             }
            },
            "type": "scatter3d"
           }
          ],
          "scattercarpet": [
           {
            "marker": {
             "colorbar": {
              "outlinewidth": 0,
              "ticks": ""
             }
            },
            "type": "scattercarpet"
           }
          ],
          "scattergeo": [
           {
            "marker": {
             "colorbar": {
              "outlinewidth": 0,
              "ticks": ""
             }
            },
            "type": "scattergeo"
           }
          ],
          "scattergl": [
           {
            "marker": {
             "colorbar": {
              "outlinewidth": 0,
              "ticks": ""
             }
            },
            "type": "scattergl"
           }
          ],
          "scattermapbox": [
           {
            "marker": {
             "colorbar": {
              "outlinewidth": 0,
              "ticks": ""
             }
            },
            "type": "scattermapbox"
           }
          ],
          "scatterpolar": [
           {
            "marker": {
             "colorbar": {
              "outlinewidth": 0,
              "ticks": ""
             }
            },
            "type": "scatterpolar"
           }
          ],
          "scatterpolargl": [
           {
            "marker": {
             "colorbar": {
              "outlinewidth": 0,
              "ticks": ""
             }
            },
            "type": "scatterpolargl"
           }
          ],
          "scatterternary": [
           {
            "marker": {
             "colorbar": {
              "outlinewidth": 0,
              "ticks": ""
             }
            },
            "type": "scatterternary"
           }
          ],
          "surface": [
           {
            "colorbar": {
             "outlinewidth": 0,
             "ticks": ""
            },
            "colorscale": [
             [
              0,
              "#0d0887"
             ],
             [
              0.1111111111111111,
              "#46039f"
             ],
             [
              0.2222222222222222,
              "#7201a8"
             ],
             [
              0.3333333333333333,
              "#9c179e"
             ],
             [
              0.4444444444444444,
              "#bd3786"
             ],
             [
              0.5555555555555556,
              "#d8576b"
             ],
             [
              0.6666666666666666,
              "#ed7953"
             ],
             [
              0.7777777777777778,
              "#fb9f3a"
             ],
             [
              0.8888888888888888,
              "#fdca26"
             ],
             [
              1,
              "#f0f921"
             ]
            ],
            "type": "surface"
           }
          ],
          "table": [
           {
            "cells": {
             "fill": {
              "color": "#EBF0F8"
             },
             "line": {
              "color": "white"
             }
            },
            "header": {
             "fill": {
              "color": "#C8D4E3"
             },
             "line": {
              "color": "white"
             }
            },
            "type": "table"
           }
          ]
         },
         "layout": {
          "annotationdefaults": {
           "arrowcolor": "#2a3f5f",
           "arrowhead": 0,
           "arrowwidth": 1
          },
          "autotypenumbers": "strict",
          "coloraxis": {
           "colorbar": {
            "outlinewidth": 0,
            "ticks": ""
           }
          },
          "colorscale": {
           "diverging": [
            [
             0,
             "#8e0152"
            ],
            [
             0.1,
             "#c51b7d"
            ],
            [
             0.2,
             "#de77ae"
            ],
            [
             0.3,
             "#f1b6da"
            ],
            [
             0.4,
             "#fde0ef"
            ],
            [
             0.5,
             "#f7f7f7"
            ],
            [
             0.6,
             "#e6f5d0"
            ],
            [
             0.7,
             "#b8e186"
            ],
            [
             0.8,
             "#7fbc41"
            ],
            [
             0.9,
             "#4d9221"
            ],
            [
             1,
             "#276419"
            ]
           ],
           "sequential": [
            [
             0,
             "#0d0887"
            ],
            [
             0.1111111111111111,
             "#46039f"
            ],
            [
             0.2222222222222222,
             "#7201a8"
            ],
            [
             0.3333333333333333,
             "#9c179e"
            ],
            [
             0.4444444444444444,
             "#bd3786"
            ],
            [
             0.5555555555555556,
             "#d8576b"
            ],
            [
             0.6666666666666666,
             "#ed7953"
            ],
            [
             0.7777777777777778,
             "#fb9f3a"
            ],
            [
             0.8888888888888888,
             "#fdca26"
            ],
            [
             1,
             "#f0f921"
            ]
           ],
           "sequentialminus": [
            [
             0,
             "#0d0887"
            ],
            [
             0.1111111111111111,
             "#46039f"
            ],
            [
             0.2222222222222222,
             "#7201a8"
            ],
            [
             0.3333333333333333,
             "#9c179e"
            ],
            [
             0.4444444444444444,
             "#bd3786"
            ],
            [
             0.5555555555555556,
             "#d8576b"
            ],
            [
             0.6666666666666666,
             "#ed7953"
            ],
            [
             0.7777777777777778,
             "#fb9f3a"
            ],
            [
             0.8888888888888888,
             "#fdca26"
            ],
            [
             1,
             "#f0f921"
            ]
           ]
          },
          "colorway": [
           "#636efa",
           "#EF553B",
           "#00cc96",
           "#ab63fa",
           "#FFA15A",
           "#19d3f3",
           "#FF6692",
           "#B6E880",
           "#FF97FF",
           "#FECB52"
          ],
          "font": {
           "color": "#2a3f5f"
          },
          "geo": {
           "bgcolor": "white",
           "lakecolor": "white",
           "landcolor": "#E5ECF6",
           "showlakes": true,
           "showland": true,
           "subunitcolor": "white"
          },
          "hoverlabel": {
           "align": "left"
          },
          "hovermode": "closest",
          "mapbox": {
           "style": "light"
          },
          "paper_bgcolor": "white",
          "plot_bgcolor": "#E5ECF6",
          "polar": {
           "angularaxis": {
            "gridcolor": "white",
            "linecolor": "white",
            "ticks": ""
           },
           "bgcolor": "#E5ECF6",
           "radialaxis": {
            "gridcolor": "white",
            "linecolor": "white",
            "ticks": ""
           }
          },
          "scene": {
           "xaxis": {
            "backgroundcolor": "#E5ECF6",
            "gridcolor": "white",
            "gridwidth": 2,
            "linecolor": "white",
            "showbackground": true,
            "ticks": "",
            "zerolinecolor": "white"
           },
           "yaxis": {
            "backgroundcolor": "#E5ECF6",
            "gridcolor": "white",
            "gridwidth": 2,
            "linecolor": "white",
            "showbackground": true,
            "ticks": "",
            "zerolinecolor": "white"
           },
           "zaxis": {
            "backgroundcolor": "#E5ECF6",
            "gridcolor": "white",
            "gridwidth": 2,
            "linecolor": "white",
            "showbackground": true,
            "ticks": "",
            "zerolinecolor": "white"
           }
          },
          "shapedefaults": {
           "line": {
            "color": "#2a3f5f"
           }
          },
          "ternary": {
           "aaxis": {
            "gridcolor": "white",
            "linecolor": "white",
            "ticks": ""
           },
           "baxis": {
            "gridcolor": "white",
            "linecolor": "white",
            "ticks": ""
           },
           "bgcolor": "#E5ECF6",
           "caxis": {
            "gridcolor": "white",
            "linecolor": "white",
            "ticks": ""
           }
          },
          "title": {
           "x": 0.05
          },
          "xaxis": {
           "automargin": true,
           "gridcolor": "white",
           "linecolor": "white",
           "ticks": "",
           "title": {
            "standoff": 15
           },
           "zerolinecolor": "white",
           "zerolinewidth": 2
          },
          "yaxis": {
           "automargin": true,
           "gridcolor": "white",
           "linecolor": "white",
           "ticks": "",
           "title": {
            "standoff": 15
           },
           "zerolinecolor": "white",
           "zerolinewidth": 2
          }
         }
        },
        "title": {
         "text": "XGBoost time series forecast"
        },
        "xaxis": {
         "title": {
          "text": "Date"
         }
        },
        "yaxis": {
         "title": {
          "text": "Prices"
         }
        }
       }
      },
      "text/html": [
       "<div>                            <div id=\"8be7cbfa-f78e-49cc-b23d-d667d5b947a5\" class=\"plotly-graph-div\" style=\"height:525px; width:100%;\"></div>            <script type=\"text/javascript\">                require([\"plotly\"], function(Plotly) {                    window.PLOTLYENV=window.PLOTLYENV || {};                                    if (document.getElementById(\"8be7cbfa-f78e-49cc-b23d-d667d5b947a5\")) {                    Plotly.newPlot(                        \"8be7cbfa-f78e-49cc-b23d-d667d5b947a5\",                        [{\"name\": \"actual\", \"type\": \"scatter\", \"x\": [\"2015-01-04T00:00:00\", \"2015-01-11T00:00:00\", \"2015-01-18T00:00:00\", \"2015-01-25T00:00:00\", \"2015-02-01T00:00:00\", \"2015-02-08T00:00:00\", \"2015-02-15T00:00:00\", \"2015-02-22T00:00:00\", \"2015-03-01T00:00:00\", \"2015-03-08T00:00:00\", \"2015-03-15T00:00:00\", \"2015-03-22T00:00:00\", \"2015-03-29T00:00:00\", \"2015-04-05T00:00:00\", \"2015-04-12T00:00:00\", \"2015-04-19T00:00:00\", \"2015-04-26T00:00:00\", \"2015-05-03T00:00:00\", \"2015-05-10T00:00:00\", \"2015-05-17T00:00:00\", \"2015-05-24T00:00:00\", \"2015-05-31T00:00:00\", \"2015-06-07T00:00:00\", \"2015-06-14T00:00:00\", \"2015-06-21T00:00:00\", \"2015-06-28T00:00:00\", \"2015-07-05T00:00:00\", \"2015-07-12T00:00:00\", \"2015-07-19T00:00:00\", \"2015-07-26T00:00:00\", \"2015-08-02T00:00:00\", \"2015-08-09T00:00:00\", \"2015-08-16T00:00:00\", \"2015-08-23T00:00:00\", \"2015-08-30T00:00:00\", \"2015-09-06T00:00:00\", \"2015-09-13T00:00:00\", \"2015-09-20T00:00:00\", \"2015-09-27T00:00:00\", \"2015-10-04T00:00:00\", \"2015-10-11T00:00:00\", \"2015-10-18T00:00:00\", \"2015-10-25T00:00:00\", \"2015-11-01T00:00:00\", \"2015-11-08T00:00:00\", \"2015-11-15T00:00:00\", \"2015-11-22T00:00:00\", \"2015-11-29T00:00:00\", \"2015-12-06T00:00:00\", \"2015-12-13T00:00:00\", \"2015-12-20T00:00:00\", \"2015-12-27T00:00:00\", \"2016-01-03T00:00:00\", \"2016-01-10T00:00:00\", \"2016-01-17T00:00:00\", \"2016-01-24T00:00:00\", \"2016-01-31T00:00:00\", \"2016-02-07T00:00:00\", \"2016-02-14T00:00:00\", \"2016-02-21T00:00:00\", \"2016-02-28T00:00:00\", \"2016-03-06T00:00:00\", \"2016-03-13T00:00:00\", \"2016-03-20T00:00:00\", \"2016-03-27T00:00:00\", \"2016-04-03T00:00:00\", \"2016-04-10T00:00:00\", \"2016-04-17T00:00:00\", \"2016-04-24T00:00:00\", \"2016-05-01T00:00:00\", \"2016-05-08T00:00:00\", \"2016-05-15T00:00:00\", \"2016-05-22T00:00:00\", \"2016-05-29T00:00:00\", \"2016-06-05T00:00:00\", \"2016-06-12T00:00:00\", \"2016-06-19T00:00:00\", \"2016-06-26T00:00:00\", \"2016-07-03T00:00:00\", \"2016-07-10T00:00:00\", \"2016-07-17T00:00:00\", \"2016-07-24T00:00:00\", \"2016-07-31T00:00:00\", \"2016-08-07T00:00:00\", \"2016-08-14T00:00:00\", \"2016-08-21T00:00:00\", \"2016-08-28T00:00:00\", \"2016-09-04T00:00:00\", \"2016-09-11T00:00:00\", \"2016-09-18T00:00:00\", \"2016-09-25T00:00:00\", \"2016-10-02T00:00:00\", \"2016-10-09T00:00:00\", \"2016-10-16T00:00:00\", \"2016-10-23T00:00:00\", \"2016-10-30T00:00:00\", \"2016-11-06T00:00:00\", \"2016-11-13T00:00:00\", \"2016-11-20T00:00:00\", \"2016-11-27T00:00:00\", \"2016-12-04T00:00:00\", \"2016-12-11T00:00:00\", \"2016-12-18T00:00:00\", \"2016-12-25T00:00:00\", \"2017-01-01T00:00:00\", \"2017-01-08T00:00:00\", \"2017-01-15T00:00:00\", \"2017-01-22T00:00:00\", \"2017-01-29T00:00:00\", \"2017-02-05T00:00:00\", \"2017-02-12T00:00:00\", \"2017-02-19T00:00:00\", \"2017-02-26T00:00:00\", \"2017-03-05T00:00:00\", \"2017-03-12T00:00:00\", \"2017-03-19T00:00:00\", \"2017-03-26T00:00:00\", \"2017-04-02T00:00:00\", \"2017-04-09T00:00:00\", \"2017-04-16T00:00:00\", \"2017-04-23T00:00:00\", \"2017-04-30T00:00:00\", \"2017-05-07T00:00:00\", \"2017-05-14T00:00:00\", \"2017-05-21T00:00:00\", \"2017-05-28T00:00:00\", \"2017-06-04T00:00:00\", \"2017-06-11T00:00:00\", \"2017-06-18T00:00:00\", \"2017-06-25T00:00:00\", \"2017-07-02T00:00:00\", \"2017-07-09T00:00:00\", \"2017-07-16T00:00:00\", \"2017-07-23T00:00:00\", \"2017-07-30T00:00:00\", \"2017-08-06T00:00:00\", \"2017-08-13T00:00:00\", \"2017-08-20T00:00:00\", \"2017-08-27T00:00:00\", \"2017-09-03T00:00:00\", \"2017-09-10T00:00:00\", \"2017-09-17T00:00:00\", \"2017-09-24T00:00:00\", \"2017-10-01T00:00:00\", \"2017-10-08T00:00:00\", \"2017-10-15T00:00:00\", \"2017-10-22T00:00:00\", \"2017-10-29T00:00:00\", \"2017-11-05T00:00:00\", \"2017-11-12T00:00:00\", \"2017-11-19T00:00:00\", \"2017-11-26T00:00:00\", \"2017-12-03T00:00:00\", \"2017-12-10T00:00:00\", \"2017-12-17T00:00:00\", \"2017-12-24T00:00:00\", \"2017-12-31T00:00:00\", \"2018-01-07T00:00:00\", \"2018-01-14T00:00:00\", \"2018-01-21T00:00:00\", \"2018-01-28T00:00:00\", \"2018-02-04T00:00:00\", \"2018-02-11T00:00:00\", \"2018-02-18T00:00:00\", \"2018-02-25T00:00:00\", \"2018-03-04T00:00:00\", \"2018-03-11T00:00:00\", \"2018-03-18T00:00:00\", \"2018-03-25T00:00:00\"], \"y\": [1.3012962962962962, 1.3706481481481485, 1.391111111111111, 1.3971296296296296, 1.2470370370370376, 1.310462962962963, 1.3875925925925925, 1.3626851851851853, 1.3110185185185188, 1.360092592592593, 1.3919444444444447, 1.3492592592592596, 1.3975925925925925, 1.4129629629629628, 1.3639814814814817, 1.3716666666666668, 1.385185185185185, 1.2838888888888889, 1.3235185185185185, 1.3531481481481475, 1.3804629629629628, 1.3824074074074078, 1.3809259259259254, 1.400462962962963, 1.408425925925926, 1.4064814814814826, 1.4137962962962969, 1.4156481481481482, 1.3875, 1.420833333333333, 1.4773148148148147, 1.4312962962962965, 1.4498148148148144, 1.4445370370370372, 1.4194444444444447, 1.434351851851852, 1.4632407407407415, 1.4480555555555554, 1.450925925925925, 1.4191666666666671, 1.373333333333333, 1.3923148148148148, 1.3830555555555557, 1.304907407407407, 1.334351851851851, 1.3400000000000003, 1.3309259259259258, 1.3428703703703706, 1.2891588785046726, 1.2878703703703707, 1.3453703703703699, 1.2984259259259257, 1.2063888888888892, 1.2276851851851853, 1.2716666666666665, 1.2422222222222221, 1.2529629629629626, 1.1738888888888885, 1.2323148148148149, 1.2766666666666666, 1.265555555555556, 1.2569444444444444, 1.1970370370370373, 1.1976851851851853, 1.2451851851851852, 1.2353703703703702, 1.1737962962962962, 1.2212962962962965, 1.1896296296296296, 1.163703703703704, 1.1485185185185185, 1.2158333333333333, 1.2246296296296302, 1.2459259259259254, 1.2426851851851852, 1.3009259259259256, 1.2777777777777781, 1.3108333333333333, 1.294722222222222, 1.3532407407407407, 1.4280555555555554, 1.4823148148148144, 1.4483333333333335, 1.4160185185185181, 1.4188888888888889, 1.4156481481481482, 1.393888888888888, 1.3720370370370376, 1.3568518518518518, 1.4481481481481482, 1.5344444444444445, 1.575277777777777, 1.4829629629629626, 1.4844444444444447, 1.540740740740741, 1.7020370370370363, 1.6194444444444442, 1.5844444444444448, 1.4997222222222217, 1.4964814814814817, 1.369166666666666, 1.3077777777777777, 1.2771296296296295, 1.309907407407408, 1.2766666666666668, 1.2944444444444445, 1.3186111111111107, 1.2232407407407406, 1.2745370370370372, 1.1447222222222224, 1.2039814814814815, 1.269351851851852, 1.241111111111111, 1.2874074074074078, 1.4361111111111113, 1.4681481481481486, 1.4040740740740743, 1.448055555555555, 1.4659259259259256, 1.5048148148148146, 1.5437037037037034, 1.5505555555555564, 1.461666666666667, 1.5283333333333344, 1.5608333333333337, 1.5795370370370367, 1.5646296296296294, 1.521574074074074, 1.5385046728971974, 1.556915887850467, 1.5695370370370378, 1.540277777777778, 1.5810185185185188, 1.5634259259259256, 1.57037037037037, 1.606203703703704, 1.6415740740740736, 1.7368518518518519, 1.8112037037037036, 1.8551851851851848, 1.8438888888888891, 1.8313888888888892, 1.8333333333333333, 1.8712962962962971, 1.8433333333333337, 1.7828703703703699, 1.6645370370370371, 1.600185185185185, 1.5590740740740738, 1.508796296296296, 1.4991666666666663, 1.5021296296296298, 1.3853703703703704, 1.341481481481482, 1.3689814814814814, 1.439907407407407, 1.2835185185185183, 1.357777777777778, 1.4225925925925924, 1.3771296296296298, 1.3922222222222234, 1.2340740740740739, 1.307037037037037, 1.3740740740740738, 1.3596296296296293, 1.3501851851851854, 1.335092592592593, 1.3137037037037034, 1.3468518518518513]}, {\"name\": \"forecast\", \"type\": \"scatter\", \"x\": [\"2015-01-04T00:00:00\", \"2015-01-11T00:00:00\", \"2015-01-18T00:00:00\", \"2015-01-25T00:00:00\", \"2015-02-01T00:00:00\", \"2015-02-08T00:00:00\", \"2015-02-15T00:00:00\", \"2015-02-22T00:00:00\", \"2015-03-01T00:00:00\", \"2015-03-08T00:00:00\", \"2015-03-15T00:00:00\", \"2015-03-22T00:00:00\", \"2015-03-29T00:00:00\", \"2015-04-05T00:00:00\", \"2015-04-12T00:00:00\", \"2015-04-19T00:00:00\", \"2015-04-26T00:00:00\", \"2015-05-03T00:00:00\", \"2015-05-10T00:00:00\", \"2015-05-17T00:00:00\", \"2015-05-24T00:00:00\", \"2015-05-31T00:00:00\", \"2015-06-07T00:00:00\", \"2015-06-14T00:00:00\", \"2015-06-21T00:00:00\", \"2015-06-28T00:00:00\", \"2015-07-05T00:00:00\", \"2015-07-12T00:00:00\", \"2015-07-19T00:00:00\", \"2015-07-26T00:00:00\", \"2015-08-02T00:00:00\", \"2015-08-09T00:00:00\", \"2015-08-16T00:00:00\", \"2015-08-23T00:00:00\", \"2015-08-30T00:00:00\", \"2015-09-06T00:00:00\", \"2015-09-13T00:00:00\", \"2015-09-20T00:00:00\", \"2015-09-27T00:00:00\", \"2015-10-04T00:00:00\", \"2015-10-11T00:00:00\", \"2015-10-18T00:00:00\", \"2015-10-25T00:00:00\", \"2015-11-01T00:00:00\", \"2015-11-08T00:00:00\", \"2015-11-15T00:00:00\", \"2015-11-22T00:00:00\", \"2015-11-29T00:00:00\", \"2015-12-06T00:00:00\", \"2015-12-13T00:00:00\", \"2015-12-20T00:00:00\", \"2015-12-27T00:00:00\", \"2016-01-03T00:00:00\", \"2016-01-10T00:00:00\", \"2016-01-17T00:00:00\", \"2016-01-24T00:00:00\", \"2016-01-31T00:00:00\", \"2016-02-07T00:00:00\", \"2016-02-14T00:00:00\", \"2016-02-21T00:00:00\", \"2016-02-28T00:00:00\", \"2016-03-06T00:00:00\", \"2016-03-13T00:00:00\", \"2016-03-20T00:00:00\", \"2016-03-27T00:00:00\", \"2016-04-03T00:00:00\", \"2016-04-10T00:00:00\", \"2016-04-17T00:00:00\", \"2016-04-24T00:00:00\", \"2016-05-01T00:00:00\", \"2016-05-08T00:00:00\", \"2016-05-15T00:00:00\", \"2016-05-22T00:00:00\", \"2016-05-29T00:00:00\", \"2016-06-05T00:00:00\", \"2016-06-12T00:00:00\", \"2016-06-19T00:00:00\", \"2016-06-26T00:00:00\", \"2016-07-03T00:00:00\", \"2016-07-10T00:00:00\", \"2016-07-17T00:00:00\", \"2016-07-24T00:00:00\", \"2016-07-31T00:00:00\", \"2016-08-07T00:00:00\", \"2016-08-14T00:00:00\", \"2016-08-21T00:00:00\", \"2016-08-28T00:00:00\", \"2016-09-04T00:00:00\", \"2016-09-11T00:00:00\", \"2016-09-18T00:00:00\", \"2016-09-25T00:00:00\", \"2016-10-02T00:00:00\", \"2016-10-09T00:00:00\", \"2016-10-16T00:00:00\", \"2016-10-23T00:00:00\", \"2016-10-30T00:00:00\", \"2016-11-06T00:00:00\", \"2016-11-13T00:00:00\", \"2016-11-20T00:00:00\", \"2016-11-27T00:00:00\", \"2016-12-04T00:00:00\", \"2016-12-11T00:00:00\", \"2016-12-18T00:00:00\", \"2016-12-25T00:00:00\", \"2017-01-01T00:00:00\", \"2017-01-08T00:00:00\", \"2017-01-15T00:00:00\", \"2017-01-22T00:00:00\", \"2017-01-29T00:00:00\", \"2017-02-05T00:00:00\", \"2017-02-12T00:00:00\", \"2017-02-19T00:00:00\", \"2017-02-26T00:00:00\", \"2017-03-05T00:00:00\", \"2017-03-12T00:00:00\", \"2017-03-19T00:00:00\", \"2017-03-26T00:00:00\", \"2017-04-02T00:00:00\", \"2017-04-09T00:00:00\", \"2017-04-16T00:00:00\", \"2017-04-23T00:00:00\", \"2017-04-30T00:00:00\", \"2017-05-07T00:00:00\", \"2017-05-14T00:00:00\", \"2017-05-21T00:00:00\", \"2017-05-28T00:00:00\", \"2017-06-04T00:00:00\", \"2017-06-11T00:00:00\", \"2017-06-18T00:00:00\", \"2017-06-25T00:00:00\", \"2017-07-02T00:00:00\", \"2017-07-09T00:00:00\", \"2017-07-16T00:00:00\", \"2017-07-23T00:00:00\", \"2017-07-30T00:00:00\", \"2017-08-06T00:00:00\", \"2017-08-13T00:00:00\", \"2017-08-20T00:00:00\", \"2017-08-27T00:00:00\", \"2017-09-03T00:00:00\", \"2017-09-10T00:00:00\", \"2017-09-17T00:00:00\", \"2017-09-24T00:00:00\", \"2017-10-01T00:00:00\", \"2017-10-08T00:00:00\", \"2017-10-15T00:00:00\", \"2017-10-22T00:00:00\", \"2017-10-29T00:00:00\", \"2017-11-05T00:00:00\", \"2017-11-12T00:00:00\", \"2017-11-19T00:00:00\", \"2017-11-26T00:00:00\", \"2017-12-03T00:00:00\", \"2017-12-10T00:00:00\", \"2017-12-17T00:00:00\", \"2017-12-24T00:00:00\", \"2017-12-31T00:00:00\", \"2018-01-07T00:00:00\", \"2018-01-14T00:00:00\", \"2018-01-21T00:00:00\", \"2018-01-28T00:00:00\", \"2018-02-04T00:00:00\", \"2018-02-11T00:00:00\", \"2018-02-18T00:00:00\", \"2018-02-25T00:00:00\", \"2018-03-04T00:00:00\", \"2018-03-11T00:00:00\", \"2018-03-18T00:00:00\", \"2018-03-25T00:00:00\"], \"y\": [null, null, null, null, null, null, null, null, null, null, null, null, null, null, null, null, null, null, null, null, null, null, null, null, null, null, null, null, null, null, null, null, null, null, null, null, null, null, null, null, null, null, null, null, null, null, null, null, null, null, null, null, null, null, null, null, null, null, null, null, null, null, null, null, null, null, null, null, null, null, null, null, null, null, null, null, null, null, null, null, null, null, null, null, null, null, null, null, null, null, null, null, null, null, null, null, null, null, null, null, null, null, null, null, null, null, null, null, null, null, null, null, null, null, null, null, null, null, null, null, null, null, null, null, null, null, null, null, null, null, null, null, null, null, null, 1.561733603477478, 1.584093451499939, 1.5708045959472656, 1.5812252759933472, 1.5624568462371826, 1.54586660861969, 1.557786226272583, 1.5513452291488647, 1.5561612844467163, 1.5538233518600464, 1.5623034238815308, 1.523330569267273, 1.5157116651535034, 1.4994144439697266, 1.5002267360687256, 1.5381073951721191, 1.5426722764968872, 1.5019583702087402, 1.4242322444915771, 1.4685360193252563, 1.4603259563446045, 1.431935429573059, 1.2385315895080566, 1.2485077381134033, 1.2267510890960693, 1.2628999948501587, 1.1638556718826294, 1.2261821031570435, 1.270081639289856, 1.2366269826889038, 1.234287142753601, 1.2513997554779053, 1.2333158254623413, 1.2442777156829834]}],                        {\"template\": {\"data\": {\"bar\": [{\"error_x\": {\"color\": \"#2a3f5f\"}, \"error_y\": {\"color\": \"#2a3f5f\"}, \"marker\": {\"line\": {\"color\": \"#E5ECF6\", \"width\": 0.5}}, \"type\": \"bar\"}], \"barpolar\": [{\"marker\": {\"line\": {\"color\": \"#E5ECF6\", \"width\": 0.5}}, \"type\": \"barpolar\"}], \"carpet\": [{\"aaxis\": {\"endlinecolor\": \"#2a3f5f\", \"gridcolor\": \"white\", \"linecolor\": \"white\", \"minorgridcolor\": \"white\", \"startlinecolor\": \"#2a3f5f\"}, \"baxis\": {\"endlinecolor\": \"#2a3f5f\", \"gridcolor\": \"white\", \"linecolor\": \"white\", \"minorgridcolor\": \"white\", \"startlinecolor\": \"#2a3f5f\"}, \"type\": \"carpet\"}], \"choropleth\": [{\"colorbar\": {\"outlinewidth\": 0, \"ticks\": \"\"}, \"type\": \"choropleth\"}], \"contour\": [{\"colorbar\": {\"outlinewidth\": 0, \"ticks\": \"\"}, \"colorscale\": [[0.0, \"#0d0887\"], [0.1111111111111111, \"#46039f\"], [0.2222222222222222, \"#7201a8\"], [0.3333333333333333, \"#9c179e\"], [0.4444444444444444, \"#bd3786\"], [0.5555555555555556, \"#d8576b\"], [0.6666666666666666, \"#ed7953\"], [0.7777777777777778, \"#fb9f3a\"], [0.8888888888888888, \"#fdca26\"], [1.0, \"#f0f921\"]], \"type\": \"contour\"}], \"contourcarpet\": [{\"colorbar\": {\"outlinewidth\": 0, \"ticks\": \"\"}, \"type\": \"contourcarpet\"}], \"heatmap\": [{\"colorbar\": {\"outlinewidth\": 0, \"ticks\": \"\"}, \"colorscale\": [[0.0, \"#0d0887\"], [0.1111111111111111, \"#46039f\"], [0.2222222222222222, \"#7201a8\"], [0.3333333333333333, \"#9c179e\"], [0.4444444444444444, \"#bd3786\"], [0.5555555555555556, \"#d8576b\"], [0.6666666666666666, \"#ed7953\"], [0.7777777777777778, \"#fb9f3a\"], [0.8888888888888888, \"#fdca26\"], [1.0, \"#f0f921\"]], \"type\": \"heatmap\"}], \"heatmapgl\": [{\"colorbar\": {\"outlinewidth\": 0, \"ticks\": \"\"}, \"colorscale\": [[0.0, \"#0d0887\"], [0.1111111111111111, \"#46039f\"], [0.2222222222222222, \"#7201a8\"], [0.3333333333333333, \"#9c179e\"], [0.4444444444444444, \"#bd3786\"], [0.5555555555555556, \"#d8576b\"], [0.6666666666666666, \"#ed7953\"], [0.7777777777777778, \"#fb9f3a\"], [0.8888888888888888, \"#fdca26\"], [1.0, \"#f0f921\"]], \"type\": \"heatmapgl\"}], \"histogram\": [{\"marker\": {\"colorbar\": {\"outlinewidth\": 0, \"ticks\": \"\"}}, \"type\": \"histogram\"}], \"histogram2d\": [{\"colorbar\": {\"outlinewidth\": 0, \"ticks\": \"\"}, \"colorscale\": [[0.0, \"#0d0887\"], [0.1111111111111111, \"#46039f\"], [0.2222222222222222, \"#7201a8\"], [0.3333333333333333, \"#9c179e\"], [0.4444444444444444, \"#bd3786\"], [0.5555555555555556, \"#d8576b\"], [0.6666666666666666, \"#ed7953\"], [0.7777777777777778, \"#fb9f3a\"], [0.8888888888888888, \"#fdca26\"], [1.0, \"#f0f921\"]], \"type\": \"histogram2d\"}], \"histogram2dcontour\": [{\"colorbar\": {\"outlinewidth\": 0, \"ticks\": \"\"}, \"colorscale\": [[0.0, \"#0d0887\"], [0.1111111111111111, \"#46039f\"], [0.2222222222222222, \"#7201a8\"], [0.3333333333333333, \"#9c179e\"], [0.4444444444444444, \"#bd3786\"], [0.5555555555555556, \"#d8576b\"], [0.6666666666666666, \"#ed7953\"], [0.7777777777777778, \"#fb9f3a\"], [0.8888888888888888, \"#fdca26\"], [1.0, \"#f0f921\"]], \"type\": \"histogram2dcontour\"}], \"mesh3d\": [{\"colorbar\": {\"outlinewidth\": 0, \"ticks\": \"\"}, \"type\": \"mesh3d\"}], \"parcoords\": [{\"line\": {\"colorbar\": {\"outlinewidth\": 0, \"ticks\": \"\"}}, \"type\": \"parcoords\"}], \"pie\": [{\"automargin\": true, \"type\": \"pie\"}], \"scatter\": [{\"marker\": {\"colorbar\": {\"outlinewidth\": 0, \"ticks\": \"\"}}, \"type\": \"scatter\"}], \"scatter3d\": [{\"line\": {\"colorbar\": {\"outlinewidth\": 0, \"ticks\": \"\"}}, \"marker\": {\"colorbar\": {\"outlinewidth\": 0, \"ticks\": \"\"}}, \"type\": \"scatter3d\"}], \"scattercarpet\": [{\"marker\": {\"colorbar\": {\"outlinewidth\": 0, \"ticks\": \"\"}}, \"type\": \"scattercarpet\"}], \"scattergeo\": [{\"marker\": {\"colorbar\": {\"outlinewidth\": 0, \"ticks\": \"\"}}, \"type\": \"scattergeo\"}], \"scattergl\": [{\"marker\": {\"colorbar\": {\"outlinewidth\": 0, \"ticks\": \"\"}}, \"type\": \"scattergl\"}], \"scattermapbox\": [{\"marker\": {\"colorbar\": {\"outlinewidth\": 0, \"ticks\": \"\"}}, \"type\": \"scattermapbox\"}], \"scatterpolar\": [{\"marker\": {\"colorbar\": {\"outlinewidth\": 0, \"ticks\": \"\"}}, \"type\": \"scatterpolar\"}], \"scatterpolargl\": [{\"marker\": {\"colorbar\": {\"outlinewidth\": 0, \"ticks\": \"\"}}, \"type\": \"scatterpolargl\"}], \"scatterternary\": [{\"marker\": {\"colorbar\": {\"outlinewidth\": 0, \"ticks\": \"\"}}, \"type\": \"scatterternary\"}], \"surface\": [{\"colorbar\": {\"outlinewidth\": 0, \"ticks\": \"\"}, \"colorscale\": [[0.0, \"#0d0887\"], [0.1111111111111111, \"#46039f\"], [0.2222222222222222, \"#7201a8\"], [0.3333333333333333, \"#9c179e\"], [0.4444444444444444, \"#bd3786\"], [0.5555555555555556, \"#d8576b\"], [0.6666666666666666, \"#ed7953\"], [0.7777777777777778, \"#fb9f3a\"], [0.8888888888888888, \"#fdca26\"], [1.0, \"#f0f921\"]], \"type\": \"surface\"}], \"table\": [{\"cells\": {\"fill\": {\"color\": \"#EBF0F8\"}, \"line\": {\"color\": \"white\"}}, \"header\": {\"fill\": {\"color\": \"#C8D4E3\"}, \"line\": {\"color\": \"white\"}}, \"type\": \"table\"}]}, \"layout\": {\"annotationdefaults\": {\"arrowcolor\": \"#2a3f5f\", \"arrowhead\": 0, \"arrowwidth\": 1}, \"autotypenumbers\": \"strict\", \"coloraxis\": {\"colorbar\": {\"outlinewidth\": 0, \"ticks\": \"\"}}, \"colorscale\": {\"diverging\": [[0, \"#8e0152\"], [0.1, \"#c51b7d\"], [0.2, \"#de77ae\"], [0.3, \"#f1b6da\"], [0.4, \"#fde0ef\"], [0.5, \"#f7f7f7\"], [0.6, \"#e6f5d0\"], [0.7, \"#b8e186\"], [0.8, \"#7fbc41\"], [0.9, \"#4d9221\"], [1, \"#276419\"]], \"sequential\": [[0.0, \"#0d0887\"], [0.1111111111111111, \"#46039f\"], [0.2222222222222222, \"#7201a8\"], [0.3333333333333333, \"#9c179e\"], [0.4444444444444444, \"#bd3786\"], [0.5555555555555556, \"#d8576b\"], [0.6666666666666666, \"#ed7953\"], [0.7777777777777778, \"#fb9f3a\"], [0.8888888888888888, \"#fdca26\"], [1.0, \"#f0f921\"]], \"sequentialminus\": [[0.0, \"#0d0887\"], [0.1111111111111111, \"#46039f\"], [0.2222222222222222, \"#7201a8\"], [0.3333333333333333, \"#9c179e\"], [0.4444444444444444, \"#bd3786\"], [0.5555555555555556, \"#d8576b\"], [0.6666666666666666, \"#ed7953\"], [0.7777777777777778, \"#fb9f3a\"], [0.8888888888888888, \"#fdca26\"], [1.0, \"#f0f921\"]]}, \"colorway\": [\"#636efa\", \"#EF553B\", \"#00cc96\", \"#ab63fa\", \"#FFA15A\", \"#19d3f3\", \"#FF6692\", \"#B6E880\", \"#FF97FF\", \"#FECB52\"], \"font\": {\"color\": \"#2a3f5f\"}, \"geo\": {\"bgcolor\": \"white\", \"lakecolor\": \"white\", \"landcolor\": \"#E5ECF6\", \"showlakes\": true, \"showland\": true, \"subunitcolor\": \"white\"}, \"hoverlabel\": {\"align\": \"left\"}, \"hovermode\": \"closest\", \"mapbox\": {\"style\": \"light\"}, \"paper_bgcolor\": \"white\", \"plot_bgcolor\": \"#E5ECF6\", \"polar\": {\"angularaxis\": {\"gridcolor\": \"white\", \"linecolor\": \"white\", \"ticks\": \"\"}, \"bgcolor\": \"#E5ECF6\", \"radialaxis\": {\"gridcolor\": \"white\", \"linecolor\": \"white\", \"ticks\": \"\"}}, \"scene\": {\"xaxis\": {\"backgroundcolor\": \"#E5ECF6\", \"gridcolor\": \"white\", \"gridwidth\": 2, \"linecolor\": \"white\", \"showbackground\": true, \"ticks\": \"\", \"zerolinecolor\": \"white\"}, \"yaxis\": {\"backgroundcolor\": \"#E5ECF6\", \"gridcolor\": \"white\", \"gridwidth\": 2, \"linecolor\": \"white\", \"showbackground\": true, \"ticks\": \"\", \"zerolinecolor\": \"white\"}, \"zaxis\": {\"backgroundcolor\": \"#E5ECF6\", \"gridcolor\": \"white\", \"gridwidth\": 2, \"linecolor\": \"white\", \"showbackground\": true, \"ticks\": \"\", \"zerolinecolor\": \"white\"}}, \"shapedefaults\": {\"line\": {\"color\": \"#2a3f5f\"}}, \"ternary\": {\"aaxis\": {\"gridcolor\": \"white\", \"linecolor\": \"white\", \"ticks\": \"\"}, \"baxis\": {\"gridcolor\": \"white\", \"linecolor\": \"white\", \"ticks\": \"\"}, \"bgcolor\": \"#E5ECF6\", \"caxis\": {\"gridcolor\": \"white\", \"linecolor\": \"white\", \"ticks\": \"\"}}, \"title\": {\"x\": 0.05}, \"xaxis\": {\"automargin\": true, \"gridcolor\": \"white\", \"linecolor\": \"white\", \"ticks\": \"\", \"title\": {\"standoff\": 15}, \"zerolinecolor\": \"white\", \"zerolinewidth\": 2}, \"yaxis\": {\"automargin\": true, \"gridcolor\": \"white\", \"linecolor\": \"white\", \"ticks\": \"\", \"title\": {\"standoff\": 15}, \"zerolinecolor\": \"white\", \"zerolinewidth\": 2}}}, \"title\": {\"text\": \"XGBoost time series forecast\"}, \"xaxis\": {\"title\": {\"text\": \"Date\"}}, \"yaxis\": {\"title\": {\"text\": \"Prices\"}}},                        {\"responsive\": true}                    ).then(function(){\n",
       "                            \n",
       "var gd = document.getElementById('8be7cbfa-f78e-49cc-b23d-d667d5b947a5');\n",
       "var x = new MutationObserver(function (mutations, observer) {{\n",
       "        var display = window.getComputedStyle(gd).display;\n",
       "        if (!display || display === 'none') {{\n",
       "            console.log([gd, 'removed!']);\n",
       "            Plotly.purge(gd);\n",
       "            observer.disconnect();\n",
       "        }}\n",
       "}});\n",
       "\n",
       "// Listen for the removal of the full notebook cells\n",
       "var notebookContainer = gd.closest('#notebook-container');\n",
       "if (notebookContainer) {{\n",
       "    x.observe(notebookContainer, {childList: true});\n",
       "}}\n",
       "\n",
       "// Listen for the clearing of the current output cell\n",
       "var outputEl = gd.closest('.output');\n",
       "if (outputEl) {{\n",
       "    x.observe(outputEl, {childList: true});\n",
       "}}\n",
       "\n",
       "                        })                };                });            </script>        </div>"
      ]
     },
     "metadata": {},
     "output_type": "display_data"
    },
    {
     "name": "stdout",
     "output_type": "stream",
     "text": [
      "MAE: 0.20315506900058072 MSE: 0.07366058699490972\n"
     ]
    }
   ],
   "source": [
    "reg = xgb.XGBRegressor(n_estimators=1000, learning_rate = 0.09, max_depth = 8)\n",
    "reg.fit(X_train, y_train,\n",
    "        eval_set=[(X_train, y_train), (X_test, y_test)],\n",
    "        early_stopping_rounds=50,\n",
    "       verbose=False, ) # Change verbose to True if you want to see it train\n",
    "\n",
    "data_test[\"averageprice_prediction\"] = reg.predict(X_test)\n",
    "data_all = pd.concat([data_test, data_train], sort = False)\n",
    "\n",
    "scatter = go.Scatter(x = data.groupby('date').mean().index, y = data.groupby('date').mean().averageprice , name = 'actual')\n",
    "scatter2 = go.Scatter(x = data_all.groupby('date').mean().index, y = data_all.groupby('date').mean().averageprice_prediction, name = 'forecast')\n",
    "\n",
    "layout = go.Layout(title = 'XGBoost time series forecast', xaxis ={'title':'Date'}, yaxis = {'title':'Prices'})\n",
    "figure = go.Figure(data = [scatter, scatter2], layout = layout)\n",
    "iplot(figure)\n",
    "\n",
    "\n",
    "mse = mean_squared_error(y_true=data_test['averageprice'], y_pred=data_test['averageprice_prediction'])\n",
    "mae = mean_absolute_error(y_true=data_test['averageprice'], y_pred=data_test['averageprice_prediction'])\n",
    "\n",
    "print(\"MAE:\", mae, \"MSE:\",mse)"
   ]
  }
 ],
 "metadata": {
  "kernelspec": {
   "display_name": "Python 3",
   "language": "python",
   "name": "python3"
  },
  "language_info": {
   "codemirror_mode": {
    "name": "ipython",
    "version": 3
   },
   "file_extension": ".py",
   "mimetype": "text/x-python",
   "name": "python",
   "nbconvert_exporter": "python",
   "pygments_lexer": "ipython3",
   "version": "3.7.4"
  }
 },
 "nbformat": 4,
 "nbformat_minor": 2
}
